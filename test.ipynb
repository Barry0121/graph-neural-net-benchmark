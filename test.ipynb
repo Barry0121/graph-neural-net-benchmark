{
 "cells": [
  {
   "cell_type": "code",
   "execution_count": 1,
   "metadata": {},
   "outputs": [],
   "source": [
    "%load_ext autoreload\n",
    "%autoreload 2\n",
    "\n",
    "# Standard pacakges\n",
    "import torch\n",
    "from torch import nn, utils\n",
    "import numpy as np\n",
    "import time, re, os, tqdm\n",
    "import argparse\n",
    "\n",
    "# Pytroch Geometric\n",
    "import torch_geometric.transforms as T\n",
    "from torch_geometric import nn as gnn\n",
    "\n",
    "# Import custom scripts\n",
    "from src.models.utility import *\n",
    "from src.models.layers import *\n",
    "from src.models.models import *\n",
    "from src.visualizations.viz_utility import *"
   ]
  },
  {
   "cell_type": "code",
   "execution_count": 3,
   "metadata": {},
   "outputs": [
    {
     "name": "stderr",
     "output_type": "stream",
     "text": [
      "Downloading https://github.com/kimiyoung/planetoid/raw/master/data/ind.cora.x\n",
      "Downloading https://github.com/kimiyoung/planetoid/raw/master/data/ind.cora.tx\n",
      "Downloading https://github.com/kimiyoung/planetoid/raw/master/data/ind.cora.allx\n",
      "Downloading https://github.com/kimiyoung/planetoid/raw/master/data/ind.cora.y\n",
      "Downloading https://github.com/kimiyoung/planetoid/raw/master/data/ind.cora.ty\n",
      "Downloading https://github.com/kimiyoung/planetoid/raw/master/data/ind.cora.ally\n",
      "Downloading https://github.com/kimiyoung/planetoid/raw/master/data/ind.cora.graph\n",
      "Downloading https://github.com/kimiyoung/planetoid/raw/master/data/ind.cora.test.index\n",
      "Processing...\n",
      "Done!\n"
     ]
    },
    {
     "name": "stdout",
     "output_type": "stream",
     "text": [
      "Loads Cora dataset, at root location: ./test/testdata/cora\n",
      "Number of nodes: 2708\n",
      "Number of edges: 10556\n",
      "Average node degree: 3.90\n",
      "Number of training nodes: 140\n",
      "Training node label rate: 0.05\n"
     ]
    },
    {
     "ename": "NotImplementedError",
     "evalue": "The operator 'aten::index.Tensor' is not current implemented for the MPS device. If you want this op to be added in priority during the prototype phase of this feature, please comment on https://github.com/pytorch/pytorch/issues/77764. As a temporary fix, you can set the environment variable `PYTORCH_ENABLE_MPS_FALLBACK=1` to use the CPU as a fallback for this op. WARNING: this will be slower than running natively on MPS.",
     "output_type": "error",
     "traceback": [
      "\u001b[0;31m---------------------------------------------------------------------------\u001b[0m",
      "\u001b[0;31mNotImplementedError\u001b[0m                       Traceback (most recent call last)",
      "\u001b[1;32m/Users/barryxue/Desktop/dsc180-graph-neural-net/test.ipynb Cell 2\u001b[0m in \u001b[0;36m<cell line: 2>\u001b[0;34m()\u001b[0m\n\u001b[1;32m      <a href='vscode-notebook-cell:/Users/barryxue/Desktop/dsc180-graph-neural-net/test.ipynb#W1sZmlsZQ%3D%3D?line=0'>1</a>\u001b[0m filepath \u001b[39m=\u001b[39m \u001b[39m\"\u001b[39m\u001b[39m./test/testdata/cora\u001b[39m\u001b[39m\"\u001b[39m\n\u001b[0;32m----> <a href='vscode-notebook-cell:/Users/barryxue/Desktop/dsc180-graph-neural-net/test.ipynb#W1sZmlsZQ%3D%3D?line=1'>2</a>\u001b[0m data \u001b[39m=\u001b[39m loader_cora_torch(filepath\u001b[39m=\u001b[39;49mfilepath)\n",
      "File \u001b[0;32m~/Desktop/dsc180-graph-neural-net/src/models/utility.py:43\u001b[0m, in \u001b[0;36mloader_cora_torch\u001b[0;34m(filepath, num_train_per_class, num_val, num_test, transform, device)\u001b[0m\n\u001b[1;32m     41\u001b[0m \u001b[39mprint\u001b[39m(\u001b[39mf\u001b[39m\u001b[39m'\u001b[39m\u001b[39mNumber of training nodes: \u001b[39m\u001b[39m{\u001b[39;00mdata\u001b[39m.\u001b[39mtrain_mask\u001b[39m.\u001b[39msum()\u001b[39m}\u001b[39;00m\u001b[39m'\u001b[39m)\n\u001b[1;32m     42\u001b[0m \u001b[39mprint\u001b[39m(\u001b[39mf\u001b[39m\u001b[39m'\u001b[39m\u001b[39mTraining node label rate: \u001b[39m\u001b[39m{\u001b[39;00m\u001b[39mint\u001b[39m(data\u001b[39m.\u001b[39mtrain_mask\u001b[39m.\u001b[39msum()) \u001b[39m/\u001b[39m data\u001b[39m.\u001b[39mnum_nodes\u001b[39m:\u001b[39;00m\u001b[39m.2f\u001b[39m\u001b[39m}\u001b[39;00m\u001b[39m'\u001b[39m)\n\u001b[0;32m---> 43\u001b[0m \u001b[39mprint\u001b[39m(\u001b[39mf\u001b[39m\u001b[39m'\u001b[39m\u001b[39mHas isolated nodes: \u001b[39m\u001b[39m{\u001b[39;00mdata\u001b[39m.\u001b[39mhas_isolated_nodes()\u001b[39m}\u001b[39;00m\u001b[39m'\u001b[39m)\n\u001b[1;32m     44\u001b[0m \u001b[39mprint\u001b[39m(\u001b[39mf\u001b[39m\u001b[39m'\u001b[39m\u001b[39mHas self-loops: \u001b[39m\u001b[39m{\u001b[39;00mdata\u001b[39m.\u001b[39mhas_self_loops()\u001b[39m}\u001b[39;00m\u001b[39m'\u001b[39m)\n\u001b[1;32m     45\u001b[0m \u001b[39mprint\u001b[39m(\u001b[39mf\u001b[39m\u001b[39m'\u001b[39m\u001b[39mIs undirected: \u001b[39m\u001b[39m{\u001b[39;00mdata\u001b[39m.\u001b[39mis_undirected()\u001b[39m}\u001b[39;00m\u001b[39m'\u001b[39m)\n",
      "File \u001b[0;32m~/miniforge3/envs/py39/lib/python3.9/site-packages/torch_geometric/data/data.py:209\u001b[0m, in \u001b[0;36mBaseData.has_isolated_nodes\u001b[0;34m(self)\u001b[0m\n\u001b[1;32m    207\u001b[0m \u001b[39mdef\u001b[39;00m \u001b[39mhas_isolated_nodes\u001b[39m(\u001b[39mself\u001b[39m) \u001b[39m-\u001b[39m\u001b[39m>\u001b[39m \u001b[39mbool\u001b[39m:\n\u001b[1;32m    208\u001b[0m     \u001b[39mr\u001b[39m\u001b[39m\"\"\"Returns :obj:`True` if the graph contains isolated nodes.\"\"\"\u001b[39;00m\n\u001b[0;32m--> 209\u001b[0m     \u001b[39mreturn\u001b[39;00m \u001b[39many\u001b[39m([store\u001b[39m.\u001b[39mhas_isolated_nodes() \u001b[39mfor\u001b[39;00m store \u001b[39min\u001b[39;00m \u001b[39mself\u001b[39m\u001b[39m.\u001b[39medge_stores])\n",
      "File \u001b[0;32m~/miniforge3/envs/py39/lib/python3.9/site-packages/torch_geometric/data/data.py:209\u001b[0m, in \u001b[0;36m<listcomp>\u001b[0;34m(.0)\u001b[0m\n\u001b[1;32m    207\u001b[0m \u001b[39mdef\u001b[39;00m \u001b[39mhas_isolated_nodes\u001b[39m(\u001b[39mself\u001b[39m) \u001b[39m-\u001b[39m\u001b[39m>\u001b[39m \u001b[39mbool\u001b[39m:\n\u001b[1;32m    208\u001b[0m     \u001b[39mr\u001b[39m\u001b[39m\"\"\"Returns :obj:`True` if the graph contains isolated nodes.\"\"\"\u001b[39;00m\n\u001b[0;32m--> 209\u001b[0m     \u001b[39mreturn\u001b[39;00m \u001b[39many\u001b[39m([store\u001b[39m.\u001b[39;49mhas_isolated_nodes() \u001b[39mfor\u001b[39;00m store \u001b[39min\u001b[39;00m \u001b[39mself\u001b[39m\u001b[39m.\u001b[39medge_stores])\n",
      "File \u001b[0;32m~/miniforge3/envs/py39/lib/python3.9/site-packages/torch_geometric/data/storage.py:421\u001b[0m, in \u001b[0;36mEdgeStorage.has_isolated_nodes\u001b[0;34m(self)\u001b[0m\n\u001b[1;32m    419\u001b[0m     \u001b[39mreturn\u001b[39;00m torch\u001b[39m.\u001b[39munique(edge_index[\u001b[39m1\u001b[39m])\u001b[39m.\u001b[39mnumel() \u001b[39m<\u001b[39m num_nodes\n\u001b[1;32m    420\u001b[0m \u001b[39melse\u001b[39;00m:\n\u001b[0;32m--> 421\u001b[0m     \u001b[39mreturn\u001b[39;00m contains_isolated_nodes(edge_index, num_nodes)\n",
      "File \u001b[0;32m~/miniforge3/envs/py39/lib/python3.9/site-packages/torch_geometric/utils/isolated.py:20\u001b[0m, in \u001b[0;36mcontains_isolated_nodes\u001b[0;34m(edge_index, num_nodes)\u001b[0m\n\u001b[1;32m      9\u001b[0m \u001b[39mr\u001b[39m\u001b[39m\"\"\"Returns :obj:`True` if the graph given by :attr:`edge_index` contains\u001b[39;00m\n\u001b[1;32m     10\u001b[0m \u001b[39misolated nodes.\u001b[39;00m\n\u001b[1;32m     11\u001b[0m \n\u001b[0;32m   (...)\u001b[0m\n\u001b[1;32m     17\u001b[0m \u001b[39m:rtype: bool\u001b[39;00m\n\u001b[1;32m     18\u001b[0m \u001b[39m\"\"\"\u001b[39;00m\n\u001b[1;32m     19\u001b[0m num_nodes \u001b[39m=\u001b[39m maybe_num_nodes(edge_index, num_nodes)\n\u001b[0;32m---> 20\u001b[0m edge_index, _ \u001b[39m=\u001b[39m remove_self_loops(edge_index)\n\u001b[1;32m     21\u001b[0m \u001b[39mreturn\u001b[39;00m torch\u001b[39m.\u001b[39munique(edge_index\u001b[39m.\u001b[39mview(\u001b[39m-\u001b[39m\u001b[39m1\u001b[39m))\u001b[39m.\u001b[39mnumel() \u001b[39m<\u001b[39m num_nodes\n",
      "File \u001b[0;32m~/miniforge3/envs/py39/lib/python3.9/site-packages/torch_geometric/utils/loop.py:38\u001b[0m, in \u001b[0;36mremove_self_loops\u001b[0;34m(edge_index, edge_attr)\u001b[0m\n\u001b[1;32m     27\u001b[0m \u001b[39mr\u001b[39m\u001b[39m\"\"\"Removes every self-loop in the graph given by :attr:`edge_index`, so\u001b[39;00m\n\u001b[1;32m     28\u001b[0m \u001b[39mthat :math:`(i,i) \\not\\in \\mathcal{E}` for every :math:`i \\in \\mathcal{V}`.\u001b[39;00m\n\u001b[1;32m     29\u001b[0m \n\u001b[0;32m   (...)\u001b[0m\n\u001b[1;32m     35\u001b[0m \u001b[39m:rtype: (:class:`LongTensor`, :class:`Tensor`)\u001b[39;00m\n\u001b[1;32m     36\u001b[0m \u001b[39m\"\"\"\u001b[39;00m\n\u001b[1;32m     37\u001b[0m mask \u001b[39m=\u001b[39m edge_index[\u001b[39m0\u001b[39m] \u001b[39m!=\u001b[39m edge_index[\u001b[39m1\u001b[39m]\n\u001b[0;32m---> 38\u001b[0m edge_index \u001b[39m=\u001b[39m edge_index[:, mask]\n\u001b[1;32m     39\u001b[0m \u001b[39mif\u001b[39;00m edge_attr \u001b[39mis\u001b[39;00m \u001b[39mNone\u001b[39;00m:\n\u001b[1;32m     40\u001b[0m     \u001b[39mreturn\u001b[39;00m edge_index, \u001b[39mNone\u001b[39;00m\n",
      "\u001b[0;31mNotImplementedError\u001b[0m: The operator 'aten::index.Tensor' is not current implemented for the MPS device. If you want this op to be added in priority during the prototype phase of this feature, please comment on https://github.com/pytorch/pytorch/issues/77764. As a temporary fix, you can set the environment variable `PYTORCH_ENABLE_MPS_FALLBACK=1` to use the CPU as a fallback for this op. WARNING: this will be slower than running natively on MPS."
     ]
    }
   ],
   "source": [
    "\n",
    "filepath = \"./test/testdata/cora\"\n",
    "data = loader_cora_torch(filepath=filepath)"
   ]
  },
  {
   "cell_type": "code",
   "execution_count": null,
   "metadata": {},
   "outputs": [],
   "source": []
  }
 ],
 "metadata": {
  "kernelspec": {
   "display_name": "Python 3.9.10 ('py39')",
   "language": "python",
   "name": "python3"
  },
  "language_info": {
   "codemirror_mode": {
    "name": "ipython",
    "version": 3
   },
   "file_extension": ".py",
   "mimetype": "text/x-python",
   "name": "python",
   "nbconvert_exporter": "python",
   "pygments_lexer": "ipython3",
   "version": "3.9.10"
  },
  "orig_nbformat": 4,
  "vscode": {
   "interpreter": {
    "hash": "0ee9abc2f8ed4c2bec59380a88532f6c4409e3142704504d9be0d180fda6aa0f"
   }
  }
 },
 "nbformat": 4,
 "nbformat_minor": 2
}
