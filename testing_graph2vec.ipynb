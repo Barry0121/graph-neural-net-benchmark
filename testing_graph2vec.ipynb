{
 "cells": [
  {
   "cell_type": "code",
   "execution_count": 1,
   "metadata": {},
   "outputs": [],
   "source": [
    "import numpy as np"
   ]
  },
  {
   "cell_type": "code",
   "execution_count": 170,
   "metadata": {},
   "outputs": [],
   "source": [
    "def GetSubgraph(n, adj, d):\n",
    "    \"\"\"\n",
    "    Algorithm 2 in graph2vec.\n",
    "    \"\"\"\n",
    "    sg_dn = np.zeros(shape=adj.shape)\n",
    "    adj_vec = adj[n, :]\n",
    "    if d == 0: \n",
    "        sg_dn[n, :] += adj_vec\n",
    "        sg_dn[:, n] += adj_vec\n",
    "    else:\n",
    "        N_n = np.nonzero(adj_vec)[0] \n",
    "        for nprime in N_n:\n",
    "            if nprime != n:\n",
    "                save = GetSubgraph(nprime, adj, d - 1)\n",
    "                sg_dn += save\n",
    "    return sg_dn"
   ]
  },
  {
   "cell_type": "code",
   "execution_count": 171,
   "metadata": {},
   "outputs": [
    {
     "data": {
      "text/plain": [
       "array([[1, 1, 1, 1, 0, 1],\n",
       "       [1, 1, 1, 1, 0, 1],\n",
       "       [1, 1, 0, 0, 0, 0],\n",
       "       [1, 1, 0, 0, 1, 1],\n",
       "       [0, 0, 0, 1, 1, 0],\n",
       "       [1, 1, 0, 1, 0, 1]])"
      ]
     },
     "execution_count": 171,
     "metadata": {},
     "output_type": "execute_result"
    }
   ],
   "source": [
    "x = np.random.normal(size=(6,6))\n",
    "x = x + x.transpose() # + np.eye(6,6).astype(int)\n",
    "adj = np.where(x > 0, 1, 0)\n",
    "n = int(3)\n",
    "d = 2\n",
    "adj"
   ]
  },
  {
   "cell_type": "code",
   "execution_count": 172,
   "metadata": {},
   "outputs": [
    {
     "data": {
      "text/plain": [
       "array([[4., 4., 4., 6., 0., 4.],\n",
       "       [4., 4., 4., 6., 0., 4.],\n",
       "       [4., 4., 0., 0., 0., 0.],\n",
       "       [6., 6., 0., 0., 4., 6.],\n",
       "       [0., 0., 0., 4., 0., 0.],\n",
       "       [4., 4., 0., 6., 0., 4.]])"
      ]
     },
     "execution_count": 172,
     "metadata": {},
     "output_type": "execute_result"
    }
   ],
   "source": [
    "GetSubgraph(n, adj, d)"
   ]
  },
  {
   "cell_type": "code",
   "execution_count": null,
   "metadata": {},
   "outputs": [],
   "source": []
  }
 ],
 "metadata": {
  "kernelspec": {
   "display_name": "Python 3",
   "language": "python",
   "name": "python3"
  },
  "language_info": {
   "codemirror_mode": {
    "name": "ipython",
    "version": 3
   },
   "file_extension": ".py",
   "mimetype": "text/x-python",
   "name": "python",
   "nbconvert_exporter": "python",
   "pygments_lexer": "ipython3",
   "version": "3.9.13"
  },
  "orig_nbformat": 4,
  "vscode": {
   "interpreter": {
    "hash": "b0fa6594d8f4cbf19f97940f81e996739fb7646882a419484c72d19e05852a7e"
   }
  }
 },
 "nbformat": 4,
 "nbformat_minor": 2
}
