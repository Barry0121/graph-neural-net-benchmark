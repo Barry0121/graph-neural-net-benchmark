{
 "cells": [
  {
   "cell_type": "code",
   "execution_count": 70,
   "metadata": {},
   "outputs": [],
   "source": [
    "from src.param_parser import parameter_parser\n",
    "import json\n",
    "import random\n",
    "import networkx as nx\n",
    "import numpy as np\n",
    "import torch\n",
    "\n",
    "from src.gam import GAMTrainer, GAM\n",
    "from src.utils import create_features"
   ]
  },
  {
   "cell_type": "code",
   "execution_count": 20,
   "metadata": {},
   "outputs": [],
   "source": [
    "class ARGS(object):\n",
    "    def __init__(self):\n",
    "        self.train_graph_folder = './input/train/'\n",
    "        self.test_graph_folder = './input/test'\n",
    "        self.prediction_path = './output/erdos_predictions.csv'\n",
    "        self.log_path = './logs/erdos_gam_logs.json'\n",
    "        self.epochs = 10\n",
    "        self.step_dimensions = 32\n",
    "        self.combined_dimensions = 64\n",
    "        self.batch_size = 3\n",
    "        self.time = 10\n",
    "        self.repetitions = 10\n",
    "        self.gamma = 0.99\n",
    "        self.learning_rate = 0.001\n",
    "        self.weight_decay = 10 ** -5"
   ]
  },
  {
   "cell_type": "code",
   "execution_count": 21,
   "metadata": {},
   "outputs": [
    {
     "name": "stdout",
     "output_type": "stream",
     "text": [
      "\n",
      "Collecting unique node labels.\n",
      "\n"
     ]
    },
    {
     "name": "stderr",
     "output_type": "stream",
     "text": [
      "100%|██████████| 50/50 [00:00<00:00, 5860.26it/s]"
     ]
    },
    {
     "name": "stdout",
     "output_type": "stream",
     "text": [
      "\n",
      "\n",
      "The number of graph classes is: 3.\n",
      "\n"
     ]
    },
    {
     "name": "stderr",
     "output_type": "stream",
     "text": [
      "\n"
     ]
    }
   ],
   "source": [
    "args = ARGS()\n",
    "trainer = GAMTrainer(args=args)"
   ]
  },
  {
   "cell_type": "code",
   "execution_count": 68,
   "metadata": {},
   "outputs": [],
   "source": [
    "# figure out stupid JSON loading logic\n",
    "\n",
    "# understanding process_graph\n",
    "# 1. get dictionary with keys (target, edges, labels, inverse_labels), values as expected\n",
    "data = json.load(open(trainer.training_graphs[0]))\n",
    "# 2. create_features produces a NetworkX graph with its node features\n",
    "# features is a 2D tensor of one-hot labels for each node in graph (see create_features)\n",
    "graph, features = create_features(data, trainer.model.identifiers)\n",
    "# 3. pick a random node\n",
    "node = random.choice(list(graph.nodes))\n",
    "attention_loss = 0\n",
    "# 4. iterate for some time (limited by budget)\n",
    "for t in range(args.time):\n",
    "    # 5. call forward pass of GAM\n",
    "    predictions, node, attention_score = trainer.model(data, graph, features, node)\n",
    "    # in forward call of GAM, only instance of graph is the forward call to GAM.step_block (type: StepNetworkLayer)\n",
    "    # in forward call of GAM.step_block, graph only appears in step_block.make_step\n",
    "    # in call to make_step, two NetworkX functions are used:\n",
    "        # nx.neighbors\n",
    "            # can be replaced by torch.where(adj[node_id])?\n",
    "        # in step_block.sample_node_labels, which needs graph.nodes\n",
    "            # can be replaced by torch.range(adj.shape[0])?\n"
   ]
  },
  {
   "cell_type": "code",
   "execution_count": 73,
   "metadata": {},
   "outputs": [],
   "source": [
    "# understanding create_features\n",
    "\n",
    "identifiers = [1]\n",
    "# 1. make networkx graph without features \n",
    "# can be replaced with filling in a torch tensor of zeros\n",
    "graph = nx.from_edgelist(data[\"edges\"])\n",
    "# 2. fill in node feature matrix\n",
    "# features are one-hot vectors - not sure how important a feature matrix is, but we can possibly\n",
    "# replace it with a vector of one's whose length is the number of nodes (same as only having one\n",
    "# label)\n",
    "features = []\n",
    "for node in graph.nodes():\n",
    "    features.append([1.0 if data[\"labels\"][str(node)] == i else 0.0 for i in range(len(identifiers))])\n",
    "# 3. features cast to np.array and then torch.Tensor\n",
    "# features = np.array(features, dtype=np.float32)\n",
    "features = torch.tensor(features)"
   ]
  },
  {
   "cell_type": "code",
   "execution_count": 74,
   "metadata": {},
   "outputs": [],
   "source": [
    "# understanding process_batch\n",
    "# typical training loop"
   ]
  },
  {
   "cell_type": "code",
   "execution_count": null,
   "metadata": {},
   "outputs": [],
   "source": [
    "# understanding fit\n",
    "# instead of manually creating batches, we use procecss_batch, but otherwise there's no strange logic I see"
   ]
  },
  {
   "cell_type": "code",
   "execution_count": 22,
   "metadata": {},
   "outputs": [
    {
     "data": {
      "text/plain": [
       "['./input/train/20.json',\n",
       " './input/train/36.json',\n",
       " './input/train/41.json',\n",
       " './input/train/16.json',\n",
       " './input/train/6.json',\n",
       " './input/train/7.json',\n",
       " './input/train/17.json',\n",
       " './input/train/40.json',\n",
       " './input/train/37.json',\n",
       " './input/train/21.json',\n",
       " './input/train/47.json',\n",
       " './input/train/10.json',\n",
       " './input/train/26.json',\n",
       " './input/train/30.json',\n",
       " './input/train/31.json',\n",
       " './input/train/27.json',\n",
       " './input/train/1.json',\n",
       " './input/train/50.json',\n",
       " './input/train/11.json',\n",
       " './input/train/46.json',\n",
       " './input/train/2.json',\n",
       " './input/train/28.json',\n",
       " './input/train/12.json',\n",
       " './input/train/45.json',\n",
       " './input/train/32.json',\n",
       " './input/train/24.json',\n",
       " './input/train/49.json',\n",
       " './input/train/48.json',\n",
       " './input/train/25.json',\n",
       " './input/train/33.json',\n",
       " './input/train/44.json',\n",
       " './input/train/13.json',\n",
       " './input/train/29.json',\n",
       " './input/train/3.json',\n",
       " './input/train/34.json',\n",
       " './input/train/8.json',\n",
       " './input/train/22.json',\n",
       " './input/train/18.json',\n",
       " './input/train/38.json',\n",
       " './input/train/4.json',\n",
       " './input/train/14.json',\n",
       " './input/train/43.json',\n",
       " './input/train/42.json',\n",
       " './input/train/15.json',\n",
       " './input/train/5.json',\n",
       " './input/train/39.json',\n",
       " './input/train/19.json',\n",
       " './input/train/23.json',\n",
       " './input/train/9.json',\n",
       " './input/train/35.json']"
      ]
     },
     "execution_count": 22,
     "metadata": {},
     "output_type": "execute_result"
    }
   ],
   "source": [
    "trainer.training_graphs"
   ]
  },
  {
   "cell_type": "code",
   "execution_count": 19,
   "metadata": {},
   "outputs": [
    {
     "ename": "AttributeError",
     "evalue": "'GAM' object has no attribute 'training_graphs'",
     "output_type": "error",
     "traceback": [
      "\u001b[0;31m---------------------------------------------------------------------------\u001b[0m",
      "\u001b[0;31mAttributeError\u001b[0m                            Traceback (most recent call last)",
      "\u001b[1;32m/Users/popcornfury/Documents/course_materials/current_tasks/dsc180ab/GAM/gam.ipynb Cell 3\u001b[0m in \u001b[0;36m<cell line: 1>\u001b[0;34m()\u001b[0m\n\u001b[0;32m----> <a href='vscode-notebook-cell:/Users/popcornfury/Documents/course_materials/current_tasks/dsc180ab/GAM/gam.ipynb#W4sZmlsZQ%3D%3D?line=0'>1</a>\u001b[0m trainer\u001b[39m.\u001b[39;49mmodel\u001b[39m.\u001b[39;49mtraining_graphs\n",
      "File \u001b[0;32m~/miniforge3/envs/pytorch_m1/lib/python3.8/site-packages/torch/nn/modules/module.py:1185\u001b[0m, in \u001b[0;36mModule.__getattr__\u001b[0;34m(self, name)\u001b[0m\n\u001b[1;32m   1183\u001b[0m     \u001b[39mif\u001b[39;00m name \u001b[39min\u001b[39;00m modules:\n\u001b[1;32m   1184\u001b[0m         \u001b[39mreturn\u001b[39;00m modules[name]\n\u001b[0;32m-> 1185\u001b[0m \u001b[39mraise\u001b[39;00m \u001b[39mAttributeError\u001b[39;00m(\u001b[39m\"\u001b[39m\u001b[39m'\u001b[39m\u001b[39m{}\u001b[39;00m\u001b[39m'\u001b[39m\u001b[39m object has no attribute \u001b[39m\u001b[39m'\u001b[39m\u001b[39m{}\u001b[39;00m\u001b[39m'\u001b[39m\u001b[39m\"\u001b[39m\u001b[39m.\u001b[39mformat(\n\u001b[1;32m   1186\u001b[0m     \u001b[39mtype\u001b[39m(\u001b[39mself\u001b[39m)\u001b[39m.\u001b[39m\u001b[39m__name__\u001b[39m, name))\n",
      "\u001b[0;31mAttributeError\u001b[0m: 'GAM' object has no attribute 'training_graphs'"
     ]
    }
   ],
   "source": [
    "trainer.model.training_graphs"
   ]
  },
  {
   "cell_type": "code",
   "execution_count": null,
   "metadata": {},
   "outputs": [],
   "source": []
  }
 ],
 "metadata": {
  "kernelspec": {
   "display_name": "pytorch_m1",
   "language": "python",
   "name": "python3"
  },
  "language_info": {
   "codemirror_mode": {
    "name": "ipython",
    "version": 3
   },
   "file_extension": ".py",
   "mimetype": "text/x-python",
   "name": "python",
   "nbconvert_exporter": "python",
   "pygments_lexer": "ipython3",
   "version": "3.8.13"
  },
  "orig_nbformat": 4,
  "vscode": {
   "interpreter": {
    "hash": "c33f2d45a7626f747284234b5a79473134ba6738f384a54fcf8770179b444f92"
   }
  }
 },
 "nbformat": 4,
 "nbformat_minor": 2
}
