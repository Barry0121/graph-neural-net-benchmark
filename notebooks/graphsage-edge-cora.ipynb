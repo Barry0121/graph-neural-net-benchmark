{
 "cells": [
  {
   "cell_type": "code",
   "execution_count": null,
   "metadata": {},
   "outputs": [],
   "source": [
    "# we are using stellergraph and this implementation follows their example: \n",
    "# https://stellargraph.readthedocs.io/en/stable/demos/link-prediction/graphsage-link-prediction.html"
   ]
  },
  {
   "cell_type": "code",
   "execution_count": 3,
   "metadata": {},
   "outputs": [],
   "source": [
    "import stellargraph as sg\n",
    "from stellargraph.data import EdgeSplitter\n",
    "from stellargraph.mapper import GraphSAGELinkGenerator\n",
    "from stellargraph.layer import GraphSAGE, HinSAGE, link_classification\n",
    "\n",
    "from tensorflow import keras\n",
    "from sklearn import preprocessing, feature_extraction, model_selection\n",
    "\n",
    "from stellargraph import globalvar\n",
    "from stellargraph import datasets\n",
    "from IPython.display import display, HTML\n",
    "%matplotlib inline"
   ]
  },
  {
   "cell_type": "code",
   "execution_count": 4,
   "metadata": {},
   "outputs": [
    {
     "data": {
      "text/html": [
       "The Cora dataset consists of 2708 scientific publications classified into one of seven classes. The citation network consists of 5429 links. Each publication in the dataset is described by a 0/1-valued word vector indicating the absence/presence of the corresponding word from the dictionary. The dictionary consists of 1433 unique words."
      ],
      "text/plain": [
       "<IPython.core.display.HTML object>"
      ]
     },
     "metadata": {},
     "output_type": "display_data"
    }
   ],
   "source": [
    "dataset = datasets.Cora()\n",
    "display(HTML(dataset.description))\n",
    "G, _ = dataset.load(subject_as_feature=True)"
   ]
  },
  {
   "cell_type": "code",
   "execution_count": 8,
   "metadata": {},
   "outputs": [
    {
     "name": "stdout",
     "output_type": "stream",
     "text": [
      "** Sampled 542 positive and 542 negative edges. **\n"
     ]
    }
   ],
   "source": [
    "# Define an edge splitter on the original graph G:\n",
    "edge_splitter_test = EdgeSplitter(G)\n",
    "\n",
    "# Randomly sample a fraction p=0.1 of all positive links, and same number of negative links, from G, and obtain the\n",
    "# reduced graph G_test with the sampled links removed:\n",
    "G_test, edge_ids_test, edge_labels_test = edge_splitter_test.train_test_split(\n",
    "    p=0.1, method=\"global\", keep_connected=True\n",
    ")"
   ]
  },
  {
   "cell_type": "code",
   "execution_count": 9,
   "metadata": {},
   "outputs": [
    {
     "name": "stdout",
     "output_type": "stream",
     "text": [
      "** Sampled 488 positive and 488 negative edges. **\n"
     ]
    }
   ],
   "source": [
    "# Define an edge splitter on the reduced graph G_test:\n",
    "edge_splitter_train = EdgeSplitter(G_test)\n",
    "\n",
    "# Randomly sample a fraction p=0.1 of all positive links, and same number of negative links, from G_test, and obtain the\n",
    "# reduced graph G_train with the sampled links removed:\n",
    "G_train, edge_ids_train, edge_labels_train = edge_splitter_train.train_test_split(\n",
    "    p=0.1, method=\"global\", keep_connected=True\n",
    ")"
   ]
  },
  {
   "cell_type": "code",
   "execution_count": 10,
   "metadata": {},
   "outputs": [
    {
     "name": "stdout",
     "output_type": "stream",
     "text": [
      "StellarGraph: Undirected multigraph\n",
      " Nodes: 2708, Edges: 4399\n",
      "\n",
      " Node types:\n",
      "  paper: [2708]\n",
      "    Features: float32 vector, length 1440\n",
      "    Edge types: paper-cites->paper\n",
      "\n",
      " Edge types:\n",
      "    paper-cites->paper: [4399]\n",
      "        Weights: all 1 (default)\n",
      "        Features: none\n",
      "StellarGraph: Undirected multigraph\n",
      " Nodes: 2708, Edges: 4887\n",
      "\n",
      " Node types:\n",
      "  paper: [2708]\n",
      "    Features: float32 vector, length 1440\n",
      "    Edge types: paper-cites->paper\n",
      "\n",
      " Edge types:\n",
      "    paper-cites->paper: [4887]\n",
      "        Weights: all 1 (default)\n",
      "        Features: none\n"
     ]
    }
   ],
   "source": [
    "print(G_train.info())\n",
    "print(G_test.info())"
   ]
  },
  {
   "cell_type": "code",
   "execution_count": 11,
   "metadata": {},
   "outputs": [],
   "source": [
    "batch_size = 20\n",
    "epochs = 50\n",
    "num_samples = [20, 10] # 1hop, 2hop samples"
   ]
  },
  {
   "cell_type": "code",
   "execution_count": 12,
   "metadata": {},
   "outputs": [],
   "source": [
    "train_gen = GraphSAGELinkGenerator(G_train, batch_size, num_samples)\n",
    "train_flow = train_gen.flow(edge_ids_train, edge_labels_train, shuffle=True)"
   ]
  },
  {
   "cell_type": "code",
   "execution_count": 13,
   "metadata": {},
   "outputs": [],
   "source": [
    "test_gen = GraphSAGELinkGenerator(G_test, batch_size, num_samples)\n",
    "test_flow = test_gen.flow(edge_ids_test, edge_labels_test)"
   ]
  },
  {
   "cell_type": "code",
   "execution_count": 14,
   "metadata": {},
   "outputs": [],
   "source": [
    "layer_sizes = [20, 20]\n",
    "graphsage = GraphSAGE(\n",
    "    layer_sizes=layer_sizes, generator=train_gen, bias=True, dropout=0.3\n",
    ")"
   ]
  },
  {
   "cell_type": "code",
   "execution_count": 15,
   "metadata": {},
   "outputs": [],
   "source": [
    "# Build the model and expose input and output sockets of graphsage model\n",
    "# for link prediction\n",
    "x_inp, x_out = graphsage.in_out_tensors()"
   ]
  },
  {
   "cell_type": "code",
   "execution_count": 16,
   "metadata": {},
   "outputs": [
    {
     "name": "stdout",
     "output_type": "stream",
     "text": [
      "link_classification: using 'ip' method to combine node embeddings into edge embeddings\n"
     ]
    }
   ],
   "source": [
    "prediction = link_classification(\n",
    "    output_dim=1, output_act=\"relu\", edge_embedding_method=\"ip\"\n",
    ")(x_out)"
   ]
  },
  {
   "cell_type": "code",
   "execution_count": 17,
   "metadata": {},
   "outputs": [
    {
     "name": "stderr",
     "output_type": "stream",
     "text": [
      "c:\\ProgramData\\Miniconda3\\envs\\gcn\\lib\\site-packages\\keras\\optimizers\\optimizer_v2\\adam.py:110: UserWarning: The `lr` argument is deprecated, use `learning_rate` instead.\n",
      "  super(Adam, self).__init__(name, **kwargs)\n"
     ]
    }
   ],
   "source": [
    "model = keras.Model(inputs=x_inp, outputs=prediction)\n",
    "\n",
    "model.compile(\n",
    "    optimizer=keras.optimizers.Adam(lr=1e-3),\n",
    "    loss=keras.losses.binary_crossentropy,\n",
    "    metrics=[\"acc\"],\n",
    ")"
   ]
  },
  {
   "cell_type": "code",
   "execution_count": 18,
   "metadata": {},
   "outputs": [
    {
     "name": "stdout",
     "output_type": "stream",
     "text": [
      "49/49 [==============================] - 6s 94ms/step - loss: 0.8475 - acc: 0.6660\n",
      "55/55 [==============================] - 5s 85ms/step - loss: 0.8323 - acc: 0.6513\n",
      "\n",
      "Train Set Metrics of the initial (untrained) model:\n",
      "\tloss: 0.8475\n",
      "\tacc: 0.6660\n",
      "\n",
      "Test Set Metrics of the initial (untrained) model:\n",
      "\tloss: 0.8323\n",
      "\tacc: 0.6513\n"
     ]
    }
   ],
   "source": [
    "# evaluate untrained\n",
    "init_train_metrics = model.evaluate(train_flow)\n",
    "init_test_metrics = model.evaluate(test_flow)\n",
    "\n",
    "print(\"\\nTrain Set Metrics of the initial (untrained) model:\")\n",
    "for name, val in zip(model.metrics_names, init_train_metrics):\n",
    "    print(\"\\t{}: {:0.4f}\".format(name, val))\n",
    "\n",
    "print(\"\\nTest Set Metrics of the initial (untrained) model:\")\n",
    "for name, val in zip(model.metrics_names, init_test_metrics):\n",
    "    print(\"\\t{}: {:0.4f}\".format(name, val))"
   ]
  },
  {
   "cell_type": "code",
   "execution_count": 19,
   "metadata": {},
   "outputs": [
    {
     "name": "stdout",
     "output_type": "stream",
     "text": [
      "Epoch 1/50\n",
      "49/49 - 12s - loss: 0.7403 - acc: 0.5994 - val_loss: 0.6258 - val_acc: 0.6338 - 12s/epoch - 236ms/step\n",
      "Epoch 2/50\n",
      "49/49 - 9s - loss: 0.5325 - acc: 0.7336 - val_loss: 0.5044 - val_acc: 0.7509 - 9s/epoch - 187ms/step\n",
      "Epoch 3/50\n",
      "49/49 - 10s - loss: 0.4218 - acc: 0.8289 - val_loss: 0.4759 - val_acc: 0.7731 - 10s/epoch - 210ms/step\n",
      "Epoch 4/50\n",
      "49/49 - 10s - loss: 0.3472 - acc: 0.8791 - val_loss: 0.4618 - val_acc: 0.8164 - 10s/epoch - 201ms/step\n",
      "Epoch 5/50\n",
      "49/49 - 9s - loss: 0.2973 - acc: 0.8986 - val_loss: 0.4513 - val_acc: 0.8173 - 9s/epoch - 184ms/step\n",
      "Epoch 6/50\n",
      "49/49 - 11s - loss: 0.2698 - acc: 0.9191 - val_loss: 0.4739 - val_acc: 0.8127 - 11s/epoch - 217ms/step\n",
      "Epoch 7/50\n",
      "49/49 - 10s - loss: 0.2408 - acc: 0.9436 - val_loss: 0.4865 - val_acc: 0.8137 - 10s/epoch - 203ms/step\n",
      "Epoch 8/50\n",
      "49/49 - 9s - loss: 0.2184 - acc: 0.9518 - val_loss: 0.4967 - val_acc: 0.8220 - 9s/epoch - 189ms/step\n",
      "Epoch 9/50\n",
      "49/49 - 11s - loss: 0.1900 - acc: 0.9693 - val_loss: 0.4585 - val_acc: 0.8173 - 11s/epoch - 214ms/step\n",
      "Epoch 10/50\n",
      "49/49 - 10s - loss: 0.1709 - acc: 0.9693 - val_loss: 0.5356 - val_acc: 0.8063 - 10s/epoch - 209ms/step\n",
      "Epoch 11/50\n",
      "49/49 - 9s - loss: 0.1594 - acc: 0.9795 - val_loss: 0.5291 - val_acc: 0.8054 - 9s/epoch - 186ms/step\n",
      "Epoch 12/50\n",
      "49/49 - 11s - loss: 0.1551 - acc: 0.9775 - val_loss: 0.5947 - val_acc: 0.8081 - 11s/epoch - 215ms/step\n",
      "Epoch 13/50\n",
      "49/49 - 10s - loss: 0.1377 - acc: 0.9785 - val_loss: 0.6537 - val_acc: 0.8192 - 10s/epoch - 203ms/step\n",
      "Epoch 14/50\n",
      "49/49 - 9s - loss: 0.1256 - acc: 0.9846 - val_loss: 0.6899 - val_acc: 0.8007 - 9s/epoch - 188ms/step\n",
      "Epoch 15/50\n",
      "49/49 - 10s - loss: 0.1202 - acc: 0.9857 - val_loss: 0.6499 - val_acc: 0.8063 - 10s/epoch - 207ms/step\n",
      "Epoch 16/50\n",
      "49/49 - 10s - loss: 0.1129 - acc: 0.9887 - val_loss: 0.7063 - val_acc: 0.8017 - 10s/epoch - 206ms/step\n",
      "Epoch 17/50\n",
      "49/49 - 9s - loss: 0.1086 - acc: 0.9877 - val_loss: 0.7186 - val_acc: 0.8007 - 9s/epoch - 181ms/step\n",
      "Epoch 18/50\n",
      "49/49 - 12s - loss: 0.1024 - acc: 0.9918 - val_loss: 0.6963 - val_acc: 0.7924 - 12s/epoch - 242ms/step\n",
      "Epoch 19/50\n",
      "49/49 - 10s - loss: 0.0978 - acc: 0.9928 - val_loss: 0.7315 - val_acc: 0.7961 - 10s/epoch - 197ms/step\n",
      "Epoch 20/50\n",
      "49/49 - 9s - loss: 0.0904 - acc: 0.9928 - val_loss: 0.7029 - val_acc: 0.7980 - 9s/epoch - 180ms/step\n",
      "Epoch 21/50\n",
      "49/49 - 10s - loss: 0.0829 - acc: 0.9939 - val_loss: 0.7120 - val_acc: 0.7961 - 10s/epoch - 206ms/step\n",
      "Epoch 22/50\n",
      "49/49 - 9s - loss: 0.0804 - acc: 0.9928 - val_loss: 0.7712 - val_acc: 0.7814 - 9s/epoch - 190ms/step\n",
      "Epoch 23/50\n",
      "49/49 - 9s - loss: 0.0774 - acc: 0.9939 - val_loss: 0.7741 - val_acc: 0.7887 - 9s/epoch - 185ms/step\n",
      "Epoch 24/50\n",
      "49/49 - 10s - loss: 0.0924 - acc: 0.9908 - val_loss: 0.8482 - val_acc: 0.7832 - 10s/epoch - 208ms/step\n",
      "Epoch 25/50\n",
      "49/49 - 9s - loss: 0.0727 - acc: 0.9939 - val_loss: 0.7549 - val_acc: 0.7731 - 9s/epoch - 191ms/step\n",
      "Epoch 26/50\n",
      "49/49 - 9s - loss: 0.0658 - acc: 0.9969 - val_loss: 0.8958 - val_acc: 0.7712 - 9s/epoch - 182ms/step\n",
      "Epoch 27/50\n",
      "49/49 - 10s - loss: 0.0652 - acc: 0.9959 - val_loss: 0.8769 - val_acc: 0.7749 - 10s/epoch - 205ms/step\n",
      "Epoch 28/50\n",
      "49/49 - 10s - loss: 0.0635 - acc: 0.9949 - val_loss: 0.8925 - val_acc: 0.7786 - 10s/epoch - 204ms/step\n",
      "Epoch 29/50\n",
      "49/49 - 9s - loss: 0.0567 - acc: 0.9969 - val_loss: 0.8044 - val_acc: 0.7786 - 9s/epoch - 184ms/step\n",
      "Epoch 30/50\n",
      "49/49 - 10s - loss: 0.0543 - acc: 0.9959 - val_loss: 0.9192 - val_acc: 0.7786 - 10s/epoch - 208ms/step\n",
      "Epoch 31/50\n",
      "49/49 - 10s - loss: 0.0517 - acc: 0.9980 - val_loss: 0.9862 - val_acc: 0.7675 - 10s/epoch - 205ms/step\n",
      "Epoch 32/50\n",
      "49/49 - 9s - loss: 0.0509 - acc: 0.9969 - val_loss: 1.0218 - val_acc: 0.7814 - 9s/epoch - 182ms/step\n",
      "Epoch 33/50\n",
      "49/49 - 11s - loss: 0.0512 - acc: 0.9980 - val_loss: 0.9804 - val_acc: 0.7768 - 11s/epoch - 218ms/step\n",
      "Epoch 34/50\n",
      "49/49 - 10s - loss: 0.0471 - acc: 0.9990 - val_loss: 0.9124 - val_acc: 0.7740 - 10s/epoch - 203ms/step\n",
      "Epoch 35/50\n",
      "49/49 - 9s - loss: 0.0477 - acc: 0.9990 - val_loss: 0.9167 - val_acc: 0.7666 - 9s/epoch - 190ms/step\n",
      "Epoch 36/50\n",
      "49/49 - 11s - loss: 0.0432 - acc: 1.0000 - val_loss: 0.9730 - val_acc: 0.7721 - 11s/epoch - 226ms/step\n",
      "Epoch 37/50\n",
      "49/49 - 11s - loss: 0.0434 - acc: 0.9980 - val_loss: 1.0032 - val_acc: 0.7648 - 11s/epoch - 229ms/step\n",
      "Epoch 38/50\n",
      "49/49 - 9s - loss: 0.0406 - acc: 0.9969 - val_loss: 1.0395 - val_acc: 0.7657 - 9s/epoch - 187ms/step\n",
      "Epoch 39/50\n",
      "49/49 - 11s - loss: 0.0412 - acc: 0.9990 - val_loss: 1.0038 - val_acc: 0.7592 - 11s/epoch - 215ms/step\n",
      "Epoch 40/50\n",
      "49/49 - 9s - loss: 0.0353 - acc: 0.9990 - val_loss: 0.9474 - val_acc: 0.7629 - 9s/epoch - 192ms/step\n",
      "Epoch 41/50\n",
      "49/49 - 9s - loss: 0.0353 - acc: 1.0000 - val_loss: 0.9579 - val_acc: 0.7740 - 9s/epoch - 189ms/step\n",
      "Epoch 42/50\n",
      "49/49 - 10s - loss: 0.0366 - acc: 1.0000 - val_loss: 0.9421 - val_acc: 0.7592 - 10s/epoch - 203ms/step\n",
      "Epoch 43/50\n",
      "49/49 - 10s - loss: 0.0342 - acc: 0.9990 - val_loss: 0.9932 - val_acc: 0.7601 - 10s/epoch - 209ms/step\n",
      "Epoch 44/50\n",
      "49/49 - 9s - loss: 0.0351 - acc: 1.0000 - val_loss: 1.1171 - val_acc: 0.7583 - 9s/epoch - 186ms/step\n",
      "Epoch 45/50\n",
      "49/49 - 11s - loss: 0.0304 - acc: 1.0000 - val_loss: 1.0833 - val_acc: 0.7601 - 11s/epoch - 217ms/step\n",
      "Epoch 46/50\n",
      "49/49 - 11s - loss: 0.0362 - acc: 0.9969 - val_loss: 1.1198 - val_acc: 0.7583 - 11s/epoch - 218ms/step\n",
      "Epoch 47/50\n",
      "49/49 - 9s - loss: 0.0304 - acc: 1.0000 - val_loss: 1.0557 - val_acc: 0.7611 - 9s/epoch - 179ms/step\n",
      "Epoch 48/50\n",
      "49/49 - 10s - loss: 0.0298 - acc: 0.9980 - val_loss: 1.0922 - val_acc: 0.7509 - 10s/epoch - 208ms/step\n",
      "Epoch 49/50\n",
      "49/49 - 10s - loss: 0.0292 - acc: 0.9990 - val_loss: 1.0186 - val_acc: 0.7528 - 10s/epoch - 201ms/step\n",
      "Epoch 50/50\n",
      "49/49 - 9s - loss: 0.0309 - acc: 0.9980 - val_loss: 0.9844 - val_acc: 0.7546 - 9s/epoch - 185ms/step\n"
     ]
    }
   ],
   "source": [
    "# train the model \n",
    "history = model.fit(train_flow, epochs=epochs, validation_data=test_flow, verbose=2)"
   ]
  },
  {
   "cell_type": "code",
   "execution_count": 21,
   "metadata": {},
   "outputs": [
    {
     "data": {
      "image/png": "[encoded data removed]",
      "text/plain": [
       "<Figure size 700x800 with 2 Axes>"
      ]
     },
     "metadata": {},
     "output_type": "display_data"
    }
   ],
   "source": [
    "sg.utils.plot_history(history)"
   ]
  },
  {
   "cell_type": "code",
   "execution_count": 22,
   "metadata": {},
   "outputs": [
    {
     "name": "stdout",
     "output_type": "stream",
     "text": [
      "49/49 [==============================] - 5s 95ms/step - loss: 0.0187 - acc: 1.0000\n",
      "55/55 [==============================] - 4s 78ms/step - loss: 1.0186 - acc: 0.7500\n",
      "\n",
      "Train Set Metrics of the trained model:\n",
      "\tloss: 0.0187\n",
      "\tacc: 1.0000\n",
      "\n",
      "Test Set Metrics of the trained model:\n",
      "\tloss: 1.0186\n",
      "\tacc: 0.7500\n"
     ]
    }
   ],
   "source": [
    "train_metrics = model.evaluate(train_flow)\n",
    "test_metrics = model.evaluate(test_flow)\n",
    "\n",
    "print(\"\\nTrain Set Metrics of the trained model:\")\n",
    "for name, val in zip(model.metrics_names, train_metrics):\n",
    "    print(\"\\t{}: {:0.4f}\".format(name, val))\n",
    "\n",
    "print(\"\\nTest Set Metrics of the trained model:\")\n",
    "for name, val in zip(model.metrics_names, test_metrics):\n",
    "    print(\"\\t{}: {:0.4f}\".format(name, val))"
   ]
  },
  {
   "cell_type": "code",
   "execution_count": null,
   "metadata": {},
   "outputs": [],
   "source": []
  }
 ],
 "metadata": {
  "kernelspec": {
   "display_name": "Python 3.10.8 ('gcn')",
   "language": "python",
   "name": "python3"
  },
  "language_info": {
   "codemirror_mode": {
    "name": "ipython",
    "version": 3
   },
   "file_extension": ".py",
   "mimetype": "text/x-python",
   "name": "python",
   "nbconvert_exporter": "python",
   "pygments_lexer": "ipython3",
   "version": "3.10.8"
  },
  "orig_nbformat": 4,
  "vscode": {
   "interpreter": {
    "hash": "c5c63958b8fbdae5d372fc0dd404e4e10eddae4b1263fc1fb5bccd426a7de9b8"
   }
  }
 },
 "nbformat": 4,
 "nbformat_minor": 2
}
