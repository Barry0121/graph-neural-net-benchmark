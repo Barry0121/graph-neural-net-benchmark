{
 "cells": [
  {
   "cell_type": "code",
   "execution_count": 1,
   "metadata": {},
   "outputs": [],
   "source": [
    "\n",
    "# Standard pacakges \n",
    "import torch \n",
    "from torch import nn, utils\n",
    "import networkx as nx \n",
    "import numpy as np \n",
    "import matplotlib.pyplot as plt \n",
    "\n",
    "# Pytroch Geometric \n",
    "from torch_geometric import utils as gutils\n",
    "from torch_geometric import nn as gnn # import layers \n",
    "from torch_geometric.datasets import Planetoid # import dataset CORA \n"
   ]
  },
  {
   "cell_type": "markdown",
   "metadata": {},
   "source": [
    "#### TODO: Model Training/Evaluation Class "
   ]
  },
  {
   "cell_type": "code",
   "execution_count": 3,
   "metadata": {},
   "outputs": [],
   "source": [
    "class model_utils: \n",
    "    def __init__(self, dataset, epochs): \n",
    "        # store the data\n",
    "        # TODO: Change the raw dataset to a dataloader object from PyTorch\n",
    "        self.dataset = dataset  \n",
    "        if 'x' in self.dataset:\n",
    "            self.node_features = self.dataset.x\n",
    "        else: \n",
    "            print(\"Input Dataset has no node features.\")\n",
    "        self.edge_index = self.dataset.edge_index\n",
    "        self.node_labels = self.dataset.y \n",
    "\n",
    "        # print some dataset statistics \n",
    "        print(f'Number of nodes: {dataset.num_nodes}')\n",
    "        print(f'Number of edges: {dataset.num_edges}')\n",
    "        print(f'Average node degree: {dataset.num_edges / dataset.num_nodes:.2f}')\n",
    "        if 'train_mask' in dataset:\n",
    "            print(f'Number of training nodes: {dataset.train_mask.sum()}')\n",
    "            print(f'Training node label rate: {int(dataset.train_mask.sum()) / dataset.num_nodes:.2f}')\n",
    "        print(f'Has isolated nodes: {dataset.has_isolated_nodes()}')\n",
    "        print(f'Has self-loops: {dataset.has_self_loops()}')\n",
    "        print(f'Is undirected: {dataset.is_undirected()}')\n",
    "\n",
    "\n",
    "        # training/validation split\n",
    "\n",
    "        # Hyperparameters \n",
    "        self.epochs = epochs\n",
    "        self.train_loss = []\n",
    "        self.validation_loss = []\n",
    "        self.test_loss = 0 \n",
    "        self.validation_acc = []\n",
    "        self.test_acc = 0\n",
    "        \n",
    "\n",
    "    \"\"\"\n",
    "    Utility functions: \n",
    "    - load dataset \n",
    "    - loss function \n",
    "    - optimizer \n",
    "    - train/validation\n",
    "    - test\n",
    "    \"\"\"\n",
    "\n",
    "    def initialize_training(self): \n",
    "        \"\"\" Initialize Training Utilities \"\"\"\n",
    "        pass \n",
    "\n",
    "    def train_step(self): \n",
    "        \"\"\" One Training Step \"\"\"\n",
    "        pass\n",
    "\n",
    "    def test(self): \n",
    "        pass\n"
   ]
  },
  {
   "cell_type": "markdown",
   "metadata": {},
   "source": [
    "#### Custom GCN Layer for weight initialization"
   ]
  },
  {
   "cell_type": "code",
   "execution_count": 2,
   "metadata": {},
   "outputs": [],
   "source": [
    "class GCNConvCustom(nn.Module):\n",
    "    def __init__(self, \n",
    "                edge_index,\n",
    "                # node_batch,\n",
    "                input_dim, \n",
    "                output_dim, \n",
    "                random_init=True, \n",
    "                with_bias=False,\n",
    "                device='cuda:0' if torch.cuda.is_available() else 'mps'):\n",
    "        super(GCNConvCustom, self).__init__()\n",
    "        # print(\"layer initialized\")\n",
    "\n",
    "        \"\"\"Metadata\"\"\"\n",
    "        self.device = device # initialize the hosting device\n",
    "        self.with_bias = with_bias\n",
    "\n",
    "        \"\"\"Calculate Matrices\"\"\"\n",
    "        # the adjacency matrix with self-loop \n",
    "        \n",
    "        self.A = gutils.to_dense_adj(edge_index).to(self.device)[0]\n",
    "        self.A_self = self.A + torch.diag(torch.ones(self.A.shape[0], device=self.device))\n",
    "        # print(\"Adj Matrix with self loop: \", self.A)\n",
    "        \n",
    "        # calculate the degree matrix with A after added self loop\n",
    "        self.D = torch.sum(self.A_self, dim=0).to(self.device)  # Note: these are the elements along the diagonal of D\n",
    "        # print(\"Degree Matrix: \", self.D)\n",
    "\n",
    "        # for diagonal matrix, raising it to any power is the same as raising its diagonal elements to that power\n",
    "        # we can just apply the -1/2 power to all element of this degree matrix \n",
    "        # self.D_half_norm = torch.reciprocal(torch.sqrt(self.D)) \n",
    "        # self.D_half_norm = torch.from_numpy(fractional_matrix_power(self.D, -0.5)).to(self.device)\n",
    "        self.D_half_norm = torch.diag(torch.pow(self.D, -0.5))\n",
    "        # print(\"Normalization Matrix: \", self.D_half_norm)\n",
    "\n",
    "        # normalized adjacency matrix\n",
    "        # self.A_s = torch.mm(torch.mm(self.D_half_norm, self.A), self.D_half_norm) \n",
    "        self.A_s = self.D_half_norm @ self.A_self @ self.D_half_norm\n",
    "        self.A_s = self.A_s.to(self.device)\n",
    "        # print(self.A_s.shape)\n",
    "        \n",
    "        # initialize learnable weights\n",
    "        # the weight should have shape of (N , F) where N is the size of the input, and F is the output dimension\n",
    "        self.W, self.b = None, None\n",
    "        if random_init: \n",
    "            self.W = torch.nn.Parameter(\n",
    "                data=(torch.rand(input_dim, output_dim, device=self.device) * 0.01),  # times it by 0.001 to make the weight smaller\n",
    "                requires_grad=True\n",
    "            )\n",
    "            # create trainable a bias term for the layer\n",
    "            self.b = torch.nn.Parameter(\n",
    "                data=(torch.rand(output_dim, 1, device=self.device) * 0.01),\n",
    "                requires_grad=True\n",
    "            )\n",
    "        else: \n",
    "            self.W = torch.nn.Parameter(\n",
    "                data=torch.ones(input_dim, output_dim, device=self.device), \n",
    "                requires_grad=True\n",
    "            )\n",
    "            self.b = torch.nn.Parameter(\n",
    "                data=torch.ones(output_dim, 1, device=self.device), \n",
    "                requires_grad=True\n",
    "            )\n",
    "\n",
    "    def forward(self, H):\n",
    "        if self.with_bias: \n",
    "            return self.A_s @ H @ self.W + self.b.T\n",
    "        else: \n",
    "            return self.A_s @ H @ self.W\n",
    "\n",
    "    def get_adj_matrix(self, with_self=False):\n",
    "        if with_self: \n",
    "            return self.A_self \n",
    "        return self.A\n",
    "    \n",
    "    def get_normalized_adj_matrix(self): \n",
    "        return self.A_s\n",
    "\n",
    "    def get_degree_matrix(self, normalization=False): \n",
    "        if normalization: \n",
    "            return self.D_half_norm\n",
    "        return self.D\n"
   ]
  },
  {
   "cell_type": "markdown",
   "metadata": {},
   "source": [
    "#### Temporally data reading function"
   ]
  },
  {
   "cell_type": "code",
   "execution_count": 5,
   "metadata": {},
   "outputs": [
    {
     "name": "stdout",
     "output_type": "stream",
     "text": [
      "Loads Cora dataset, at root location: ../data/raw/Planetoid\n",
      "Number of nodes: 2708\n",
      "Number of edges: 10556\n",
      "Average node degree: 3.90\n",
      "Number of training nodes: 140\n",
      "Training node label rate: 0.05\n",
      "Has isolated nodes: False\n",
      "Has self-loops: False\n",
      "Is undirected: True\n"
     ]
    }
   ],
   "source": [
    "def loader_cora_torch(filepath=\"../data/raw/Planetoid\", transform=None, batch_size=1, shuffle=False, device='cuda:0' if torch.cuda.is_available() else 'mps'):\n",
    "    \"\"\"Return the CORA dataset\"\"\"\n",
    "    dataset = Planetoid(root=filepath, name='Cora', split='public', num_train_per_class=20, num_val=500, num_test=1000, transform=transform) # return a class of datasets\n",
    "    data = dataset[0]\n",
    "    # print some dataset statistics \n",
    "    print(f'Loads Cora dataset, at root location: {filepath}')\n",
    "    print(f'Number of nodes: {data.num_nodes}')\n",
    "    print(f'Number of edges: {data.num_edges}')\n",
    "    print(f'Average node degree: {data.num_edges / data.num_nodes:.2f}')\n",
    "    print(f'Number of training nodes: {data.train_mask.sum()}')\n",
    "    print(f'Training node label rate: {int(data.train_mask.sum()) / data.num_nodes:.2f}')\n",
    "    print(f'Has isolated nodes: {data.has_isolated_nodes()}')\n",
    "    print(f'Has self-loops: {data.has_self_loops()}')\n",
    "    print(f'Is undirected: {data.is_undirected()}')\n",
    "\n",
    "    return data.edge_index.to(device), data.x.to(device), data.y.to(device)\n",
    "\n",
    "\n",
    "edge_index, node_features, labels = loader_cora_torch(shuffle=True) # load the cora dataset"
   ]
  },
  {
   "cell_type": "code",
   "execution_count": 43,
   "metadata": {},
   "outputs": [
    {
     "data": {
      "text/plain": [
       "tensor([[45.2056, 45.2056, 45.2056, 45.2056, 45.2056],\n",
       "        [33.8967, 33.8967, 33.8967, 33.8967, 33.8967],\n",
       "        [46.2932, 46.2932, 46.2932, 46.2932, 46.2932],\n",
       "        ...,\n",
       "        [10.0000, 10.0000, 10.0000, 10.0000, 10.0000],\n",
       "        [47.9280, 47.9280, 47.9280, 47.9280, 47.9280],\n",
       "        [50.5896, 50.5896, 50.5896, 50.5896, 50.5896]], device='cuda:0',\n",
       "       grad_fn=<MmBackward0>)"
      ]
     },
     "execution_count": 43,
     "metadata": {},
     "output_type": "execute_result"
    }
   ],
   "source": [
    "# test custom GCN Layer \n",
    "layer1 = GCNConvCustom(edge_index=edge_index, input_dim=node_features.shape[0], output_dim=10, random_init=False)\n",
    "output1 = layer1(layer1.get_adj_matrix())\n",
    "layer2 = GCNConvCustom(edge_index=edge_index, input_dim=10, output_dim=5, random_init=False)\n",
    "layer2(output1)"
   ]
  },
  {
   "cell_type": "markdown",
   "metadata": {},
   "source": [
    "#### Implementation of 2 GCN Convolution Layers Auto-encoder\n",
    "reference: \n",
    "* https://towardsdatascience.com/tutorial-on-variational-graph-auto-encoders-da9333281129 "
   ]
  },
  {
   "cell_type": "code",
   "execution_count": 3,
   "metadata": {},
   "outputs": [],
   "source": [
    "class GCN_AE(nn.Module): \n",
    "    \"\"\"\n",
    "    Graph Convolutional Auto-Encoder\n",
    "\n",
    "    GCN layer implementation from: \n",
    "        https://pytorch-geometric.readthedocs.io/en/latest/modules/nn.html#torch_geometric.nn.conv.GCNConv \n",
    "    \"\"\"\n",
    "    def __init__(self, \n",
    "                edge_index, \n",
    "                input_size, \n",
    "                hidden_size_1,\n",
    "                hidden_size_2,\n",
    "                encoding_size,\n",
    "                device= 'cuda:0' if torch.cuda.is_available() else 'mps'): \n",
    "        super().__init__()\n",
    "        # meta information\n",
    "        self.device = device\n",
    "        self.edge_index = edge_index # same as edge list, replace adjacency matrix \n",
    "        self.input_size = input_size\n",
    "        self.hidden_size_1 = hidden_size_1\n",
    "        self.hidden_size_2 = hidden_size_2\n",
    "        self.encoding_size = encoding_size\n",
    "\n",
    "        # training utilities \n",
    "        self.criterion = None \n",
    "        self.optimizer = None \n",
    "        \n",
    "        # layers \n",
    "        self.GCN_1 = GCNConvCustom(edge_index=self.edge_index, input_dim=self.input_size, output_dim=self.hidden_size_1, random_init=True, device=self.device) \n",
    "        self.GCN_2 = GCNConvCustom(edge_index=self.edge_index, input_dim=self.hidden_size_1, output_dim=self.hidden_size_2, random_init=True, device=self.device)\n",
    "        self.FC = nn.Linear(in_features=self.hidden_size_2, out_features=self.encoding_size, device=self.device)\n",
    "\n",
    "        # activations \n",
    "        self.relu = nn.ReLU()\n",
    "        self.sigmoid = nn.Sigmoid()\n",
    "\n",
    "    def encoder(self, X): \n",
    "        X_hat = self.GCN_1(X) # first layer: lower dimension feature matrix\n",
    "        X_hat = self.relu(X_hat) \n",
    "        H = self.GCN_2(X_hat) # second layer: mean matrix\n",
    "        H = self.relu(H)\n",
    "        Z = self.FC(H)\n",
    "        Z = self.relu(Z) # this activation may or may not be here, doesn't make a difference  \n",
    "        return Z\n",
    "\n",
    "    def decoder(self, Z): \n",
    "        # TODO: we don't want matrix product, but inner product of each encoded vector \n",
    "        Y_inner = torch.mm(Z.T, Z) # calculate inner product of matrix \n",
    "        # Y_inner = Y_inner.reshape((-1)) # flatten the tensor \n",
    "        Y = self.sigmoid(Y_inner) # apply activation \n",
    "        return Y\n",
    "\n",
    "    def forward(self, X): \n",
    "        Z = self.encoder(X)\n",
    "        output = self.decoder(Z)\n",
    "        return output\n",
    "\n",
    "    def set_optimizer(self, optimizer): \n",
    "        self.optimizer = optimizer\n",
    "\n",
    "    def set_loss(self, criterion): \n",
    "        self.criterion = criterion"
   ]
  },
  {
   "cell_type": "markdown",
   "metadata": {},
   "source": [
    "#### Implementation of 2 GCN Convolution Layers Variational Auto-encoder \n",
    "references: \n",
    "* https://towardsdatascience.com/tutorial-on-variational-graph-auto-encoders-da9333281129 \n",
    "* https://github.com/tkipf/gae/blob/0ebbe9b9a8f496eb12deb9aa6a62e7016b5a5ac3/gae/model.py "
   ]
  },
  {
   "cell_type": "code",
   "execution_count": 45,
   "metadata": {},
   "outputs": [],
   "source": [
    "class GCN_VAE(nn.Module): \n",
    "    \"\"\"\n",
    "    Graph Variational Convolutional Auto-Encoder\n",
    "\n",
    "    GCN layer implementation from: \n",
    "        https://pytorch-geometric.readthedocs.io/en/latest/modules/nn.html#torch_geometric.nn.conv.GCNConv \n",
    "    \"\"\"\n",
    "    def __init__(self, \n",
    "                edge_index, \n",
    "                input_size, \n",
    "                hidden_size,\n",
    "                encoding_size,\n",
    "                output_size, \n",
    "                device= 'cuda:0' if torch.cuda.is_available() else 'mps'): \n",
    "        super().__init__()\n",
    "        # meta information\n",
    "        self.device = device\n",
    "        self.edge_index = edge_index # same as edge list, replace adjacency matrix \n",
    "        self.input_size = input_size\n",
    "        self.hidden_size = hidden_size\n",
    "        self.encoding_size = encoding_size\n",
    "        self.output_size = output_size\n",
    "        \n",
    "        # layers \n",
    "        self.GCN_1 = gnn.GCNConv(in_channels=self.input_size, out_channels=self.hidden_size, normalize=False, device=self.device) \n",
    "        self.GCN_2 = gnn.GCNConv(in_channels=self.hidden_size, out_channels=self.encoding_size, normalize=False, device=self.device)\n",
    "\n",
    "        # activations \n",
    "        self.relu = nn.ReLU()\n",
    "        self.sigmoid = nn.Sigmoid()\n",
    "\n",
    "    def encoder(self, X): \n",
    "        X_hat = self.GCN_1(X, self.edge_index) # first layer: lower dimension feature matrix \n",
    "        X_hat = self.relu(X_hat)\n",
    "        Z_mean = self.GCN_2(X_hat, self.edge_index) # second layer: mean matrix\n",
    "        Z_logstd = self.GCN_2(X_hat, self.edge_index) # second layer: natural log of squared standard deviation\n",
    "        Z_std = torch.sqrt(torch.exp(Z_logstd)) # calculate the standard deviation \n",
    "        Z = torch.normal(Z_mean, Z_std) # random sample from normal distribution with the calculated mean and std\n",
    "        return Z\n",
    "\n",
    "    def decoder(self, Z): \n",
    "        Y_inner = torch.mm(Z.T, Z) # calculate inner product of matrix \n",
    "        Y_inner = Y_inner.reshape((-1)) # flatten the tensor \n",
    "        Y = self.sigmoid(Y_inner) # apply activation \n",
    "        return Y\n",
    "\n",
    "    def forward(self, X): \n",
    "        Z = self.encoder(X)\n",
    "        output = self.decoder(Z)\n",
    "        return output\n"
   ]
  },
  {
   "cell_type": "markdown",
   "metadata": {},
   "source": [
    "#### Task 1\n",
    "Create two 4-node graphs of your choice by hand on paper with node labels (but no attributes). Begin with a 2-hidden layer GCN with weight matrics initialized at 1. Calculate the feed-forward output of the graph by hand. Compare it to your results using PyTorch."
   ]
  },
  {
   "cell_type": "code",
   "execution_count": 46,
   "metadata": {},
   "outputs": [
    {
     "data": {
      "image/png": "[encoded data removed]",
      "text/plain": [
       "<Figure size 432x288 with 1 Axes>"
      ]
     },
     "metadata": {},
     "output_type": "display_data"
    }
   ],
   "source": [
    "graph = nx.Graph()\n",
    "graph.add_nodes_from([1,2,3,4])\n",
    "graph.add_edges_from([(1,2), (2, 3), (1, 4), (4, 2), (3, 1)])\n",
    "nx.draw(graph, labels={i:i for i in range(1, 5)})"
   ]
  },
  {
   "cell_type": "markdown",
   "metadata": {},
   "source": [
    "Calculating the 2-hidden layer GCN-AE by hand. \n",
    "\n",
    "1. Adjacency Matrix \n",
    "    * Node 1 = [0, 1, 1, 1]\n",
    "    * Node 2 = [1, 0, 1, 1]\n",
    "    * Node 3 = [1, 1, 0, 0]\n",
    "    * Node 4 = [1, 1, 0, 0]\n",
    "$$ \n",
    "\\LARGE{A} = \\begin{pmatrix}\n",
    "            0 & 1 & 1 & 1 \\\\\n",
    "            1 & 0 & 1 & 1 \\\\\n",
    "            1 & 1 & 0 & 0 \\\\\n",
    "            1 & 1 & 0 & 0\n",
    "            \\end{pmatrix} \\\\\n",
    "\n",
    "\\text{ with self loop } = \\begin{pmatrix}\n",
    "            1 & 1 & 1 & 1 \\\\\n",
    "            1 & 1 & 1 & 1 \\\\\n",
    "            1 & 1 & 1 & 0 \\\\\n",
    "            1 & 1 & 0 & 1\n",
    "            \\end{pmatrix} \n",
    "$$ \n",
    "We want to normalize the adjacency matrix by multiplying $D^{-\\frac{1}{2}}$ on each sides: \n",
    "$$\n",
    "\\LARGE{D} = \\begin{pmatrix} \n",
    "            4 & 0 & 0 & 0 \\\\\n",
    "            0 & 4 & 0 & 0 \\\\\n",
    "            0 & 0 & 3 & 0 \\\\\n",
    "            0 & 0 & 0 & 3\n",
    "            \\end{pmatrix} \\\\\n",
    "\\LARGE{D}^{-\\frac{1}{2}} = \\begin{pmatrix} \n",
    "            \\frac{1}{\\sqrt{4}} & 0 & 0 & 0 \\\\\n",
    "            0 & \\frac{1}{\\sqrt{4}} & 0 & 0 \\\\\n",
    "            0 & 0 & \\frac{1}{\\sqrt{3}} & 0 \\\\\n",
    "            0 & 0 & 0 & \\frac{1}{\\sqrt{3}}\n",
    "            \\end{pmatrix}\n",
    "$$\n",
    "$$\n",
    "\\LARGE{\\hat{A}} = \\LARGE{D}^{-\\frac{1}{2}} \\LARGE{A} \\LARGE{D}^{-\\frac{1}{2}} \\\\\n",
    "    =   \\begin{pmatrix}\n",
    "        \\frac{1}{4} &  \\frac{1}{4} & \\frac{1}{\\sqrt{3}\\sqrt{4}} & \\frac{1}{\\sqrt{3}\\sqrt{4}} \\\\\n",
    "        \\frac{1}{4} &  \\frac{1}{4} & \\frac{1}{\\sqrt{3}\\sqrt{4}} & \\frac{1}{\\sqrt{3}\\sqrt{4}} \\\\\n",
    "        \\frac{1}{\\sqrt{3}\\sqrt{4}} & \\frac{1}{\\sqrt{3}\\sqrt{4}} & \\frac{1}{3} & 0 \\\\\n",
    "        \\frac{1}{\\sqrt{3}\\sqrt{4}} & \\frac{1}{\\sqrt{3}\\sqrt{4}} & 0 & \\frac{1}{3}\n",
    "        \\end{pmatrix}\n",
    "$$\n",
    "\n",
    "2. Feature Matrix\n",
    "    * We didn't specify any node feature, so this is going to be the identity matrix. \n",
    "\n",
    "3. First GCN layer (dim: 4 -> 2)\n",
    "    * Weight Matrix: $$\\LARGE{W_1} = \\begin{pmatrix}\n",
    "            1 & 1 \\\\\n",
    "            1 & 1 \\\\\n",
    "            1 & 1 \\\\\n",
    "            1 & 1 \n",
    "            \\end{pmatrix}$$\n",
    "    * Full Equation: $$ ReLU(\\hat{A}XW) = ReLU(\n",
    "            \\begin{pmatrix}\n",
    "            \\frac{1}{4} &  \\frac{1}{4} & \\frac{1}{\\sqrt{3}\\sqrt{4}} & \\frac{1}{\\sqrt{3}\\sqrt{4}} \\\\\n",
    "            \\frac{1}{4} &  \\frac{1}{4} & \\frac{1}{\\sqrt{3}\\sqrt{4}} & \\frac{1}{\\sqrt{3}\\sqrt{4}} \\\\\n",
    "            \\frac{1}{\\sqrt{3}\\sqrt{4}} & \\frac{1}{\\sqrt{3}\\sqrt{4}} & \\frac{1}{3} & 0 \\\\\n",
    "            \\frac{1}{\\sqrt{3}\\sqrt{4}} & \\frac{1}{\\sqrt{3}\\sqrt{4}} & 0 & \\frac{1}{3}\n",
    "            \\end{pmatrix} \\LARGE{X}\n",
    "            \\begin{pmatrix}\n",
    "            1 & 1 \\\\\n",
    "            1 & 1 \\\\\n",
    "            1 & 1 \\\\\n",
    "            1 & 1 \n",
    "            \\end{pmatrix})$$\n",
    "    * Each node's representation after passing through this layer: \n",
    "        1. [1.07735027, 1.07735027]\n",
    "        2. [1.07735027, 1.07735027]\n",
    "        3. [0.9106836 , 0.9106836]\n",
    "        4. [0.9106836 , 0.9106836]\n",
    "\n",
    "4. Second GCN layer (dim: 2 -> 1)\n",
    "    * Weight Matrix: $$\\LARGE{W_2} = \\begin{pmatrix}\n",
    "            1 \\\\\n",
    "            1 \n",
    "            \\end{pmatrix}$$\n",
    "    * Each node's representation after passing through this layer: \n",
    "        1. [2.12891712]\n",
    "        2. [2.12891712] \n",
    "        3. [1.85113934]\n",
    "        4. [1.85113934]"
   ]
  },
  {
   "cell_type": "code",
   "execution_count": 47,
   "metadata": {},
   "outputs": [
    {
     "data": {
      "text/plain": [
       "tensor([[2.1289],\n",
       "        [2.1289],\n",
       "        [1.8511],\n",
       "        [1.8511]], device='cuda:0', grad_fn=<MmBackward0>)"
      ]
     },
     "execution_count": 47,
     "metadata": {},
     "output_type": "execute_result"
    }
   ],
   "source": [
    "# test the encoding in a 2 layer GCN \n",
    "edge_index = torch.tensor(list(graph.to_directed().edges)).T-1\n",
    "device = 'cuda:0' if torch.cuda.is_available() else 'mps'\n",
    "layer1 = GCNConvCustom(edge_index=edge_index, input_dim=4, output_dim=2, random_init=False, with_bias=False)\n",
    "output1 = layer1(torch.eye(4).to(device))\n",
    "layer2 = GCNConvCustom(edge_index=edge_index, input_dim=2, output_dim=1, random_init=False, with_bias=False)\n",
    "layer2(output1)"
   ]
  },
  {
   "cell_type": "markdown",
   "metadata": {},
   "source": [
    "#### Task 2\n",
    "Link Prediction with GCN-AE\n",
    "\n",
    "Questions: \n",
    "* What is the loss function for the autoencoder and why is the setup appropriate for link-prediction? \n",
    "    - The idea of using a graph autoencoder for link prediction is to randomly take out part of the graph, and use the remaining portion of the graph to predict the removed portion of the graph. \n",
    "    - This process is similar to the encoding-decoding procedure of an autoencoder. The encoding is the model extracting information form the training portion of the graph. The decoding is the model reconstructing the connection of the test portion of the graph. \n",
    "    - The loss function of the autoencoder calculates the reconstruction loss, i.e. how different the reconstruction of the decoder is from the ground truth. One common approach is to use the MSE between the decoded tensor and the ground truth. \n",
    "\n",
    "* What if you wanted to take node attributes into account as well? \n",
    "    - For GCNs, the node attributes can just be passed into it as part of the encoding features, so there shouldn't be a difference in the procedure from the procedure without the node attributes. \n",
    "\n",
    "* How might you change the loss function?\n",
    "    - Although link prediction problem can be understood as a reconstruct problem, it is also a classification problem. For each pair of nodes, there can only be two possibilities, link or no link. This indicates that we can use binary cross-entropy as the loss function, instead of mean square error. "
   ]
  },
  {
   "cell_type": "code",
   "execution_count": 6,
   "metadata": {},
   "outputs": [
    {
     "name": "stdout",
     "output_type": "stream",
     "text": [
      "Loads Cora dataset, at root location: ../data/raw/Planetoid\n",
      "Number of nodes: 2708\n",
      "Number of edges: 10556\n",
      "Average node degree: 3.90\n",
      "Number of training nodes: 140\n",
      "Training node label rate: 0.05\n",
      "Has isolated nodes: False\n",
      "Has self-loops: False\n",
      "Is undirected: True\n",
      "\n",
      "            There are a total of 10556. \n",
      "\n",
      "            Train dataset has 5278 edges. \n",
      "\n",
      "            Validation dataset has 2111 edges. \n",
      "\n",
      "            Test dataset has 3167 edges. \n",
      "          \n"
     ]
    },
    {
     "ename": "NotImplementedError",
     "evalue": "The operator 'aten::index.Tensor' is not current implemented for the MPS device. If you want this op to be added in priority during the prototype phase of this feature, please comment on https://github.com/pytorch/pytorch/issues/77764. As a temporary fix, you can set the environment variable `PYTORCH_ENABLE_MPS_FALLBACK=1` to use the CPU as a fallback for this op. WARNING: this will be slower than running natively on MPS.",
     "output_type": "error",
     "traceback": [
      "\u001b[0;31m---------------------------------------------------------------------------\u001b[0m",
      "\u001b[0;31mNotImplementedError\u001b[0m                       Traceback (most recent call last)",
      "\u001b[1;32m/Users/barryxue/Desktop/dsc180-graph-neural-net/notebooks/link_prediction.ipynb Cell 18\u001b[0m in \u001b[0;36m<cell line: 38>\u001b[0;34m()\u001b[0m\n\u001b[1;32m     <a href='vscode-notebook-cell:/Users/barryxue/Desktop/dsc180-graph-neural-net/notebooks/link_prediction.ipynb#X23sZmlsZQ%3D%3D?line=34'>35</a>\u001b[0m     \u001b[39mreturn\u001b[39;00m train_matrix\u001b[39m.\u001b[39mto(device), validation_matrix\u001b[39m.\u001b[39mto(device), test_matrix\u001b[39m.\u001b[39mto(device)\n\u001b[1;32m     <a href='vscode-notebook-cell:/Users/barryxue/Desktop/dsc180-graph-neural-net/notebooks/link_prediction.ipynb#X23sZmlsZQ%3D%3D?line=36'>37</a>\u001b[0m edge_index, node_features, labels \u001b[39m=\u001b[39m loader_cora_torch(shuffle\u001b[39m=\u001b[39m\u001b[39mTrue\u001b[39;00m, device\u001b[39m=\u001b[39m\u001b[39m'\u001b[39m\u001b[39mcuda:0\u001b[39m\u001b[39m'\u001b[39m \u001b[39mif\u001b[39;00m torch\u001b[39m.\u001b[39mcuda\u001b[39m.\u001b[39mis_available() \u001b[39melse\u001b[39;00m \u001b[39m'\u001b[39m\u001b[39mmps\u001b[39m\u001b[39m'\u001b[39m) \u001b[39m# load the cora dataset\u001b[39;00m\n\u001b[0;32m---> <a href='vscode-notebook-cell:/Users/barryxue/Desktop/dsc180-graph-neural-net/notebooks/link_prediction.ipynb#X23sZmlsZQ%3D%3D?line=37'>38</a>\u001b[0m train_subset, validation_subset, test_subset \u001b[39m=\u001b[39m extract_train_test_data(edge_index)\n",
      "\u001b[1;32m/Users/barryxue/Desktop/dsc180-graph-neural-net/notebooks/link_prediction.ipynb Cell 18\u001b[0m in \u001b[0;36mextract_train_test_data\u001b[0;34m(edge_index, node_features, labels, device)\u001b[0m\n\u001b[1;32m     <a href='vscode-notebook-cell:/Users/barryxue/Desktop/dsc180-graph-neural-net/notebooks/link_prediction.ipynb#X23sZmlsZQ%3D%3D?line=30'>31</a>\u001b[0m randomize_indices \u001b[39m=\u001b[39m torch\u001b[39m.\u001b[39mrandperm(num_edges)\n\u001b[1;32m     <a href='vscode-notebook-cell:/Users/barryxue/Desktop/dsc180-graph-neural-net/notebooks/link_prediction.ipynb#X23sZmlsZQ%3D%3D?line=31'>32</a>\u001b[0m train_indices, val_indices, test_indices \u001b[39m=\u001b[39m randomize_indices[:train_size], randomize_indices[train_size:train_size\u001b[39m+\u001b[39mval_size], randomize_indices[train_size\u001b[39m+\u001b[39mval_size:]\n\u001b[0;32m---> <a href='vscode-notebook-cell:/Users/barryxue/Desktop/dsc180-graph-neural-net/notebooks/link_prediction.ipynb#X23sZmlsZQ%3D%3D?line=32'>33</a>\u001b[0m train_matrix, validation_matrix, test_matrix \u001b[39m=\u001b[39m edge_index[:, train_indices], edge_index[:, val_indices], edge_index[:, test_indices] \n\u001b[1;32m     <a href='vscode-notebook-cell:/Users/barryxue/Desktop/dsc180-graph-neural-net/notebooks/link_prediction.ipynb#X23sZmlsZQ%3D%3D?line=34'>35</a>\u001b[0m \u001b[39mreturn\u001b[39;00m train_matrix\u001b[39m.\u001b[39mto(device), validation_matrix\u001b[39m.\u001b[39mto(device), test_matrix\u001b[39m.\u001b[39mto(device)\n",
      "\u001b[0;31mNotImplementedError\u001b[0m: The operator 'aten::index.Tensor' is not current implemented for the MPS device. If you want this op to be added in priority during the prototype phase of this feature, please comment on https://github.com/pytorch/pytorch/issues/77764. As a temporary fix, you can set the environment variable `PYTORCH_ENABLE_MPS_FALLBACK=1` to use the CPU as a fallback for this op. WARNING: this will be slower than running natively on MPS."
     ]
    }
   ],
   "source": [
    "# data preparation \n",
    "\"\"\"\n",
    "Strategy: \n",
    "* Randomly sample 50% edges (training), 20% edges (validation), and 30% edges (testing). \n",
    "* We want to evaluate against the edges that are uniformly distributed connected to each nodes, \n",
    "    so create a couple of random sampled train, validation, test datasets, evaluate the performance against each. \n",
    "\"\"\"\n",
    "def extract_train_test_data(edge_index, node_features=None, labels=None, device='cuda:0' if torch.cuda.is_available() else 'mps'): \n",
    "    \"\"\"\n",
    "    Parameters\n",
    "        edge_index: torch.Tensor, shape should be (2, # of edges in graph)\n",
    "        node_features: troch.Tensor, shape should be (# of nodes, feature dimension)\n",
    "        labels: torch.Tensor, shape should eb (# of nodes, )\n",
    "        \n",
    "    Return\n",
    "        datasets: list, contain randomly sampled (train_matrix, validation_matrix, test_matix) dataset; same length as the number of trials specified. \n",
    "            train_matrix: sub-graph created by sampling 50% of the edges from the original graph \n",
    "            validation_matix: sub-graph created by sampling 20% of the edges from the original graph \n",
    "            test_matrix: sub-graph of the rest of the 30% of the original graph\n",
    "    \"\"\"\n",
    "    num_edges = edge_index.shape[1] \n",
    "    train_size, val_size = int(0.5*num_edges), int(0.2*num_edges)\n",
    "    test_size = num_edges - train_size - val_size\n",
    "    print(f\"\"\"\n",
    "            There are a total of {num_edges}. \\n\n",
    "            Train dataset has {train_size} edges. \\n\n",
    "            Validation dataset has {val_size} edges. \\n\n",
    "            Test dataset has {test_size} edges. \n",
    "          \"\"\")\n",
    "   \n",
    "    randomize_indices = torch.randperm(num_edges)\n",
    "    train_indices, val_indices, test_indices = randomize_indices[:train_size], randomize_indices[train_size:train_size+val_size], randomize_indices[train_size+val_size:]\n",
    "    train_matrix, validation_matrix, test_matrix = edge_index[:, train_indices], edge_index[:, val_indices], edge_index[:, test_indices] \n",
    "   \n",
    "    return train_matrix.to(device), validation_matrix.to(device), test_matrix.to(device)\n",
    "    \n",
    "edge_index, node_features, labels = loader_cora_torch(shuffle=True, device='cuda:0' if torch.cuda.is_available() else 'mps') # load the cora dataset\n",
    "train_subset, validation_subset, test_subset = extract_train_test_data(edge_index)"
   ]
  },
  {
   "cell_type": "code",
   "execution_count": 113,
   "metadata": {},
   "outputs": [],
   "source": [
    "model = GCN_AE(edge_index=train_subset, input_size=node_features.shape[0], hidden_size_1=30, hidden_size_2=10, encoding_size=5)\n",
    "criterion = nn.BCELoss()\n",
    "optimizer = torch.optim.Adam(model.parameters(), lr=1e-3)\n",
    "\n",
    "model.set_optimizer(optimizer=optimizer)\n",
    "model.set_loss(criterion=criterion)"
   ]
  },
  {
   "cell_type": "code",
   "execution_count": 114,
   "metadata": {},
   "outputs": [],
   "source": [
    "Z = model(torch.eye(node_features.shape[0], device='cuda:0'))\n"
   ]
  },
  {
   "cell_type": "code",
   "execution_count": 115,
   "metadata": {},
   "outputs": [
    {
     "data": {
      "text/plain": [
       "tensor([[0.5000, 0.5000, 0.5000, 0.5000, 0.5000],\n",
       "        [0.5000, 0.9881, 1.0000, 1.0000, 0.5000],\n",
       "        [0.5000, 1.0000, 1.0000, 1.0000, 0.5000],\n",
       "        [0.5000, 1.0000, 1.0000, 1.0000, 0.5000],\n",
       "        [0.5000, 0.5000, 0.5000, 0.5000, 0.5000]], device='cuda:0',\n",
       "       grad_fn=<SigmoidBackward0>)"
      ]
     },
     "execution_count": 115,
     "metadata": {},
     "output_type": "execute_result"
    }
   ],
   "source": [
    "Z"
   ]
  },
  {
   "cell_type": "code",
   "execution_count": null,
   "metadata": {},
   "outputs": [],
   "source": [
    "for epoch in range(300): \n",
    "    # train \n",
    "    model.train(True)\n",
    "    train_running_loss = 0.0\n",
    "    model.optimizer.zero_grad()\n",
    "    output = model()\n",
    "    "
   ]
  }
 ],
 "metadata": {
  "kernelspec": {
   "display_name": "Python 3.9.10 ('py39')",
   "language": "python",
   "name": "python3"
  },
  "language_info": {
   "codemirror_mode": {
    "name": "ipython",
    "version": 3
   },
   "file_extension": ".py",
   "mimetype": "text/x-python",
   "name": "python",
   "nbconvert_exporter": "python",
   "pygments_lexer": "ipython3",
   "version": "3.9.10"
  },
  "vscode": {
   "interpreter": {
    "hash": "0ee9abc2f8ed4c2bec59380a88532f6c4409e3142704504d9be0d180fda6aa0f"
   }
  }
 },
 "nbformat": 4,
 "nbformat_minor": 4
}
