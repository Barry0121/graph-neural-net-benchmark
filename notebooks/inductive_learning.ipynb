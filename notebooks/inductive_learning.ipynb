{
 "cells": [
  {
   "cell_type": "code",
   "execution_count": null,
   "metadata": {},
   "outputs": [],
   "source": []
  }
 ],
 "metadata": {
  "kernelspec": {
   "display_name": "Python 3.10.8 ('gcn')",
   "language": "python",
   "name": "python3"
  },
  "language_info": {
   "name": "python",
   "version": "3.10.8"
  },
  "orig_nbformat": 4,
  "vscode": {
   "interpreter": {
    "hash": "c5c63958b8fbdae5d372fc0dd404e4e10eddae4b1263fc1fb5bccd426a7de9b8"
   }
  }
 },
 "nbformat": 4,
 "nbformat_minor": 2
}
