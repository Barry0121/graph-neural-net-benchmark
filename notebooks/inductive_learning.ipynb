{
 "cells": [
  {
   "cell_type": "code",
   "execution_count": 1,
   "metadata": {},
   "outputs": [],
   "source": [
    "# Standard pacakges \n",
    "import torch \n",
    "from torch import nn, utils\n",
    "import torch.nn.functional as F\n",
    "import networkx as nx \n",
    "import numpy as np \n",
    "import matplotlib.pyplot as plt \n",
    "\n",
    "# Pytroch Geometric \n",
    "from torch_geometric import utils as gutils\n",
    "from torch_geometric import nn as gnn # import layers \n",
    "from torch_geometric.datasets import Planetoid # import dataset CORA "
   ]
  },
  {
   "cell_type": "code",
   "execution_count": null,
   "metadata": {},
   "outputs": [],
   "source": []
  }
 ],
 "metadata": {
  "kernelspec": {
   "display_name": "Python 3.10.8 ('gcn')",
   "language": "python",
   "name": "python3"
  },
  "language_info": {
   "codemirror_mode": {
    "name": "ipython",
    "version": 3
   },
   "file_extension": ".py",
   "mimetype": "text/x-python",
   "name": "python",
   "nbconvert_exporter": "python",
   "pygments_lexer": "ipython3",
   "version": "3.10.8"
  },
  "orig_nbformat": 4,
  "vscode": {
   "interpreter": {
    "hash": "c5c63958b8fbdae5d372fc0dd404e4e10eddae4b1263fc1fb5bccd426a7de9b8"
   }
  }
 },
 "nbformat": 4,
 "nbformat_minor": 2
}
