{
 "cells": [
  {
   "cell_type": "markdown",
   "metadata": {},
   "source": [
    "## Graph Base Data Coding Tasks\n",
    "\n",
    "1. SNAP data statistics and visualization  \n",
    "2. CORA data exploration "
   ]
  },
  {
   "cell_type": "markdown",
   "metadata": {},
   "source": [
    "## 1. SNAP Exploration\n",
    "\n",
    "Goals \n",
    "- Visualize Degree Distribution\n",
    "- Create Adjacency Matrix, then visualize connections \n",
    "- Calculate Average Path Length\n",
    "- With Adjacency Matrix, observe connectedness\n",
    "- Calculate Cluster Coefficient for the graph \n",
    "- Visualize the Graph with networkx"
   ]
  },
  {
   "cell_type": "code",
   "execution_count": 2,
   "metadata": {},
   "outputs": [],
   "source": [
    "import networkx as nx\n",
    "import numpy as np "
   ]
  },
  {
   "cell_type": "markdown",
   "metadata": {},
   "source": [
    "## 2. CORA Exploration \n",
    "\n",
    "Goals\n",
    "- Download the Cora dataset. Read the readme file.\n",
    "- Construct a graph from the features (word_attributes within cora.content) using one of the methods you learned about in section 2.2 of the von Luxburg tutorial in week 1. You may use sklearn.neighbors in your implementation.\n",
    "- Construct an adjacency matrix from the citation information given in cora.cites.\n",
    "- Compare the graph properties of the constructed graph to the given citation graph. Are the graphs similar?"
   ]
  },
  {
   "cell_type": "code",
   "execution_count": 3,
   "metadata": {},
   "outputs": [],
   "source": [
    "import sklearn.neighbors as nb\n",
    "import numpy as np"
   ]
  },
  {
   "cell_type": "code",
   "execution_count": null,
   "metadata": {},
   "outputs": [],
   "source": []
  }
 ],
 "metadata": {
  "kernelspec": {
   "display_name": "py39-kernel",
   "language": "python",
   "name": "py39-kernel"
  },
  "language_info": {
   "codemirror_mode": {
    "name": "ipython",
    "version": 3
   },
   "file_extension": ".py",
   "mimetype": "text/x-python",
   "name": "python",
   "nbconvert_exporter": "python",
   "pygments_lexer": "ipython3",
   "version": "3.9.13"
  },
  "orig_nbformat": 4,
  "vscode": {
   "interpreter": {
    "hash": "aee8b7b246df8f9039afb4144a1f6fd8d2ca17a180786b69acc140d282b71a49"
   }
  }
 },
 "nbformat": 4,
 "nbformat_minor": 2
}
