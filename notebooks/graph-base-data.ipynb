{
 "cells": [
  {
   "cell_type": "markdown",
   "metadata": {},
   "source": [
    "## Graph Base Data Coding Tasks\n",
    "\n",
    "1. SNAP data statistics and visualization  \n",
    "2. CORA data exploration "
   ]
  },
  {
   "cell_type": "markdown",
   "metadata": {},
   "source": [
    "## 1. SNAP Exploration\n",
    "\n",
    "Goals \n",
    "- Visualize Degree Distribution\n",
    "- Create Adjacency Matrix, then visualize connections \n",
    "- Calculate Average Path Length\n",
    "- With Adjacency Matrix, observe connectedness\n",
    "- Calculate Cluster Coefficient for the graph \n",
    "- Visualize the Graph with networkx"
   ]
  },
  {
   "cell_type": "code",
   "execution_count": 19,
   "metadata": {},
   "outputs": [],
   "source": [
    "import networkx as nx\n",
    "import numpy as np \n",
    "import pandas as pd\n",
    "import json"
   ]
  },
  {
   "cell_type": "markdown",
   "metadata": {},
   "source": [
    "Start with Twitch Data"
   ]
  },
  {
   "cell_type": "code",
   "execution_count": 51,
   "metadata": {},
   "outputs": [],
   "source": [
    "twitch_edges = pd.read_csv(\"../data/raw/snap/twitch/ENGB/musae_ENGB_edges.csv\") # get edges, skip 1 to skip header\n",
    "twitch_target = pd.read_csv(\"../data/raw/snap/twitch/ENGB/musae_ENGB_target.csv\") # get target\n",
    "# get features\n",
    "with open(\"../data/raw/snap/twitch/ENGB/musae_ENGB_features.json\", \"r\") as file: \n",
    "    twitch_features = json.loads(file.read())"
   ]
  },
  {
   "cell_type": "code",
   "execution_count": 52,
   "metadata": {},
   "outputs": [
    {
     "data": {
      "text/plain": [
       "array([2299,  153,  397, 5623, 5875, 3346, 6930, 6367, 1434, 4470])"
      ]
     },
     "execution_count": 52,
     "metadata": {},
     "output_type": "execute_result"
    }
   ],
   "source": [
    "# collect the nodes \n",
    "twitch_nodes = twitch_target.new_id.to_numpy(dtype='int')\n",
    "twitch_nodes[:10]"
   ]
  },
  {
   "cell_type": "code",
   "execution_count": 53,
   "metadata": {},
   "outputs": [
    {
     "data": {
      "text/plain": [
       "array([[6194,  255],\n",
       "       [6194,  980],\n",
       "       [6194, 2992],\n",
       "       [6194, 2507],\n",
       "       [6194,  986]])"
      ]
     },
     "execution_count": 53,
     "metadata": {},
     "output_type": "execute_result"
    }
   ],
   "source": [
    "# reformat dataframe into array for faster speed\n",
    "twitch_edges = twitch_edges.to_numpy(dtype='int')\n",
    "twitch_edges[:5]"
   ]
  },
  {
   "cell_type": "code",
   "execution_count": 54,
   "metadata": {},
   "outputs": [
    {
     "name": "stdout",
     "output_type": "stream",
     "text": [
      "There are 7126 nodes.\n",
      "There are 35324 edges.\n",
      "Average Degree.\n"
     ]
    }
   ],
   "source": [
    "# get some basic stats on the nodes \n",
    "def general_graph_stats(edges, nodes):\n",
    "    \"\"\"Generate a printed report of general graph statistics\"\"\"\n",
    "    print(f\"There are {len(nodes)} nodes.\")\n",
    "    print(f\"There are {edges.shape[0]} edges.\")\n",
    "    print(f\"Average Degree.\")\n",
    "\n",
    "general_graph_stats(twitch_edges, twitch_nodes)"
   ]
  },
  {
   "cell_type": "markdown",
   "metadata": {},
   "source": [
    "## 2. CORA Exploration \n",
    "\n",
    "Goals\n",
    "- Download the Cora dataset. Read the readme file.\n",
    "- Construct a graph from the features (word_attributes within cora.content) using one of the methods you learned about in section 2.2 of the von Luxburg tutorial in week 1. You may use sklearn.neighbors in your implementation.\n",
    "- Construct an adjacency matrix from the citation information given in cora.cites.\n",
    "- Compare the graph properties of the constructed graph to the given citation graph. Are the graphs similar?"
   ]
  },
  {
   "cell_type": "code",
   "execution_count": 3,
   "metadata": {},
   "outputs": [],
   "source": [
    "import sklearn.neighbors as nb\n",
    "import numpy as np"
   ]
  },
  {
   "cell_type": "code",
   "execution_count": null,
   "metadata": {},
   "outputs": [],
   "source": []
  }
 ],
 "metadata": {
  "kernelspec": {
   "display_name": "py39-kernel",
   "language": "python",
   "name": "py39-kernel"
  },
  "language_info": {
   "codemirror_mode": {
    "name": "ipython",
    "version": 3
   },
   "file_extension": ".py",
   "mimetype": "text/x-python",
   "name": "python",
   "nbconvert_exporter": "python",
   "pygments_lexer": "ipython3",
   "version": "3.9.13"
  },
  "orig_nbformat": 4,
  "vscode": {
   "interpreter": {
    "hash": "aee8b7b246df8f9039afb4144a1f6fd8d2ca17a180786b69acc140d282b71a49"
   }
  }
 },
 "nbformat": 4,
 "nbformat_minor": 2
}
