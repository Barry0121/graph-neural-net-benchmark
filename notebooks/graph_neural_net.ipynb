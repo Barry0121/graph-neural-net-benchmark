{
 "cells": [
  {
   "cell_type": "markdown",
   "metadata": {},
   "source": [
    "Reference website for overview of GCN: [LINK](http://tkipf.github.io/graph-convolutional-networks/)"
   ]
  },
  {
   "cell_type": "code",
   "execution_count": 8,
   "metadata": {},
   "outputs": [],
   "source": [
    "import networkx as nx \n",
    "import numpy as np \n",
    "import pandas as pd\n",
    "import matplotlib.pyplot as plt "
   ]
  },
  {
   "cell_type": "markdown",
   "metadata": {},
   "source": [
    "# Part 1: NumPy Example of GCN on Sample Dataset"
   ]
  },
  {
   "cell_type": "code",
   "execution_count": 8,
   "metadata": {},
   "outputs": [
    {
     "name": "stdout",
     "output_type": "stream",
     "text": [
      "Graph Info:\n",
      " Graph named 'G' with 6 nodes and 7 edges\n",
      "\n",
      "Graph Nodes:  [(0, {'name': 0}), (1, {'name': 1}), (2, {'name': 2}), (3, {'name': 3}), (4, {'name': 4}), (5, {'name': 5})]\n"
     ]
    },
    {
     "name": "stderr",
     "output_type": "stream",
     "text": [
      "/var/folders/bd/3fcn_cld06z1y5f68_qm162m0000gn/T/ipykernel_81637/3724959495.py:22: DeprecationWarning: info is deprecated and will be removed in version 3.0.\n",
      "\n",
      "  print('Graph Info:\\n', nx.info(G))\n"
     ]
    },
    {
     "data": {
      "image/png": "[encoded data removed]",
      "text/plain": [
       "<Figure size 432x288 with 1 Axes>"
      ]
     },
     "metadata": {},
     "output_type": "display_data"
    }
   ],
   "source": [
    "from scipy.linalg import fractional_matrix_power\n",
    "\n",
    "import warnings\n",
    "warnings.filterwarnings(\"ignore\", category=UserWarning)\n",
    "\n",
    "\n",
    "#Initialize the graph\n",
    "G = nx.Graph(name='G')\n",
    "\n",
    "#Create nodes\n",
    "#In this example, the graph will consist of 6 nodes.\n",
    "#Each node is assigned node feature which corresponds to the node name\n",
    "for i in range(6):\n",
    "    G.add_node(i, name=i)\n",
    "\n",
    "\n",
    "#Define the edges and the edges to the graph\n",
    "edges = [(0,1),(0,2),(1,2),(0,3),(3,4),(3,5),(4,5)]\n",
    "G.add_edges_from(edges)\n",
    "\n",
    "#See graph info\n",
    "print('Graph Info:\\n', nx.info(G))\n",
    "\n",
    "#Inspect the node features\n",
    "print('\\nGraph Nodes: ', G.nodes.data())\n",
    "\n",
    "#Plot the graph\n",
    "nx.draw(G, with_labels=True, font_weight='bold')\n",
    "plt.show()"
   ]
  },
  {
   "cell_type": "code",
   "execution_count": 9,
   "metadata": {},
   "outputs": [
    {
     "name": "stdout",
     "output_type": "stream",
     "text": [
      "Shape of A:  (6, 6)\n",
      "\n",
      "Shape of X:  (6, 1)\n",
      "\n",
      "Adjacency Matrix (A):\n",
      " [[0. 1. 1. 1. 0. 0.]\n",
      " [1. 0. 1. 0. 0. 0.]\n",
      " [1. 1. 0. 0. 0. 0.]\n",
      " [1. 0. 0. 0. 1. 1.]\n",
      " [0. 0. 0. 1. 0. 1.]\n",
      " [0. 0. 0. 1. 1. 0.]]\n",
      "\n",
      "Node Features Matrix (X):\n",
      " [[0]\n",
      " [1]\n",
      " [2]\n",
      " [3]\n",
      " [4]\n",
      " [5]]\n"
     ]
    },
    {
     "name": "stderr",
     "output_type": "stream",
     "text": [
      "/var/folders/bd/3fcn_cld06z1y5f68_qm162m0000gn/T/ipykernel_81637/784659161.py:2: FutureWarning: attr_matrix will return an numpy.ndarray instead of a numpy.matrix in NetworkX 3.0.\n",
      "  A = np.array(nx.attr_matrix(G, node_attr='name')[0])\n",
      "/var/folders/bd/3fcn_cld06z1y5f68_qm162m0000gn/T/ipykernel_81637/784659161.py:3: FutureWarning: attr_matrix will return an numpy.ndarray instead of a numpy.matrix in NetworkX 3.0.\n",
      "  X = np.array(nx.attr_matrix(G, node_attr='name')[1])\n"
     ]
    }
   ],
   "source": [
    "# Get the Adjacency Matrix (A) and Node Features Matrix (X) as numpy array\n",
    "A = np.array(nx.attr_matrix(G, node_attr='name')[0])\n",
    "X = np.array(nx.attr_matrix(G, node_attr='name')[1])\n",
    "X = np.expand_dims(X,axis=1)\n",
    "\n",
    "print('Shape of A: ', A.shape)\n",
    "print('\\nShape of X: ', X.shape)\n",
    "print('\\nAdjacency Matrix (A):\\n', A)\n",
    "print('\\nNode Features Matrix (X):\\n', X)"
   ]
  },
  {
   "cell_type": "code",
   "execution_count": 10,
   "metadata": {},
   "outputs": [
    {
     "name": "stdout",
     "output_type": "stream",
     "text": [
      "Dot product of A and X (AX):\n",
      " [[6.]\n",
      " [2.]\n",
      " [1.]\n",
      " [9.]\n",
      " [8.]\n",
      " [7.]]\n"
     ]
    }
   ],
   "source": [
    "# Dot product Adjacency Matrix (A) and Node Features (X)\n",
    "AX = np.dot(A,X)\n",
    "print(\"Dot product of A and X (AX):\\n\", AX)"
   ]
  },
  {
   "cell_type": "markdown",
   "metadata": {},
   "source": [
    "#### The dot product of Adjacency Matrix and Node Features Matrix represents the sum of neighboring node features.\n",
    "#### But, if we think about it more, we will realize that while AX sums up the adjacent node features, it does not take into account the features of the node itself.\n",
    "* So we have to insert some self loops"
   ]
  },
  {
   "cell_type": "code",
   "execution_count": 11,
   "metadata": {},
   "outputs": [
    {
     "name": "stdout",
     "output_type": "stream",
     "text": [
      "Edges of G with self-loops:\n",
      " [(0, 1), (0, 2), (0, 3), (0, 0), (1, 2), (1, 1), (2, 2), (3, 4), (3, 5), (3, 3), (4, 5), (4, 4), (5, 5)]\n",
      "Adjacency Matrix of added self-loops G (A_hat):\n",
      " [[1. 1. 1. 1. 0. 0.]\n",
      " [1. 1. 1. 0. 0. 0.]\n",
      " [1. 1. 1. 0. 0. 0.]\n",
      " [1. 0. 0. 1. 1. 1.]\n",
      " [0. 0. 0. 1. 1. 1.]\n",
      " [0. 0. 0. 1. 1. 1.]]\n",
      "AX:\n",
      " [[ 6.]\n",
      " [ 3.]\n",
      " [ 3.]\n",
      " [12.]\n",
      " [12.]\n",
      " [12.]]\n"
     ]
    },
    {
     "name": "stderr",
     "output_type": "stream",
     "text": [
      "/var/folders/bd/3fcn_cld06z1y5f68_qm162m0000gn/T/ipykernel_81637/3005080699.py:14: FutureWarning: attr_matrix will return an numpy.ndarray instead of a numpy.matrix in NetworkX 3.0.\n",
      "  A_hat = np.array(nx.attr_matrix(G_self_loops, node_attr='name')[0])\n"
     ]
    }
   ],
   "source": [
    "# Add Self Loops\n",
    "G_self_loops = G.copy()\n",
    "\n",
    "self_loops = []\n",
    "for i in range(G.number_of_nodes()):\n",
    "    self_loops.append((i,i))\n",
    "\n",
    "G_self_loops.add_edges_from(self_loops)\n",
    "\n",
    "# Check the edges of G_self_loops after adding the self loops\n",
    "print('Edges of G with self-loops:\\n', G_self_loops.edges)\n",
    "\n",
    "# Get the Adjacency Matrix (A) and Node Features Matrix (X) of added self-lopps graph\n",
    "A_hat = np.array(nx.attr_matrix(G_self_loops, node_attr='name')[0])\n",
    "print('Adjacency Matrix of added self-loops G (A_hat):\\n', A_hat)\n",
    "\n",
    "# Calculate the dot product of A_hat and X (AX)\n",
    "AX = np.dot(A_hat, X)\n",
    "print('AX:\\n', AX)"
   ]
  },
  {
   "cell_type": "code",
   "execution_count": 12,
   "metadata": {},
   "outputs": [
    {
     "name": "stdout",
     "output_type": "stream",
     "text": [
      "Degree Matrix of added self-loops G (D):  [(0, 5), (1, 4), (2, 4), (3, 5), (4, 4), (5, 4)]\n",
      "Degree Matrix of added self-loops G as numpy array (D):\n",
      " [[5 0 0 0 0 0]\n",
      " [0 4 0 0 0 0]\n",
      " [0 0 4 0 0 0]\n",
      " [0 0 0 5 0 0]\n",
      " [0 0 0 0 4 0]\n",
      " [0 0 0 0 0 4]]\n",
      "Inverse of D:\n",
      " [[0.2  0.   0.   0.   0.   0.  ]\n",
      " [0.   0.25 0.   0.   0.   0.  ]\n",
      " [0.   0.   0.25 0.   0.   0.  ]\n",
      " [0.   0.   0.   0.2  0.   0.  ]\n",
      " [0.   0.   0.   0.   0.25 0.  ]\n",
      " [0.   0.   0.   0.   0.   0.25]]\n",
      "DAX:\n",
      " [[1.2 ]\n",
      " [0.75]\n",
      " [0.75]\n",
      " [2.4 ]\n",
      " [3.  ]\n",
      " [3.  ]]\n"
     ]
    }
   ],
   "source": [
    "# Normalize the data by finding the dot product with degree matrix\n",
    "#Get the Degree Matrix of the added self-loops graph\n",
    "Deg_Mat = G_self_loops.degree()\n",
    "print('Degree Matrix of added self-loops G (D): ', Deg_Mat)\n",
    "\n",
    "#Convert the Degree Matrix to a N x N matrix where N is the number of nodes\n",
    "D = np.diag([deg for (n,deg) in list(Deg_Mat)])\n",
    "print('Degree Matrix of added self-loops G as numpy array (D):\\n', D)\n",
    "\n",
    "#Find the inverse of Degree Matrix (D)\n",
    "D_inv = np.linalg.inv(D)\n",
    "print('Inverse of D:\\n', D_inv)\n",
    "\n",
    "#Dot product of D and AX for normalization\n",
    "DAX = np.dot(D_inv,AX)\n",
    "print('DAX:\\n', DAX)"
   ]
  },
  {
   "cell_type": "markdown",
   "metadata": {},
   "source": [
    "### Normalization from the paper "
   ]
  },
  {
   "cell_type": "code",
   "execution_count": 16,
   "metadata": {},
   "outputs": [
    {
     "name": "stdout",
     "output_type": "stream",
     "text": [
      "DADX:\n",
      " [[1.27082039]\n",
      " [0.75      ]\n",
      " [0.75      ]\n",
      " [2.61246118]\n",
      " [2.92082039]\n",
      " [2.92082039]]\n"
     ]
    }
   ],
   "source": [
    "# Symmetrically-normalization\n",
    "D_half_norm = fractional_matrix_power(D, -0.5)\n",
    "DADX = D_half_norm.dot(A_hat).dot(D_half_norm).dot(X)\n",
    "print('DADX:\\n', DADX)"
   ]
  },
  {
   "cell_type": "markdown",
   "metadata": {},
   "source": [
    "### Add Weights and Activation "
   ]
  },
  {
   "cell_type": "code",
   "execution_count": 46,
   "metadata": {},
   "outputs": [
    {
     "name": "stdout",
     "output_type": "stream",
     "text": [
      "Features Representation from GCN output:\n",
      " [[0.00027758 0.        ]\n",
      " [0.00017298 0.        ]\n",
      " [0.00017298 0.        ]\n",
      " [0.00053017 0.        ]\n",
      " [0.00054097 0.        ]\n",
      " [0.00054097 0.        ]]\n"
     ]
    }
   ],
   "source": [
    "#Initialize the weights\n",
    "np.random.seed(77777)\n",
    "n_h = 4 #number of neurons in the hidden layer\n",
    "n_y = 2 #number of neurons in the output layer\n",
    "W0 = np.random.randn(X.shape[1],n_h) * 0.01\n",
    "W1 = np.random.randn(n_h,n_y) * 0.01\n",
    "\n",
    "#Implement ReLu as activation function\n",
    "def relu(x):\n",
    "    return np.maximum(0,x)\n",
    "\n",
    "#Build GCN layer\n",
    "#In this function, we implement numpy to simplify\n",
    "def gcn(A,H,W):\n",
    "    I = np.identity(A.shape[0]) #create Identity Matrix of A\n",
    "    A_hat = A + I # add self-loop to A\n",
    "    D = np.diag(np.sum(A_hat, axis=0)) #create Degree Matrix of A\n",
    "    D_half_norm = fractional_matrix_power(D, -0.5) #calculate D to the power of -0.5\n",
    "    eq = D_half_norm.dot(A_hat).dot(D_half_norm).dot(H).dot(W)\n",
    "    return relu(eq)\n",
    "\n",
    "\n",
    "#Do forward propagation\n",
    "H1 = gcn(A,X,W0) # Layer one \n",
    "H2 = gcn(A,H1,W1) # Layer two\n",
    "print('Features Representation from GCN output:\\n', H2)"
   ]
  },
  {
   "cell_type": "code",
   "execution_count": 47,
   "metadata": {},
   "outputs": [
    {
     "data": {
      "image/png": "[encoded data removed]",
      "text/plain": [
       "<Figure size 432x288 with 1 Axes>"
      ]
     },
     "metadata": {},
     "output_type": "display_data"
    }
   ],
   "source": [
    "\n",
    "def plot_features(H2):\n",
    "    #Plot the features representation\n",
    "    x = H2[:,0]\n",
    "    y = H2[:,1]\n",
    "\n",
    "    size = 1000\n",
    "\n",
    "    plt.scatter(x,y,size)\n",
    "    plt.xlim([np.min(x)*0.9, np.max(x)*1.1])\n",
    "    plt.ylim([-1, 1])\n",
    "    plt.xlabel('Feature Representation Dimension 0')\n",
    "    plt.ylabel('Feature Representation Dimension 1')\n",
    "    plt.title('Feature Representation')\n",
    "\n",
    "    for i,row in enumerate(H2):\n",
    "        str = \"{}\".format(i)\n",
    "        plt.annotate(str, (row[0],row[1]),fontsize=18, fontweight='bold')\n",
    "\n",
    "    plt.show()\n",
    "\n",
    "\n",
    "plot_features(H2)"
   ]
  },
  {
   "cell_type": "markdown",
   "metadata": {},
   "source": [
    "# Part 2: Implement a 1 Layer GCN to Classify Node Label on CORA dataset"
   ]
  },
  {
   "cell_type": "code",
   "execution_count": 150,
   "metadata": {},
   "outputs": [],
   "source": [
    "import networkx as nx \n",
    "import numpy as np \n",
    "import pandas as pd\n",
    "import matplotlib.pyplot as plt \n",
    "from sklearn.preprocessing import OneHotEncoder\n",
    "from scipy.linalg import fractional_matrix_power"
   ]
  },
  {
   "cell_type": "code",
   "execution_count": 3,
   "metadata": {},
   "outputs": [
    {
     "name": "stdout",
     "output_type": "stream",
     "text": [
      "(5429, 2)\n"
     ]
    },
    {
     "data": {
      "text/html": [
       "<div>\n",
       "<style scoped>\n",
       "    .dataframe tbody tr th:only-of-type {\n",
       "        vertical-align: middle;\n",
       "    }\n",
       "\n",
       "    .dataframe tbody tr th {\n",
       "        vertical-align: top;\n",
       "    }\n",
       "\n",
       "    .dataframe thead th {\n",
       "        text-align: right;\n",
       "    }\n",
       "</style>\n",
       "<table border=\"1\" class=\"dataframe\">\n",
       "  <thead>\n",
       "    <tr style=\"text-align: right;\">\n",
       "      <th></th>\n",
       "      <th>target</th>\n",
       "      <th>source</th>\n",
       "    </tr>\n",
       "  </thead>\n",
       "  <tbody>\n",
       "    <tr>\n",
       "      <th>0</th>\n",
       "      <td>35</td>\n",
       "      <td>1033</td>\n",
       "    </tr>\n",
       "    <tr>\n",
       "      <th>1</th>\n",
       "      <td>35</td>\n",
       "      <td>103482</td>\n",
       "    </tr>\n",
       "    <tr>\n",
       "      <th>2</th>\n",
       "      <td>35</td>\n",
       "      <td>103515</td>\n",
       "    </tr>\n",
       "    <tr>\n",
       "      <th>3</th>\n",
       "      <td>35</td>\n",
       "      <td>1050679</td>\n",
       "    </tr>\n",
       "    <tr>\n",
       "      <th>4</th>\n",
       "      <td>35</td>\n",
       "      <td>1103960</td>\n",
       "    </tr>\n",
       "  </tbody>\n",
       "</table>\n",
       "</div>"
      ],
      "text/plain": [
       "   target   source\n",
       "0      35     1033\n",
       "1      35   103482\n",
       "2      35   103515\n",
       "3      35  1050679\n",
       "4      35  1103960"
      ]
     },
     "execution_count": 3,
     "metadata": {},
     "output_type": "execute_result"
    }
   ],
   "source": [
    "# specify data source  \n",
    "core_fp_edges, core_fp_nodes = \"../data/raw/cora/cora/cora.cites\", \"../data/raw/cora/cora/cora.content\"\n",
    "\n",
    "# use the edges to create a graph; store the content to each nodes \n",
    "edges_df = pd.read_csv(core_fp_edges, names=[\"target\", \"source\"], header=None, delimiter='\\t')\n",
    "print(edges_df.shape)\n",
    "edges_df.head()"
   ]
  },
  {
   "cell_type": "code",
   "execution_count": 4,
   "metadata": {},
   "outputs": [
    {
     "data": {
      "image/png": "[encoded data removed]",
      "text/plain": [
       "<Figure size 432x288 with 1 Axes>"
      ]
     },
     "metadata": {},
     "output_type": "display_data"
    }
   ],
   "source": [
    "# create networkx graph object with edgelist \n",
    "cora_g = nx.from_pandas_edgelist(edges_df)\n",
    "nx.draw(cora_g, with_labels=True, font_weight='bold')"
   ]
  },
  {
   "cell_type": "code",
   "execution_count": 5,
   "metadata": {},
   "outputs": [
    {
     "data": {
      "text/html": [
       "<div>\n",
       "<style scoped>\n",
       "    .dataframe tbody tr th:only-of-type {\n",
       "        vertical-align: middle;\n",
       "    }\n",
       "\n",
       "    .dataframe tbody tr th {\n",
       "        vertical-align: top;\n",
       "    }\n",
       "\n",
       "    .dataframe thead th {\n",
       "        text-align: right;\n",
       "    }\n",
       "</style>\n",
       "<table border=\"1\" class=\"dataframe\">\n",
       "  <thead>\n",
       "    <tr style=\"text-align: right;\">\n",
       "      <th></th>\n",
       "      <th>word_0</th>\n",
       "      <th>word_1</th>\n",
       "      <th>word_2</th>\n",
       "      <th>word_3</th>\n",
       "      <th>word_4</th>\n",
       "      <th>word_5</th>\n",
       "      <th>word_6</th>\n",
       "      <th>word_7</th>\n",
       "      <th>word_8</th>\n",
       "      <th>word_9</th>\n",
       "      <th>...</th>\n",
       "      <th>word_1424</th>\n",
       "      <th>word_1425</th>\n",
       "      <th>word_1426</th>\n",
       "      <th>word_1427</th>\n",
       "      <th>word_1428</th>\n",
       "      <th>word_1429</th>\n",
       "      <th>word_1430</th>\n",
       "      <th>word_1431</th>\n",
       "      <th>word_1432</th>\n",
       "      <th>subject</th>\n",
       "    </tr>\n",
       "  </thead>\n",
       "  <tbody>\n",
       "    <tr>\n",
       "      <th>31336</th>\n",
       "      <td>0</td>\n",
       "      <td>0</td>\n",
       "      <td>0</td>\n",
       "      <td>0</td>\n",
       "      <td>0</td>\n",
       "      <td>0</td>\n",
       "      <td>0</td>\n",
       "      <td>0</td>\n",
       "      <td>0</td>\n",
       "      <td>0</td>\n",
       "      <td>...</td>\n",
       "      <td>0</td>\n",
       "      <td>0</td>\n",
       "      <td>1</td>\n",
       "      <td>0</td>\n",
       "      <td>0</td>\n",
       "      <td>0</td>\n",
       "      <td>0</td>\n",
       "      <td>0</td>\n",
       "      <td>0</td>\n",
       "      <td>Neural_Networks</td>\n",
       "    </tr>\n",
       "    <tr>\n",
       "      <th>1061127</th>\n",
       "      <td>0</td>\n",
       "      <td>0</td>\n",
       "      <td>0</td>\n",
       "      <td>0</td>\n",
       "      <td>0</td>\n",
       "      <td>0</td>\n",
       "      <td>0</td>\n",
       "      <td>0</td>\n",
       "      <td>0</td>\n",
       "      <td>0</td>\n",
       "      <td>...</td>\n",
       "      <td>0</td>\n",
       "      <td>1</td>\n",
       "      <td>0</td>\n",
       "      <td>0</td>\n",
       "      <td>0</td>\n",
       "      <td>0</td>\n",
       "      <td>0</td>\n",
       "      <td>0</td>\n",
       "      <td>0</td>\n",
       "      <td>Rule_Learning</td>\n",
       "    </tr>\n",
       "    <tr>\n",
       "      <th>1106406</th>\n",
       "      <td>0</td>\n",
       "      <td>0</td>\n",
       "      <td>0</td>\n",
       "      <td>0</td>\n",
       "      <td>0</td>\n",
       "      <td>0</td>\n",
       "      <td>0</td>\n",
       "      <td>0</td>\n",
       "      <td>0</td>\n",
       "      <td>0</td>\n",
       "      <td>...</td>\n",
       "      <td>0</td>\n",
       "      <td>0</td>\n",
       "      <td>0</td>\n",
       "      <td>0</td>\n",
       "      <td>0</td>\n",
       "      <td>0</td>\n",
       "      <td>0</td>\n",
       "      <td>0</td>\n",
       "      <td>0</td>\n",
       "      <td>Reinforcement_Learning</td>\n",
       "    </tr>\n",
       "    <tr>\n",
       "      <th>13195</th>\n",
       "      <td>0</td>\n",
       "      <td>0</td>\n",
       "      <td>0</td>\n",
       "      <td>0</td>\n",
       "      <td>0</td>\n",
       "      <td>0</td>\n",
       "      <td>0</td>\n",
       "      <td>0</td>\n",
       "      <td>0</td>\n",
       "      <td>0</td>\n",
       "      <td>...</td>\n",
       "      <td>0</td>\n",
       "      <td>0</td>\n",
       "      <td>0</td>\n",
       "      <td>0</td>\n",
       "      <td>0</td>\n",
       "      <td>0</td>\n",
       "      <td>0</td>\n",
       "      <td>0</td>\n",
       "      <td>0</td>\n",
       "      <td>Reinforcement_Learning</td>\n",
       "    </tr>\n",
       "    <tr>\n",
       "      <th>37879</th>\n",
       "      <td>0</td>\n",
       "      <td>0</td>\n",
       "      <td>0</td>\n",
       "      <td>0</td>\n",
       "      <td>0</td>\n",
       "      <td>0</td>\n",
       "      <td>0</td>\n",
       "      <td>0</td>\n",
       "      <td>0</td>\n",
       "      <td>0</td>\n",
       "      <td>...</td>\n",
       "      <td>0</td>\n",
       "      <td>0</td>\n",
       "      <td>0</td>\n",
       "      <td>0</td>\n",
       "      <td>0</td>\n",
       "      <td>0</td>\n",
       "      <td>0</td>\n",
       "      <td>0</td>\n",
       "      <td>0</td>\n",
       "      <td>Probabilistic_Methods</td>\n",
       "    </tr>\n",
       "  </tbody>\n",
       "</table>\n",
       "<p>5 rows × 1434 columns</p>\n",
       "</div>"
      ],
      "text/plain": [
       "         word_0  word_1  word_2  word_3  word_4  word_5  word_6  word_7  \\\n",
       "31336         0       0       0       0       0       0       0       0   \n",
       "1061127       0       0       0       0       0       0       0       0   \n",
       "1106406       0       0       0       0       0       0       0       0   \n",
       "13195         0       0       0       0       0       0       0       0   \n",
       "37879         0       0       0       0       0       0       0       0   \n",
       "\n",
       "         word_8  word_9  ...  word_1424  word_1425  word_1426  word_1427  \\\n",
       "31336         0       0  ...          0          0          1          0   \n",
       "1061127       0       0  ...          0          1          0          0   \n",
       "1106406       0       0  ...          0          0          0          0   \n",
       "13195         0       0  ...          0          0          0          0   \n",
       "37879         0       0  ...          0          0          0          0   \n",
       "\n",
       "         word_1428  word_1429  word_1430  word_1431  word_1432  \\\n",
       "31336            0          0          0          0          0   \n",
       "1061127          0          0          0          0          0   \n",
       "1106406          0          0          0          0          0   \n",
       "13195            0          0          0          0          0   \n",
       "37879            0          0          0          0          0   \n",
       "\n",
       "                        subject  \n",
       "31336           Neural_Networks  \n",
       "1061127           Rule_Learning  \n",
       "1106406  Reinforcement_Learning  \n",
       "13195    Reinforcement_Learning  \n",
       "37879     Probabilistic_Methods  \n",
       "\n",
       "[5 rows x 1434 columns]"
      ]
     },
     "execution_count": 5,
     "metadata": {},
     "output_type": "execute_result"
    }
   ],
   "source": [
    "# get the features of each paper \n",
    "columns = [f\"word_{i}\" for i in range(1433)] + [\"subject\"]\n",
    "features_df = pd.read_csv(core_fp_nodes,names=columns, delimiter='\\t')\n",
    "features_df.head()"
   ]
  },
  {
   "cell_type": "code",
   "execution_count": 6,
   "metadata": {},
   "outputs": [
    {
     "data": {
      "text/plain": [
       "'Genetic_Algorithms'"
      ]
     },
     "execution_count": 6,
     "metadata": {},
     "output_type": "execute_result"
    }
   ],
   "source": [
    "# assign features to each nodes\n",
    "nx.set_node_attributes(cora_g, features_df['subject'].to_dict(), \"subject\")\n",
    "nx.get_node_attributes(cora_g, \"subject\")[1033] # check node subject assignment"
   ]
  },
  {
   "cell_type": "markdown",
   "metadata": {},
   "source": [
    "PyTorch alternative data source: torch-geometric\n",
    "\n",
    "- Install with: conda install pyg -c pyg\n",
    "- Load data: \n",
    "    ```{python} \n",
    "    from torch_geometric.datasets import Planetoid \n",
    "    dataset = Planetoid(root='~/somewhere/Cora', name='Cora')\n",
    "    ```\n",
    "- Visualize with: \n",
    "    ```{python}\n",
    "    import networkx as nx \n",
    "    from torch_geometric.utils import to_networkx \n",
    "    G = to_networkx(data, to_undirected=True) nx.draw(G)\n",
    "    ```"
   ]
  },
  {
   "cell_type": "markdown",
   "metadata": {},
   "source": [
    "### Implement a GCN layer in PyTorch"
   ]
  },
  {
   "cell_type": "code",
   "execution_count": 7,
   "metadata": {},
   "outputs": [
    {
     "name": "stdout",
     "output_type": "stream",
     "text": [
      "PyTorch is using mps. \n"
     ]
    }
   ],
   "source": [
    "import torch\n",
    "from torch import nn\n",
    "device = torch.device(\"cuda:0\" if torch.cuda.is_available() else (\"mps\" if torch.backends.mps.is_available() else \"cpu\"))\n",
    "print(f\"PyTorch is using {device}. \")\n"
   ]
  },
  {
   "cell_type": "code",
   "execution_count": 184,
   "metadata": {},
   "outputs": [
    {
     "name": "stdout",
     "output_type": "stream",
     "text": [
      "First 5 nodes in the list  [1033, 35, 103482, 103515, 1050679]  out of  2708  number of nodes. \n"
     ]
    }
   ],
   "source": [
    "# create a nodelist to retrieve node number from index \n",
    "nodelist = list(cora_g.nodes) \n",
    "print(\"First 5 nodes in the list \", nodelist[:5], \" out of \", len(nodelist), \" number of nodes. \") # this is corresponding to the adjacency matrix \n"
   ]
  },
  {
   "cell_type": "code",
   "execution_count": 172,
   "metadata": {},
   "outputs": [],
   "source": [
    "# get the adjacency matrix from established graph \n",
    "A = nx.to_numpy_matrix(cora_g, dtype=np.float32)  # unweighted adj matrix \n",
    "A = torch.from_numpy(A) # change it to a tensor object \n",
    "\n",
    "# encode the labesl labels \n",
    "categories = dict(zip(['Case_Based', \n",
    "                        'Genetic_Algorithms',\n",
    "                        'Neural_Networks',\n",
    "                        'Probabilistic_Methods',\n",
    "                        'Reinforcement_Learning',\n",
    "                        'Rule_Learning',\n",
    "                        'Theory'\n",
    "                    ], list(range(7))))\n",
    "labels = features_df.loc[nodelist]['subject'] # get the actual label \n",
    "labels = torch.tensor([categories[cat] for cat in labels]).unsqueeze(dim=1)\n",
    "\n",
    "# ohe = OneHotEncoder()\n",
    "# ohe.fit(labels.reset_index()) \n",
    "# print(\"Onehot encoded categories: \\n\", ohe.categories_[0], \"\\n\", ohe.categories_[1])\n",
    "# onehot_labels = ohe.transform(labels.reset_index()).todense()\n",
    "# onehot_labels = [torch.from_numpy(lst) for lst in onehot_labels]\n",
    "\n",
    "# creates the training and testing dataset \n",
    "# train_size = int(A.shape[0] * 0.5)\n",
    "# validation_size = int(A.shape[0] * 0.8) - train_size\n",
    "# train_nodes, train_labels = A[:train_size], onehot_labels[:train_size]\n",
    "# validation_nodes, validation_labels = A[train_size:validation_size+train_size], onehot_labels[train_size:validation_size+train_size]\n",
    "# test_nodes, test_labels = A[validation_size+train_size:], onehot_labels[validation_size+train_size:]\n",
    "\n",
    "# creates the training and testing dataset (without ohe)\n",
    "train_size = int(A.shape[0] * 0.5)\n",
    "validation_size = int(A.shape[0] * 0.8) - train_size\n",
    "train_nodes, train_labels = A[:train_size], labels[:train_size]\n",
    "validation_nodes, validation_labels = A[train_size:validation_size+train_size], labels[train_size:validation_size+train_size]\n",
    "test_nodes, test_labels = A[validation_size+train_size:], labels[validation_size+train_size:]\n",
    "\n"
   ]
  },
  {
   "cell_type": "code",
   "execution_count": 173,
   "metadata": {},
   "outputs": [
    {
     "name": "stdout",
     "output_type": "stream",
     "text": [
      "True 1354\n",
      "True 812\n",
      "True 542\n"
     ]
    }
   ],
   "source": [
    "# check training and testing datasets\n",
    "print(len(train_nodes) == len(train_labels), len(train_labels))\n",
    "print(len(validation_nodes) == len(validation_labels), len(validation_nodes))\n",
    "print(len(test_nodes) == len(test_labels), len(test_nodes))"
   ]
  },
  {
   "cell_type": "markdown",
   "metadata": {},
   "source": [
    "- Here are some legacy code for dataloading in pytorch, might be useful later on"
   ]
  },
  {
   "cell_type": "code",
   "execution_count": 18,
   "metadata": {},
   "outputs": [],
   "source": [
    "# # save the data in a custom dataset \n",
    "# import networkx as nx\n",
    "# import pandas as pd\n",
    "# from torch.utils.data import Dataset\n",
    "\n",
    "# class NodeVLabelDataset(Dataset):\n",
    "#     def __init__(self, cora_cites_fp, cora_content_fp):\n",
    "#         # setup the graph \n",
    "#         self.cora_cites_fp, self.cora_content_fp = cora_cites_fp, cora_content_fp\n",
    "#         self.edges_df = pd.read_csv(self.cora_cites_fp, names=[\"target\", \"source\"], header=None, delimiter='\\t')\n",
    "#         self.graph = nx.from_pandas_edgelist(self.edges_df)       \n",
    "\n",
    "#         # create the adjacency matrix \n",
    "#         self.A = nx.to_numpy_matrix(self.graph, dtype=np.float32)  # unweighted adj matrix \n",
    "#         self.A = torch.from_numpy(A) # change it to a tensor object  \n",
    "#         self.nodelist = list(self.graph.nodes)  # a list of nodes \n",
    "\n",
    "#         # get the label subjects \n",
    "#         columns = [f\"word_{i}\" for i in range(1433)] + [\"subject\"]\n",
    "#         self.features_df = pd.read_csv(self.cora_content_fp, names=columns, delimiter='\\t')\n",
    "#         self.labels = features_df.loc[nodelist]['subject']  # list of labels\n",
    "        \n",
    "#         # encode the labesl labels \n",
    "#         self.categories = dict(zip(['Case_Based', \n",
    "#                                 'Genetic_Algorithms',\n",
    "#                                 'Neural_Networks',\n",
    "#                                 'Probabilistic_Methods',\n",
    "#                                 'Reinforcement_Learning',\n",
    "#                                 'Rule_Learning',\n",
    "#                                 'Theory'\n",
    "#                             ], list(range(7))))\n",
    "#         self.labels = self.labels.apply(lambda x: self.categories[x])\n",
    "#         self.labels = nn.functional.one_hot(self.labels, num_classes=len(self.categories.items()))\n",
    "        \n",
    "\n",
    "#     def draw(self, with_labels=True, font_weight='bold'): \n",
    "#         \"\"\"Create a visualization of the graph\"\"\"\n",
    "#         nx.draw(self.graph, with_labels=with_labels, font_weight=font_weight)\n",
    "\n",
    "#     def __len__(self):\n",
    "#         return len(self.A)\n",
    "\n",
    "#     def __getitem__(self, idx):\n",
    "#         return self.A[idx], self.labels[idx]"
   ]
  },
  {
   "cell_type": "code",
   "execution_count": null,
   "metadata": {},
   "outputs": [],
   "source": [
    "# # create the training and testing data loader\n",
    "# train_dataset = NodeVLabelDataset( \"../data/raw/cora/cora/cora.cites\", \"../data/raw/cora/cora/cora.content\")\n",
    "# test_dataset = NodeVLabelDataset( \"../data/raw/cora/cora/cora.cites\", \"../data/raw/cora/cora/cora.content\")\n",
    "\n",
    "# training_loader = torch.utils.data.DataLoader(, batch_size=4, shuffle=True, num_workers=2)\n",
    "# testing_loader = torch.utils.data.DataLoader(validation_set, batch_size=4, shuffle=False, num_workers=2)"
   ]
  },
  {
   "cell_type": "code",
   "execution_count": 175,
   "metadata": {},
   "outputs": [],
   "source": [
    "# New GCN layer definition\n",
    "class GCNLayer(nn.Module):\n",
    "    \"\"\" Custom Linear layer but mimics a standard linear layer \"\"\"\n",
    "    def __init__(self, A, input_dim, output_dim):\n",
    "        super(GCNLayer, self).__init__()\n",
    "        print(\"layer initialized\")\n",
    "        self.A = A # the adjacency matrix \n",
    "        self.I = torch.eye(self.A.shape[0]) # create identity matrix with the same shape as A \n",
    "        self.A =  self.A + self.I   # add self loop to A \n",
    "        # print(\"Adj Matrix with self loop: \", self.A)\n",
    "        self.D = torch.diag(torch.sum(self.A, dim=0)) # calculate the degree matrix with A after added self loop\n",
    "        # print(\"Degree Matrix: \", self.D)\n",
    "        # for diagonal matrix, raising it to any power is the same as raising its diagonal elements to that power\n",
    "        # we can just apply the -1/2 power to all element of this degree matrix \n",
    "        # self.D_half_norm = torch.reciprocal(torch.sqrt(self.D)) \n",
    "        self.D_half_norm = torch.from_numpy(fractional_matrix_power(self.D, -0.5))\n",
    "        # print(\"Normalization Matrix: \", self.D_half_norm)\n",
    "        self.A_s = torch.mm(torch.mm(self.D_half_norm, self.A), self.D_half_norm) # normalized adjacency matrix\n",
    "\n",
    "        # initialize the weight matrix for this layer \n",
    "        # the weight should have shape of (N , F) where N is the size of the input, and F is the output dimension\n",
    "        self.W = torch.nn.Parameter(\n",
    "            data=(torch.rand(input_dim, output_dim) * 0.01),  # times it by 0.001 to make the weight smaller\n",
    "            requires_grad=True # weight should be trainable \n",
    "        )\n",
    "        # create trainable a bias term for the layer\n",
    "        self.b = torch.nn.Parameter(\n",
    "            data=(torch.rand(output_dim, 1) * 0.01),\n",
    "            requires_grad=True # bias should be trainable \n",
    "        )\n",
    "\n",
    "    def forward(self, H):\n",
    "        # print(\"Hidden input: \", H.unsqueeze(dim=1))\n",
    "        # print(\"Normalized Adjacency matrix: \", self.A_s)\n",
    "        # print(torch.mm(self.A_s, H.unsqueeze(dim=1)).T)\n",
    "        return torch.mm(torch.mm(self.A_s, H.unsqueeze(dim=1)).T, self.W).T + self.b\n",
    "\n",
    "# create a 1 layer classification model with softmax output\n",
    "class oneLayerGCN(nn.Module): \n",
    "    def __init__(self, adjacency_matrix, output_size) -> None:\n",
    "        \"\"\"\n",
    "        Parameters: \n",
    "            adjacency_matrix: tensor, a tensor representing the link connection between nodes\n",
    "            output_size: input, the number of target label we have for our prediction\n",
    "        \"\"\"\n",
    "        super(oneLayerGCN, self).__init__()\n",
    "        self.A = adjacency_matrix\n",
    "        self.output_size = output_size\n",
    "        self.hidden_conv_layer = GCNLayer(A=self.A, input_dim=self.A.shape[0], output_dim=self.output_size)\n",
    "        self.softmax = nn.Softmax()\n",
    "\n",
    "    def forward(self, X): \n",
    "        \"\"\"\n",
    "        Parameters: \n",
    "            X: tensor, the link feature of the nodes in the dataset\n",
    "        \"\"\"\n",
    "        output = self.hidden_conv_layer(X).T # get the hidden embedding\n",
    "        # print(\"Hidden Layer Output:\", output)\n",
    "        output = self.softmax(output)\n",
    "        # print(\"Softmax Output: \", output)\n",
    "        return output\n"
   ]
  },
  {
   "cell_type": "code",
   "execution_count": 176,
   "metadata": {},
   "outputs": [
    {
     "name": "stdout",
     "output_type": "stream",
     "text": [
      "layer initialized\n"
     ]
    }
   ],
   "source": [
    "# Set up the training parameter \n",
    "model = oneLayerGCN(adjacency_matrix=A, output_size=len(categories.items()))\n",
    "# print(\"\\nParameters in the one layer GCN: \\n\")\n",
    "# for param in model.parameters():\n",
    "#     print(param)\n",
    "\n",
    "# create cross entropy loss calculation, optimization \n",
    "loss = nn.CrossEntropyLoss()\n",
    "optimizer = torch.optim.SGD(model.parameters(), lr=0.001, momentum=0.9)"
   ]
  },
  {
   "cell_type": "code",
   "execution_count": 182,
   "metadata": {},
   "outputs": [
    {
     "name": "stdout",
     "output_type": "stream",
     "text": [
      "EPOCH 1:\n"
     ]
    },
    {
     "name": "stderr",
     "output_type": "stream",
     "text": [
      "/var/folders/bd/3fcn_cld06z1y5f68_qm162m0000gn/T/ipykernel_67943/4138198810.py:59: UserWarning: Implicit dimension choice for softmax has been deprecated. Change the call to include dim=X as an argument.\n",
      "  output = self.softmax(output)\n"
     ]
    },
    {
     "name": "stdout",
     "output_type": "stream",
     "text": [
      "  batch 1000 loss: 1.8097014056444167\n",
      "LOSS train 1.8097014056444167 valid 1.8763443231582642\n",
      "EPOCH 2:\n",
      "  batch 1000 loss: 1.7971911613941192\n",
      "LOSS train 1.7971911613941192 valid 1.8744535446166992\n",
      "EPOCH 3:\n",
      "  batch 1000 loss: 1.7855834177732468\n",
      "LOSS train 1.7855834177732468 valid 1.8726985454559326\n",
      "EPOCH 4:\n",
      "  batch 1000 loss: 1.775072354078293\n",
      "LOSS train 1.775072354078293 valid 1.8711122274398804\n",
      "EPOCH 5:\n",
      "  batch 1000 loss: 1.7655573825836182\n",
      "LOSS train 1.7655573825836182 valid 1.8697304725646973\n",
      "EPOCH 6:\n",
      "  batch 1000 loss: 1.756825033903122\n",
      "LOSS train 1.756825033903122 valid 1.8685742616653442\n",
      "EPOCH 7:\n",
      "  batch 1000 loss: 1.748657551050186\n",
      "LOSS train 1.748657551050186 valid 1.8676462173461914\n",
      "EPOCH 8:\n",
      "  batch 1000 loss: 1.7408758369684219\n",
      "LOSS train 1.7408758369684219 valid 1.8669363260269165\n",
      "EPOCH 9:\n",
      "  batch 1000 loss: 1.7333523008823395\n",
      "LOSS train 1.7333523008823395 valid 1.8664233684539795\n",
      "EPOCH 10:\n",
      "  batch 1000 loss: 1.7260124185085297\n",
      "LOSS train 1.7260124185085297 valid 1.8660740852355957\n",
      "EPOCH 11:\n",
      "  batch 1000 loss: 1.7188299685716628\n",
      "LOSS train 1.7188299685716628 valid 1.8658459186553955\n",
      "EPOCH 12:\n",
      "  batch 1000 loss: 1.711814994096756\n",
      "LOSS train 1.711814994096756 valid 1.865689992904663\n",
      "EPOCH 13:\n",
      "  batch 1000 loss: 1.7049982616901398\n",
      "LOSS train 1.7049982616901398 valid 1.8655565977096558\n",
      "EPOCH 14:\n",
      "  batch 1000 loss: 1.6984150894880294\n",
      "LOSS train 1.6984150894880294 valid 1.8654074668884277\n",
      "EPOCH 15:\n",
      "  batch 1000 loss: 1.6920942066907882\n",
      "LOSS train 1.6920942066907882 valid 1.865209698677063\n",
      "EPOCH 16:\n",
      "  batch 1000 loss: 1.6860526858568192\n",
      "LOSS train 1.6860526858568192 valid 1.864946961402893\n",
      "EPOCH 17:\n",
      "  batch 1000 loss: 1.6802959685325622\n",
      "LOSS train 1.6802959685325622 valid 1.8646113872528076\n",
      "EPOCH 18:\n",
      "  batch 1000 loss: 1.6748205541372299\n",
      "LOSS train 1.6748205541372299 valid 1.8642042875289917\n",
      "EPOCH 19:\n",
      "  batch 1000 loss: 1.669616962790489\n",
      "LOSS train 1.669616962790489 valid 1.8637362718582153\n",
      "EPOCH 20:\n",
      "  batch 1000 loss: 1.664672524690628\n",
      "LOSS train 1.664672524690628 valid 1.8632138967514038\n"
     ]
    }
   ],
   "source": [
    "# define one training epoch \n",
    "def train_one_epoch(model, train_nodes, train_labels, epoch_index, tb_writer, loss_fn, optimizer):\n",
    "    \"\"\"\n",
    "    Parameters: \n",
    "        epoch_index: index of the epoch \n",
    "        tb_writer: a writer object that can record all the training statistics \n",
    "    \"\"\"\n",
    "    running_loss = 0\n",
    "    last_loss = 0\n",
    "\n",
    "    # Work thought the entire dataset\n",
    "    for i, (inputs, labels) in enumerate(zip(train_nodes, train_labels)):\n",
    "\n",
    "        # Zero your gradients for every batch!\n",
    "        optimizer.zero_grad()\n",
    "\n",
    "        # Make predictions for this batch\n",
    "        outputs = model(inputs)\n",
    "\n",
    "        # Compute the loss and its gradients\n",
    "        # print(\"Output: \", outputs)\n",
    "        # print(\"Label: \", labels)\n",
    "        loss = loss_fn(outputs, labels)\n",
    "        loss.backward()\n",
    "\n",
    "        # Adjust learning weights\n",
    "        optimizer.step()\n",
    "\n",
    "        # Gather data and report\n",
    "        running_loss += loss.item()\n",
    "        if i % 1000 == 999:\n",
    "            last_loss = running_loss / 1000 # loss per batch\n",
    "            print('  batch {} loss: {}'.format(i + 1, last_loss))\n",
    "            tb_x = epoch_index * len(train_nodes) + i + 1\n",
    "            tb_writer.add_scalar('Loss/train', last_loss, tb_x)\n",
    "            running_loss = 0.\n",
    "\n",
    "    return last_loss\n",
    "\n",
    "\n",
    "# Initializing in a separate cell so we can easily add more epochs to the same run\n",
    "from datetime import datetime\n",
    "from torch.utils.tensorboard import SummaryWriter\n",
    "\n",
    "timestamp = datetime.now().strftime('%Y%m%d_%H%M%S')\n",
    "writer = SummaryWriter('runs/GCN_trainer_{}'.format(timestamp))\n",
    "epoch_number = 0\n",
    "\n",
    "EPOCHS = 20\n",
    "\n",
    "best_vloss = 1_000_000.\n",
    "\n",
    "for epoch in range(EPOCHS):\n",
    "    print('EPOCH {}:'.format(epoch_number + 1))\n",
    "\n",
    "    # Make sure gradient tracking is on, and do a pass over the data\n",
    "    model.train(True)\n",
    "    avg_loss = train_one_epoch(model=model, \n",
    "        train_nodes=train_nodes, \n",
    "        train_labels=train_labels, \n",
    "        epoch_index=epoch_number, \n",
    "        tb_writer=writer, \n",
    "        loss_fn=loss, \n",
    "        optimizer=optimizer)\n",
    "\n",
    "    # We don't need gradients on to do reporting\n",
    "    model.train(False)\n",
    "\n",
    "    running_vloss = 0.0\n",
    "    for i, (vdata, vlabel) in enumerate(zip(validation_nodes, validation_labels)):\n",
    "        voutputs = model(vdata)\n",
    "        vloss = loss(voutputs, vlabel)\n",
    "        running_vloss += vloss\n",
    "\n",
    "    avg_vloss = running_vloss / (i + 1)\n",
    "    print('LOSS train {} valid {}'.format(avg_loss, avg_vloss))\n",
    "\n",
    "    # Log the running loss averaged per batch\n",
    "    # for both training and validation\n",
    "    writer.add_scalars('Training vs. Validation Loss',\n",
    "                    { 'Training' : avg_loss, 'Validation' : avg_vloss },\n",
    "                    epoch_number + 1)\n",
    "    writer.flush()\n",
    "\n",
    "    # Track best performance, and save the model's state\n",
    "    if avg_vloss < best_vloss:\n",
    "        best_vloss = avg_vloss\n",
    "        model_path = 'GCNs/model_{}_{}'.format(timestamp, epoch_number)\n",
    "        torch.save(model.state_dict(), model_path)\n",
    "\n",
    "    epoch_number += 1"
   ]
  },
  {
   "cell_type": "code",
   "execution_count": 185,
   "metadata": {},
   "outputs": [
    {
     "name": "stderr",
     "output_type": "stream",
     "text": [
      "/var/folders/bd/3fcn_cld06z1y5f68_qm162m0000gn/T/ipykernel_67943/4138198810.py:59: UserWarning: Implicit dimension choice for softmax has been deprecated. Change the call to include dim=X as an argument.\n",
      "  output = self.softmax(output)\n"
     ]
    },
    {
     "name": "stdout",
     "output_type": "stream",
     "text": [
      "LOSS test 1.8387939929962158 \n"
     ]
    }
   ],
   "source": [
    "# test GCN model on testing dataset\n",
    "model.train(False) # turn training off for all parameters\n",
    "\n",
    "running_tloss = 0.0\n",
    "for i, (tdata, tlabel) in enumerate(zip(test_nodes, test_labels)):\n",
    "    toutputs = model(tdata)\n",
    "    tloss = loss(toutputs, tlabel)\n",
    "    running_tloss += tloss\n",
    "\n",
    "avg_tloss = running_tloss / len(test_nodes)\n",
    "print('LOSS test {} '.format(avg_tloss))"
   ]
  },
  {
   "cell_type": "markdown",
   "metadata": {},
   "source": [
    "Lets compare the performance of our 1-layer GCN model with a 1-layer FCN model"
   ]
  },
  {
   "cell_type": "code",
   "execution_count": null,
   "metadata": {},
   "outputs": [],
   "source": [
    "# setup a 1 layer FCN \n",
    "class FCN(nn.Module): \n",
    "    def __init__(self, adjacency_matrix, output_size) -> None:\n",
    "        super().__init__()\n",
    "        self.A = adjacency_matrix\n",
    "        self.output_size = output_size\n",
    "        self.hidden_layer = nn.Linear(in_features=self.A.shape[1], out_features=self.output_size)\n",
    "        self.softmax = nn.Softmax()\n",
    "\n",
    "    def forward(self, X): \n",
    "        output = self.hidden_layer(X)\n",
    "        output = self.softmax(output)\n",
    "\n",
    "# Set up the training parameter \n",
    "model = FCN(adjacency_matrix=A, output_size=len(categories.items()))\n",
    "# print(\"\\nParameters in the one layer GCN: \\n\")\n",
    "# for param in model.parameters():\n",
    "#     print(param)\n",
    "\n",
    "# create cross entropy loss calculation, optimization \n",
    "loss = nn.CrossEntropyLoss()\n",
    "optimizer = torch.optim.SGD(model.parameters(), lr=0.001, momentum=0.9)"
   ]
  },
  {
   "cell_type": "code",
   "execution_count": null,
   "metadata": {},
   "outputs": [],
   "source": [
    "# define one training epoch \n",
    "def train_one_epoch(model, train_nodes, train_labels, epoch_index, tb_writer, loss_fn, optimizer):\n",
    "    \"\"\"\n",
    "    Parameters: \n",
    "        epoch_index: index of the epoch \n",
    "        tb_writer: a writer object that can record all the training statistics \n",
    "    \"\"\"\n",
    "    running_loss = 0\n",
    "    last_loss = 0\n",
    "\n",
    "    # Work thought the entire dataset\n",
    "    for i, (inputs, labels) in enumerate(zip(train_nodes, train_labels)):\n",
    "\n",
    "        # Zero your gradients for every batch!\n",
    "        optimizer.zero_grad()\n",
    "\n",
    "        # Make predictions for this batch\n",
    "        outputs = model(inputs)\n",
    "\n",
    "        # Compute the loss and its gradients\n",
    "        # print(\"Output: \", outputs)\n",
    "        # print(\"Label: \", labels)\n",
    "        loss = loss_fn(outputs, labels)\n",
    "        loss.backward()\n",
    "\n",
    "        # Adjust learning weights\n",
    "        optimizer.step()\n",
    "\n",
    "        # Gather data and report\n",
    "        running_loss += loss.item()\n",
    "        if i % 1000 == 999:\n",
    "            last_loss = running_loss / 1000 # loss per batch\n",
    "            print('  batch {} loss: {}'.format(i + 1, last_loss))\n",
    "            tb_x = epoch_index * len(train_nodes) + i + 1\n",
    "            tb_writer.add_scalar('Loss/train', last_loss, tb_x)\n",
    "            running_loss = 0.\n",
    "\n",
    "    return last_loss\n",
    "\n",
    "\n",
    "# Initializing in a separate cell so we can easily add more epochs to the same run\n",
    "from datetime import datetime\n",
    "from torch.utils.tensorboard import SummaryWriter\n",
    "\n",
    "timestamp = datetime.now().strftime('%Y%m%d_%H%M%S')\n",
    "writer = SummaryWriter('runs/FCN_trainer_{}'.format(timestamp))\n",
    "epoch_number = 0\n",
    "\n",
    "EPOCHS = 20\n",
    "\n",
    "best_vloss = 1_000_000.\n",
    "\n",
    "for epoch in range(EPOCHS):\n",
    "    print('EPOCH {}:'.format(epoch_number + 1))\n",
    "\n",
    "    # Make sure gradient tracking is on, and do a pass over the data\n",
    "    model.train(True)\n",
    "    avg_loss = train_one_epoch(model=model, \n",
    "        train_nodes=train_nodes, \n",
    "        train_labels=train_labels, \n",
    "        epoch_index=epoch_number, \n",
    "        tb_writer=writer, \n",
    "        loss_fn=loss, \n",
    "        optimizer=optimizer)\n",
    "\n",
    "    # We don't need gradients on to do reporting\n",
    "    model.train(False)\n",
    "\n",
    "    running_vloss = 0.0\n",
    "    for i, (vdata, vlabel) in enumerate(zip(validation_nodes, validation_labels)):\n",
    "        voutputs = model(vdata)\n",
    "        vloss = loss(voutputs, vlabel)\n",
    "        running_vloss += vloss\n",
    "\n",
    "    avg_vloss = running_vloss / (i + 1)\n",
    "    print('LOSS train {} valid {}'.format(avg_loss, avg_vloss))\n",
    "\n",
    "    # Log the running loss averaged per batch\n",
    "    # for both training and validation\n",
    "    writer.add_scalars('Training vs. Validation Loss',\n",
    "                    { 'Training' : avg_loss, 'Validation' : avg_vloss },\n",
    "                    epoch_number + 1)\n",
    "    writer.flush()\n",
    "\n",
    "    # Track best performance, and save the model's state\n",
    "    if avg_vloss < best_vloss:\n",
    "        best_vloss = avg_vloss\n",
    "        model_path = 'FCNs/model_{}_{}'.format(timestamp, epoch_number)\n",
    "        torch.save(model.state_dict(), model_path)\n",
    "\n",
    "    epoch_number += 1"
   ]
  },
  {
   "cell_type": "code",
   "execution_count": null,
   "metadata": {},
   "outputs": [],
   "source": [
    "# testing evaluation \n",
    "model.train(False) # turn training off for all parameters\n",
    "\n",
    "running_tloss = 0.0\n",
    "for i, (tdata, tlabel) in enumerate(zip(test_nodes, test_labels)):\n",
    "    toutputs = model(tdata)\n",
    "    tloss = loss(toutputs, tlabel)\n",
    "    running_tloss += tloss\n",
    "\n",
    "avg_tloss = running_tloss / len(test_nodes)\n",
    "print('LOSS test {} '.format(avg_tloss))"
   ]
  }
 ],
 "metadata": {
  "kernelspec": {
   "display_name": "Python 3.9.10 ('py39')",
   "language": "python",
   "name": "python3"
  },
  "language_info": {
   "codemirror_mode": {
    "name": "ipython",
    "version": 3
   },
   "file_extension": ".py",
   "mimetype": "text/x-python",
   "name": "python",
   "nbconvert_exporter": "python",
   "pygments_lexer": "ipython3",
   "version": "3.9.10"
  },
  "orig_nbformat": 4,
  "vscode": {
   "interpreter": {
    "hash": "0ee9abc2f8ed4c2bec59380a88532f6c4409e3142704504d9be0d180fda6aa0f"
   }
  }
 },
 "nbformat": 4,
 "nbformat_minor": 2
}
