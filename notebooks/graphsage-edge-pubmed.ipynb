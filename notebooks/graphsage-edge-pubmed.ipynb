{
 "cells": [
  {
   "cell_type": "code",
   "execution_count": 1,
   "metadata": {},
   "outputs": [],
   "source": [
    "# we are using stellergraph and this implementation follows their example: \n",
    "# https://stellargraph.readthedocs.io/en/stable/demos/link-prediction/graphsage-link-prediction.html"
   ]
  },
  {
   "cell_type": "code",
   "execution_count": 2,
   "metadata": {},
   "outputs": [],
   "source": [
    "import stellargraph as sg\n",
    "from stellargraph.data import EdgeSplitter\n",
    "from stellargraph.mapper import GraphSAGELinkGenerator\n",
    "from stellargraph.layer import GraphSAGE, HinSAGE, link_classification\n",
    "\n",
    "from tensorflow import keras\n",
    "from sklearn import preprocessing, feature_extraction, model_selection\n",
    "\n",
    "from stellargraph import globalvar\n",
    "from stellargraph import datasets\n",
    "from IPython.display import display, HTML\n",
    "%matplotlib inline"
   ]
  },
  {
   "cell_type": "code",
   "execution_count": 3,
   "metadata": {},
   "outputs": [
    {
     "data": {
      "text/html": [
       "The PubMed Diabetes dataset consists of 19717 scientific publications from PubMed database pertaining to diabetes classified into one of three classes. The citation network consists of 44338 links. Each publication in the dataset is described by a TF/IDF weighted word vector from a dictionary which consists of 500 unique words."
      ],
      "text/plain": [
       "<IPython.core.display.HTML object>"
      ]
     },
     "metadata": {},
     "output_type": "display_data"
    }
   ],
   "source": [
    "dataset = datasets.PubMedDiabetes()\n",
    "display(HTML(dataset.description))\n",
    "G, _ = dataset.load()"
   ]
  },
  {
   "cell_type": "code",
   "execution_count": 4,
   "metadata": {},
   "outputs": [
    {
     "name": "stdout",
     "output_type": "stream",
     "text": [
      "** Sampled 4433 positive and 4433 negative edges. **\n"
     ]
    }
   ],
   "source": [
    "# Define an edge splitter on the original graph G:\n",
    "edge_splitter_test = EdgeSplitter(G)\n",
    "\n",
    "# Randomly sample a fraction p=0.1 of all positive links, and same number of negative links, from G, and obtain the\n",
    "# reduced graph G_test with the sampled links removed:\n",
    "G_test, edge_ids_test, edge_labels_test = edge_splitter_test.train_test_split(\n",
    "    p=0.1, method=\"global\", keep_connected=True\n",
    ")"
   ]
  },
  {
   "cell_type": "code",
   "execution_count": 5,
   "metadata": {},
   "outputs": [
    {
     "name": "stdout",
     "output_type": "stream",
     "text": [
      "** Sampled 3990 positive and 3990 negative edges. **\n"
     ]
    }
   ],
   "source": [
    "# Define an edge splitter on the reduced graph G_test:\n",
    "edge_splitter_train = EdgeSplitter(G_test)\n",
    "\n",
    "# Randomly sample a fraction p=0.1 of all positive links, and same number of negative links, from G_test, and obtain the\n",
    "# reduced graph G_train with the sampled links removed:\n",
    "G_train, edge_ids_train, edge_labels_train = edge_splitter_train.train_test_split(\n",
    "    p=0.1, method=\"global\", keep_connected=True\n",
    ")"
   ]
  },
  {
   "cell_type": "code",
   "execution_count": 6,
   "metadata": {},
   "outputs": [
    {
     "name": "stdout",
     "output_type": "stream",
     "text": [
      "StellarGraph: Undirected multigraph\n",
      " Nodes: 19717, Edges: 35915\n",
      "\n",
      " Node types:\n",
      "  paper: [19717]\n",
      "    Features: float32 vector, length 500\n",
      "    Edge types: paper-cites->paper\n",
      "\n",
      " Edge types:\n",
      "    paper-cites->paper: [35915]\n",
      "        Weights: all 1 (default)\n",
      "        Features: none\n",
      "StellarGraph: Undirected multigraph\n",
      " Nodes: 19717, Edges: 39905\n",
      "\n",
      " Node types:\n",
      "  paper: [19717]\n",
      "    Features: float32 vector, length 500\n",
      "    Edge types: paper-cites->paper\n",
      "\n",
      " Edge types:\n",
      "    paper-cites->paper: [39905]\n",
      "        Weights: all 1 (default)\n",
      "        Features: none\n"
     ]
    }
   ],
   "source": [
    "print(G_train.info())\n",
    "print(G_test.info())"
   ]
  },
  {
   "cell_type": "code",
   "execution_count": 7,
   "metadata": {},
   "outputs": [],
   "source": [
    "batch_size = 20\n",
    "epochs = 20\n",
    "num_samples = [20, 10] # 1hop, 2hop samples"
   ]
  },
  {
   "cell_type": "code",
   "execution_count": 8,
   "metadata": {},
   "outputs": [],
   "source": [
    "train_gen = GraphSAGELinkGenerator(G_train, batch_size, num_samples)\n",
    "train_flow = train_gen.flow(edge_ids_train, edge_labels_train, shuffle=True)"
   ]
  },
  {
   "cell_type": "code",
   "execution_count": 9,
   "metadata": {},
   "outputs": [],
   "source": [
    "test_gen = GraphSAGELinkGenerator(G_test, batch_size, num_samples)\n",
    "test_flow = test_gen.flow(edge_ids_test, edge_labels_test)"
   ]
  },
  {
   "cell_type": "code",
   "execution_count": 10,
   "metadata": {},
   "outputs": [],
   "source": [
    "layer_sizes = [20, 20]\n",
    "graphsage = GraphSAGE(\n",
    "    layer_sizes=layer_sizes, generator=train_gen, bias=True, dropout=0.3\n",
    ")"
   ]
  },
  {
   "cell_type": "code",
   "execution_count": 11,
   "metadata": {},
   "outputs": [],
   "source": [
    "# Build the model and expose input and output sockets of graphsage model\n",
    "# for link prediction\n",
    "x_inp, x_out = graphsage.in_out_tensors()"
   ]
  },
  {
   "cell_type": "code",
   "execution_count": 12,
   "metadata": {},
   "outputs": [
    {
     "name": "stdout",
     "output_type": "stream",
     "text": [
      "link_classification: using 'ip' method to combine node embeddings into edge embeddings\n"
     ]
    }
   ],
   "source": [
    "prediction = link_classification(\n",
    "    output_dim=1, output_act=\"relu\", edge_embedding_method=\"ip\"\n",
    ")(x_out)"
   ]
  },
  {
   "cell_type": "code",
   "execution_count": 13,
   "metadata": {},
   "outputs": [
    {
     "name": "stderr",
     "output_type": "stream",
     "text": [
      "c:\\ProgramData\\Miniconda3\\envs\\gcn\\lib\\site-packages\\keras\\optimizers\\optimizer_v2\\adam.py:110: UserWarning: The `lr` argument is deprecated, use `learning_rate` instead.\n",
      "  super(Adam, self).__init__(name, **kwargs)\n"
     ]
    }
   ],
   "source": [
    "model = keras.Model(inputs=x_inp, outputs=prediction)\n",
    "\n",
    "model.compile(\n",
    "    optimizer=keras.optimizers.Adam(lr=1e-3),\n",
    "    loss=keras.losses.binary_crossentropy,\n",
    "    metrics=[\"acc\"],\n",
    ")"
   ]
  },
  {
   "cell_type": "code",
   "execution_count": 14,
   "metadata": {},
   "outputs": [
    {
     "name": "stdout",
     "output_type": "stream",
     "text": [
      "399/399 [==============================] - 21s 52ms/step - loss: 0.8705 - acc: 0.6881\n",
      "444/444 [==============================] - 22s 50ms/step - loss: 0.8548 - acc: 0.6882\n",
      "\n",
      "Train Set Metrics of the initial (untrained) model:\n",
      "\tloss: 0.8705\n",
      "\tacc: 0.6881\n",
      "\n",
      "Test Set Metrics of the initial (untrained) model:\n",
      "\tloss: 0.8548\n",
      "\tacc: 0.6882\n"
     ]
    }
   ],
   "source": [
    "# evaluate untrained\n",
    "init_train_metrics = model.evaluate(train_flow)\n",
    "init_test_metrics = model.evaluate(test_flow)\n",
    "\n",
    "print(\"\\nTrain Set Metrics of the initial (untrained) model:\")\n",
    "for name, val in zip(model.metrics_names, init_train_metrics):\n",
    "    print(\"\\t{}: {:0.4f}\".format(name, val))\n",
    "\n",
    "print(\"\\nTest Set Metrics of the initial (untrained) model:\")\n",
    "for name, val in zip(model.metrics_names, init_test_metrics):\n",
    "    print(\"\\t{}: {:0.4f}\".format(name, val))"
   ]
  },
  {
   "cell_type": "code",
   "execution_count": 15,
   "metadata": {},
   "outputs": [
    {
     "name": "stdout",
     "output_type": "stream",
     "text": [
      "Num GPUs Available:  0\n"
     ]
    }
   ],
   "source": [
    "import tensorflow as tf\n",
    "print(\"Num GPUs Available: \", len(tf.config.list_physical_devices('GPU')))"
   ]
  },
  {
   "cell_type": "code",
   "execution_count": 16,
   "metadata": {},
   "outputs": [
    {
     "name": "stdout",
     "output_type": "stream",
     "text": [
      "Epoch 1/20\n",
      "399/399 - 42s - loss: 0.5221 - acc: 0.7516 - val_loss: 0.4147 - val_acc: 0.7964 - 42s/epoch - 106ms/step\n",
      "Epoch 2/20\n",
      "399/399 - 41s - loss: 0.4016 - acc: 0.8343 - val_loss: 0.3592 - val_acc: 0.8480 - 41s/epoch - 102ms/step\n",
      "Epoch 3/20\n",
      "399/399 - 41s - loss: 0.3613 - acc: 0.8575 - val_loss: 0.3520 - val_acc: 0.8572 - 41s/epoch - 102ms/step\n",
      "Epoch 4/20\n",
      "399/399 - 42s - loss: 0.3419 - acc: 0.8741 - val_loss: 0.3417 - val_acc: 0.8670 - 42s/epoch - 106ms/step\n",
      "Epoch 5/20\n",
      "399/399 - 40s - loss: 0.3098 - acc: 0.8883 - val_loss: 0.3320 - val_acc: 0.8715 - 40s/epoch - 100ms/step\n",
      "Epoch 6/20\n",
      "399/399 - 41s - loss: 0.3069 - acc: 0.8937 - val_loss: 0.3372 - val_acc: 0.8709 - 41s/epoch - 103ms/step\n",
      "Epoch 7/20\n",
      "399/399 - 42s - loss: 0.2762 - acc: 0.9039 - val_loss: 0.3158 - val_acc: 0.8711 - 42s/epoch - 105ms/step\n",
      "Epoch 8/20\n",
      "399/399 - 41s - loss: 0.2665 - acc: 0.9038 - val_loss: 0.3251 - val_acc: 0.8764 - 41s/epoch - 103ms/step\n",
      "Epoch 9/20\n",
      "399/399 - 40s - loss: 0.2453 - acc: 0.9165 - val_loss: 0.3324 - val_acc: 0.8778 - 40s/epoch - 101ms/step\n",
      "Epoch 10/20\n",
      "399/399 - 41s - loss: 0.2282 - acc: 0.9217 - val_loss: 0.3364 - val_acc: 0.8718 - 41s/epoch - 102ms/step\n",
      "Epoch 11/20\n",
      "399/399 - 41s - loss: 0.2171 - acc: 0.9311 - val_loss: 0.3456 - val_acc: 0.8769 - 41s/epoch - 102ms/step\n",
      "Epoch 12/20\n",
      "399/399 - 40s - loss: 0.2094 - acc: 0.9361 - val_loss: 0.3575 - val_acc: 0.8749 - 40s/epoch - 101ms/step\n",
      "Epoch 13/20\n",
      "399/399 - 41s - loss: 0.2145 - acc: 0.9303 - val_loss: 0.3464 - val_acc: 0.8812 - 41s/epoch - 103ms/step\n",
      "Epoch 14/20\n",
      "399/399 - 42s - loss: 0.2253 - acc: 0.9274 - val_loss: 0.3349 - val_acc: 0.8751 - 42s/epoch - 105ms/step\n",
      "Epoch 15/20\n",
      "399/399 - 41s - loss: 0.1951 - acc: 0.9383 - val_loss: 0.3580 - val_acc: 0.8720 - 41s/epoch - 102ms/step\n",
      "Epoch 16/20\n",
      "399/399 - 41s - loss: 0.1903 - acc: 0.9414 - val_loss: 0.3444 - val_acc: 0.8760 - 41s/epoch - 103ms/step\n",
      "Epoch 17/20\n",
      "399/399 - 42s - loss: 0.1784 - acc: 0.9481 - val_loss: 0.3547 - val_acc: 0.8756 - 42s/epoch - 105ms/step\n",
      "Epoch 18/20\n",
      "399/399 - 41s - loss: 0.1747 - acc: 0.9485 - val_loss: 0.3753 - val_acc: 0.8767 - 41s/epoch - 102ms/step\n",
      "Epoch 19/20\n",
      "399/399 - 41s - loss: 0.1821 - acc: 0.9432 - val_loss: 0.3671 - val_acc: 0.8728 - 41s/epoch - 103ms/step\n",
      "Epoch 20/20\n",
      "399/399 - 41s - loss: 0.1912 - acc: 0.9385 - val_loss: 0.3824 - val_acc: 0.8750 - 41s/epoch - 104ms/step\n"
     ]
    }
   ],
   "source": [
    "# train the model \n",
    "history = model.fit(train_flow, epochs=epochs, validation_data=test_flow, verbose=2)"
   ]
  },
  {
   "cell_type": "code",
   "execution_count": 17,
   "metadata": {},
   "outputs": [
    {
     "data": {
      "image/png": "[encoded data removed]",
      "text/plain": [
       "<Figure size 700x800 with 2 Axes>"
      ]
     },
     "metadata": {},
     "output_type": "display_data"
    }
   ],
   "source": [
    "sg.utils.plot_history(history)"
   ]
  },
  {
   "cell_type": "code",
   "execution_count": 18,
   "metadata": {},
   "outputs": [
    {
     "name": "stdout",
     "output_type": "stream",
     "text": [
      "399/399 [==============================] - 21s 52ms/step - loss: 0.1411 - acc: 0.9617\n",
      "444/444 [==============================] - 22s 50ms/step - loss: 0.3797 - acc: 0.8728\n",
      "\n",
      "Train Set Metrics of the trained model:\n",
      "\tloss: 0.1411\n",
      "\tacc: 0.9617\n",
      "\n",
      "Test Set Metrics of the trained model:\n",
      "\tloss: 0.3797\n",
      "\tacc: 0.8728\n"
     ]
    }
   ],
   "source": [
    "train_metrics = model.evaluate(train_flow)\n",
    "test_metrics = model.evaluate(test_flow)\n",
    "\n",
    "print(\"\\nTrain Set Metrics of the trained model:\")\n",
    "for name, val in zip(model.metrics_names, train_metrics):\n",
    "    print(\"\\t{}: {:0.4f}\".format(name, val))\n",
    "\n",
    "print(\"\\nTest Set Metrics of the trained model:\")\n",
    "for name, val in zip(model.metrics_names, test_metrics):\n",
    "    print(\"\\t{}: {:0.4f}\".format(name, val))"
   ]
  },
  {
   "cell_type": "markdown",
   "metadata": {},
   "source": [
    "## Repeat for PubMed dataset "
   ]
  },
  {
   "cell_type": "code",
   "execution_count": null,
   "metadata": {},
   "outputs": [],
   "source": []
  }
 ],
 "metadata": {
  "kernelspec": {
   "display_name": "Python 3.10.8 ('gcn')",
   "language": "python",
   "name": "python3"
  },
  "language_info": {
   "codemirror_mode": {
    "name": "ipython",
    "version": 3
   },
   "file_extension": ".py",
   "mimetype": "text/x-python",
   "name": "python",
   "nbconvert_exporter": "python",
   "pygments_lexer": "ipython3",
   "version": "3.10.8"
  },
  "orig_nbformat": 4,
  "vscode": {
   "interpreter": {
    "hash": "c5c63958b8fbdae5d372fc0dd404e4e10eddae4b1263fc1fb5bccd426a7de9b8"
   }
  }
 },
 "nbformat": 4,
 "nbformat_minor": 2
}
