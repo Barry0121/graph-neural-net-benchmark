{
 "cells": [
  {
   "cell_type": "code",
   "execution_count": 1,
   "metadata": {},
   "outputs": [],
   "source": [
    "import torch\n",
    "import torch.optim as optim\n",
    "import torch.nn.functional as F\n",
    "\n",
    "from models.args import *\n",
    "from models.dataset import *\n",
    "from models.discriminator import *\n",
    "from models.generator import *\n",
    "from models.inverter import *"
   ]
  },
  {
   "cell_type": "code",
   "execution_count": 2,
   "metadata": {},
   "outputs": [],
   "source": [
    "def choose_device():\n",
    "    if torch.cuda.is_available():\n",
    "        return 'cuda'\n",
    "    elif torch.backends.mps.is_available():\n",
    "        return 'mps'\n",
    "    else:\n",
    "        return 'cpu'"
   ]
  },
  {
   "cell_type": "code",
   "execution_count": 8,
   "metadata": {},
   "outputs": [],
   "source": [
    "def train(args, num_layers=4, clamp_lower=-0.01, clamp_upper=0.01, epochs=10, lr=1e-3, betas=1e-5, batch_size=1, lamb=0.1, loss_func='MSE', device=choose_device()):\n",
    "    # get the dataset\n",
    "    train, labels = get_dataset_with_label(args.graph_type) # entire dataset as train\n",
    "    train_dataset = Graph_sequence_sampler_pytorch(train, labels, args)\n",
    "    train_loader = get_dataloader_labels(train_dataset, args)\n",
    "    noise_dim = args.max_prev_node\n",
    "    print('noise dimension is: ', noise_dim)\n",
    "\n",
    "    # initialize noise, optimizer and loss\n",
    "    I = Inverter(input_dim=128, output_dim=noise_dim, hidden_dim=64)\n",
    "    G = GraphRNN(args=args)\n",
    "    D = NetD(stat_input_dim=128, stat_hidden_dim=64, num_stat=2)\n",
    "\n",
    "    graph2vec = get_graph2vec(args.graph_type) # use infer() to generate new graph embedding\n",
    "    optimizerI = optim.Adam(I.parameters(), lr=lr)\n",
    "    optimizerD = optim.Adam(D.parameters(), lr=lr, betas=[betas for _ in range(2)])\n",
    "    lossI = WGAN_ReconLoss(lamb, loss_func).to(device)\n",
    "    G.init_optimizer() # initialize optimizers\n",
    "\n",
    "\n",
    "    noise = torch.randn(batch_size, noise_dim).to(device)\n",
    "    one = torch.FloatTensor([1])\n",
    "    mone = one * -1\n",
    "\n",
    "    start_time = time.time()\n",
    "    for e in range(epochs):\n",
    "        # for now, treat the input as adj matrices\n",
    "\n",
    "        for i, data in enumerate(train_loader):\n",
    "            X = data['x']\n",
    "            Y = data['y']\n",
    "            adj_mat = data['adj_mat']\n",
    "            label = data['label']\n",
    "            Y_len = data['len']\n",
    "\n",
    "            start=time.time()\n",
    "\n",
    "            # print(\"====Start Discriminator \", end='')\n",
    "\n",
    "            # # enable training\n",
    "            # for p in D.parameters(): # reset requires_grad\n",
    "            #     p.requires_grad = True # they are set to False below in netG update\n",
    "\n",
    "            # Diters = 1 # number of iterations to train discriminator TODO: change to 10\n",
    "            # j = 0 # counter for 1, 2, ... Diters\n",
    "            # while j < Diters and i < len(train_loader):\n",
    "            #     j += 1\n",
    "            #     # weight clipping: clamp parameters to a cube\n",
    "            #     for p in D.parameters():\n",
    "            #         p.data.clamp_(clamp_lower, clamp_upper)\n",
    "            #     D.zero_grad()\n",
    "\n",
    "            #     # train with real\n",
    "            #     inputs = torch.empty_like(adj_mat).copy_(adj_mat)\n",
    "            #     # print(inputs.shape)\n",
    "            #     input_graphs = [nx.from_numpy_matrix(i) for i in inputs.detach().numpy()] # TODO: Error raise NetworkXError(f\"Edge tuple {e} must be a 2-tuple or 3-tuple.\")\n",
    "            #     D_pred = torch.Tensor([D(graph) for graph in input_graphs])\n",
    "            #     errD_real = torch.mean(D_pred)\n",
    "            #     # print(errD_real)\n",
    "            #     # errD_real.backward(one) # discriminator should assign 1's to true samples\n",
    "            #     # errD_real.backward()\n",
    "\n",
    "            #     # train with fake\n",
    "            #     input = noise.resize_(args.num_layers, args.batch_size, args.hidden_size_rnn).normal_(0, 1)\n",
    "            #     # insert data processing\n",
    "            #     fake = G.generate(input, args, test_batch_size=args.batch_size)\n",
    "            #     fake_tensor = torch.Tensor([D(nx.from_numpy_matrix(f)) for f in fake])\n",
    "            #     errD_fake = torch.mean(fake_tensor)\n",
    "\n",
    "            #     # print(f\"errD_fake is {errD_fake} for {j}\")\n",
    "            #     # errD_fake.backward(mone) # discriminator should assign -1's to fake samples??\n",
    "            #     # errD_fake.backward()\n",
    "\n",
    "            #     # compute Wasserstein distance and update parameters\n",
    "            #     errD = errD_real - errD_fake\n",
    "            #     errD = Variable(errD, requires_grad = True)\n",
    "\n",
    "            #     # print(f\"errD is {errD} for {j}\")\n",
    "\n",
    "            #     errD.backward()\n",
    "            #     optimizerD.step()\n",
    "\n",
    "            # print(f\"{(time.time()-start)%60}s Finished====\")\n",
    "\n",
    "\n",
    "            print(\"====Start Inverter and Generator \", end='')\n",
    "            G.train()\n",
    "            G.clear_gradient_opts()\n",
    "            G.clear_gradient_models()\n",
    "            I.zero_grad()\n",
    "            istart = time.time()\n",
    "            # graphs\n",
    "            original_graphs = adj_mat # shape: (batch_size, padded_size, padded_size); in the case for MUTAG, padded_size is 29\n",
    "            graphs = [nx.from_numpy_matrix(adj.numpy()) for adj in original_graphs]\n",
    "            graphVec = torch.from_numpy(graph2vec.infer(graphs))\n",
    "            I_output = I(graphVec) # TODO: expected shape: (batch_size, 1, max_prev_node)\n",
    "\n",
    "            print(I_output.size())\n",
    "            \n",
    "            G_pred_graphs = G(X=I_output[:, 0, :], Y=Y, length=Y_len)\n",
    "            reconst_graphs = G_pred_graphs[0]  # 0 for prediction, 1 for sorted output\n",
    "            # noise\n",
    "            G_pred_noise = G.generate(X=noise, test_batch_size=args.batch_size) # shape: (batch_size, padded_size, padded_size)\n",
    "            reconst_noise = I(G_pred_noise)\n",
    "            # compute loss and update inverter loss\n",
    "            loss = lossI(original_graphs, reconst_graphs, noise, reconst_noise)\n",
    "            optimizerI.zero_grad()\n",
    "            loss.backward()\n",
    "            optimizerI.step()\n",
    "            # compute loss and update generator loss\n",
    "            errG = torch.mean(G(reconst_graphs))\n",
    "            errG.backward()\n",
    "            G.all_steps()\n",
    "            print(f\"{(time.time()-istart)%60}s Finished====\")\n",
    "\n",
    "        # Print out training information.\n",
    "        if (e+1) % 1 == 0:\n",
    "            elapsed_time = time.time() - start_time\n",
    "            print('Elapsed time [{:.4f}], Iteration [{}/{}], I Loss: {:.4f}, D Loss: {:.4f}, G Loss {:.4f}'.format(\n",
    "                elapsed_time, e+1, epochs, lossI.item(), errD, errG))\n",
    "\n",
    "        # save training loss across\n",
    "    print(\"====End of Training====\")"
   ]
  },
  {
   "cell_type": "code",
   "execution_count": 4,
   "metadata": {},
   "outputs": [],
   "source": [
    "args = Args()"
   ]
  },
  {
   "cell_type": "code",
   "execution_count": 10,
   "metadata": {},
   "outputs": [
    {
     "name": "stdout",
     "output_type": "stream",
     "text": [
      "calculating max previous node, total iteration: 12000\n",
      "iter 0 times\n",
      "iter 2400 times\n",
      "iter 4800 times\n",
      "iter 7200 times\n",
      "iter 9600 times\n",
      "max previous node: 10\n"
     ]
    },
    {
     "data": {
      "text/plain": [
       "torch.Size([8, 621, 621])"
      ]
     },
     "execution_count": 10,
     "metadata": {},
     "output_type": "execute_result"
    }
   ],
   "source": [
    "train, labels = get_dataset_with_label(args.graph_type) # entire dataset as train\n",
    "train_dataset = Graph_sequence_sampler_pytorch(train, labels, args)\n",
    "train_loader = get_dataloader_labels(train_dataset, args)\n",
    "adjs = []\n",
    "for i, data in enumerate(train_loader):\n",
    "    X = data['x']\n",
    "    Y = data['y']\n",
    "    adj_mat = data['adj_mat']\n",
    "    break\n",
    "inputs = torch.empty_like(adj_mat).copy_(adj_mat)\n",
    "inputs.size()"
   ]
  },
  {
   "cell_type": "code",
   "execution_count": 6,
   "metadata": {},
   "outputs": [],
   "source": [
    "import warnings\n",
    "warnings.filterwarnings('ignore') # optional"
   ]
  },
  {
   "cell_type": "code",
   "execution_count": 9,
   "metadata": {},
   "outputs": [
    {
     "name": "stdout",
     "output_type": "stream",
     "text": [
      "calculating max previous node, total iteration: 12000\n",
      "iter 0 times\n",
      "iter 2400 times\n",
      "iter 4800 times\n",
      "iter 7200 times\n",
      "iter 9600 times\n",
      "max previous node: 10\n",
      "noise dimension is:  10\n",
      "======Generating Embedding======\n",
      "======Embedding Created (used 0.6858384609222412 sec)======\n",
      "====Start Inverter and Generator torch.Size([8, 10])\n"
     ]
    },
    {
     "ename": "IndexError",
     "evalue": "too many indices for tensor of dimension 2",
     "output_type": "error",
     "traceback": [
      "\u001b[0;31m---------------------------------------------------------------------------\u001b[0m",
      "\u001b[0;31mIndexError\u001b[0m                                Traceback (most recent call last)",
      "Cell \u001b[0;32mIn[9], line 1\u001b[0m\n\u001b[0;32m----> 1\u001b[0m train(args\u001b[39m=\u001b[39;49margs)\n",
      "Cell \u001b[0;32mIn[8], line 100\u001b[0m, in \u001b[0;36mtrain\u001b[0;34m(args, num_layers, clamp_lower, clamp_upper, epochs, lr, betas, batch_size, lamb, loss_func, device)\u001b[0m\n\u001b[1;32m     96\u001b[0m I_output \u001b[39m=\u001b[39m I(graphVec) \u001b[39m# TODO: expected shape: (batch_size, 1, max_prev_node)\u001b[39;00m\n\u001b[1;32m     98\u001b[0m \u001b[39mprint\u001b[39m(I_output\u001b[39m.\u001b[39msize())\n\u001b[0;32m--> 100\u001b[0m G_pred_graphs \u001b[39m=\u001b[39m G(X\u001b[39m=\u001b[39mI_output[:, \u001b[39m0\u001b[39;49m, :], Y\u001b[39m=\u001b[39mY, length\u001b[39m=\u001b[39mY_len)\n\u001b[1;32m    101\u001b[0m reconst_graphs \u001b[39m=\u001b[39m G_pred_graphs[\u001b[39m0\u001b[39m]  \u001b[39m# 0 for prediction, 1 for sorted output\u001b[39;00m\n\u001b[1;32m    102\u001b[0m \u001b[39m# noise\u001b[39;00m\n",
      "\u001b[0;31mIndexError\u001b[0m: too many indices for tensor of dimension 2"
     ]
    }
   ],
   "source": [
    "train(args=args)"
   ]
  },
  {
   "cell_type": "code",
   "execution_count": 12,
   "metadata": {},
   "outputs": [
    {
     "data": {
      "text/plain": [
       "torch.Size([8, 621, 621])"
      ]
     },
     "execution_count": 12,
     "metadata": {},
     "output_type": "execute_result"
    }
   ],
   "source": [
    "adj_mat.shape"
   ]
  },
  {
   "cell_type": "code",
   "execution_count": 19,
   "metadata": {},
   "outputs": [],
   "source": [
    "class Inverter(nn.Module):\n",
    "    def __init__(self, z_dim, image_dim, conv_dim):\n",
    "        super(Inverter, self).__init__()\n",
    "        conv = []\n",
    "        conv.append(nn.Conv2d(image_dim, conv_dim, kernel_size=3, stride=2, padding=1))    # 28 x 28 -> 15 x 15\n",
    "        conv.append(nn.LeakyReLU(inplace=True))\n",
    "        conv.append(nn.Conv2d(conv_dim, conv_dim, kernel_size=3, stride=2, padding=1))   # 15 x 15 ->  8 x 8\n",
    "        conv.append(nn.LeakyReLU(inplace=True))\n",
    "        # conv.append(nn.Conv2d(conv_dim, conv_dim, kernel_size=3, stride=2, padding=1)) # 8 x 8 -> 4 x 4\n",
    "        # conv.append(nn.LeakyReLU(inplace=True))\n",
    "\n",
    "        linear = []\n",
    "        linear.append(nn.Linear(conv_dim*64, 512))\n",
    "        linear.append(nn.LeakyReLU(inplace=True))\n",
    "        linear.append(nn.Linear(512, z_dim))\n",
    "\n",
    "        self.conv = nn.Sequential(*conv)\n",
    "        self.linear = nn.Sequential(*linear)\n",
    "\n",
    "    def forward(self, x):\n",
    "        out = self.conv(x)\n",
    "        # out = out.view(out.size(0), 64*64)\n",
    "        # out = self.linear(out)\n",
    "        return out"
   ]
  },
  {
   "cell_type": "code",
   "execution_count": 20,
   "metadata": {},
   "outputs": [
    {
     "data": {
      "text/plain": [
       "torch.Size([8, 156, 156])"
      ]
     },
     "execution_count": 20,
     "metadata": {},
     "output_type": "execute_result"
    }
   ],
   "source": [
    "a = Inverter(64, 8, 8)\n",
    "a(adj_mat.float()).shape"
   ]
  }
 ],
 "metadata": {
  "kernelspec": {
   "display_name": "dev180",
   "language": "python",
   "name": "python3"
  },
  "language_info": {
   "codemirror_mode": {
    "name": "ipython",
    "version": 3
   },
   "file_extension": ".py",
   "mimetype": "text/x-python",
   "name": "python",
   "nbconvert_exporter": "python",
   "pygments_lexer": "ipython3",
   "version": "3.9.16"
  },
  "orig_nbformat": 4,
  "vscode": {
   "interpreter": {
    "hash": "4a3a2ecaabf27beca2883a9dba2b6875b07db1b2c8ad2f920ab70c4c2e7a16bf"
   }
  }
 },
 "nbformat": 4,
 "nbformat_minor": 2
}
