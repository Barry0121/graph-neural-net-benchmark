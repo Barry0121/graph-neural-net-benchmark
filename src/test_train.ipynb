{
 "cells": [
  {
   "cell_type": "code",
   "execution_count": 1,
   "metadata": {},
   "outputs": [],
   "source": [
    "import torch\n",
    "import torch.optim as optim\n",
    "import torch.nn.functional as F\n",
    "from torch.optim.lr_scheduler import ReduceLROnPlateau\n",
    "\n",
    "from models.args import *\n",
    "from models.dataset import *\n",
    "from models.discriminator import *\n",
    "from models.generator import *\n",
    "from models.inverter import *\n",
    "\n",
    "from tqdm import tqdm\n",
    "import warnings"
   ]
  },
  {
   "cell_type": "code",
   "execution_count": 2,
   "metadata": {},
   "outputs": [],
   "source": [
    "def fxn():\n",
    "    warnings.warn(\"deprecated\", UserWarning)\n",
    "\n",
    "with warnings.catch_warnings():\n",
    "    warnings.simplefilter(\"ignore\")\n",
    "    fxn()"
   ]
  },
  {
   "cell_type": "code",
   "execution_count": 3,
   "metadata": {},
   "outputs": [],
   "source": [
    "def choose_device():\n",
    "    if torch.cuda.is_available():\n",
    "        return 'cuda'\n",
    "    elif torch.backends.mps.is_available():\n",
    "        return 'mps'\n",
    "    else:\n",
    "        return 'cpu'"
   ]
  },
  {
   "cell_type": "code",
   "execution_count": 9,
   "metadata": {},
   "outputs": [],
   "source": [
    "def train(args, train_inverter=False, num_layers=4, clamp_lower=-0.1, clamp_upper=0.1, lr=1e-3, betas=1e-5, lamb=0.1, loss_func='MSE', device=choose_device()):\n",
    "    # save losses\n",
    "    iloss_lst = []\n",
    "    dloss_lst = []\n",
    "    gloss_lst = []\n",
    "\n",
    "    # get the dataset\n",
    "    lr = 1e-4\n",
    "    train, labels = get_dataset_with_label(args.graph_type) # entire dataset as train\n",
    "    train_dataset = Graph_sequence_sampler_pytorch(train, labels, args)\n",
    "    train_loader = get_dataloader_labels(train_dataset, args)\n",
    "    noise_dim = args.hidden_size_rnn\n",
    "    print('noise dimension is: ', noise_dim)\n",
    "\n",
    "    # initialize noise, optimizer and loss\n",
    "    netI = Inverter(input_dim=128, output_dim=args.hidden_size_rnn, hidden_dim=64)\n",
    "    netG = GraphRNN(args=args)\n",
    "    netD = NetD(stat_input_dim=128, stat_hidden_dim=64, num_stat=2)\n",
    "    hg = list(netG.parameters())[5].register_hook(lambda grad: print(f\"NetG parameter Update with gradient {grad}\"))\n",
    "\n",
    "    # set up a register_hook to check parameter gradient\n",
    "    # for param in netD.parameters():\n",
    "    #     h = param.register_hook(lambda grad: print(\"Parameter Update with gradient {:.4f}\".format(grad)))\n",
    "\n",
    "    # check model parameters\n",
    "    # for param in netD.parameters():\n",
    "    #     print(param.name, param.data, param.requires_grad)\n",
    "    # for param in netG.parameters():\n",
    "        # print(param.name, param.data, param.requires_grad)\n",
    "\n",
    "    graph2vec = get_graph2vec(args.graph_type, dim=512) # use infer() to generate new graph embedding\n",
    "    optimizerI = optim.Adam(netI.parameters(), lr=lr)\n",
    "    optimizerD = optim.Adam(netD.parameters(), lr=lr, betas=[betas for _ in range(2)])\n",
    "    lossI = WGAN_ReconLoss(device, lamb, loss_func)\n",
    "    G_optimizer_rnn, G_optimizer_output, G_scheduler_rnn, G_scheduler_output = netG.init_optimizer(lr=0.1) # initialize optimizers\n",
    "\n",
    "\n",
    "    noise = torch.randn(args.batch_size, noise_dim).to(device)\n",
    "    one = torch.tensor(1, dtype=torch.float)\n",
    "    mone = torch.tensor(-1, dtype=torch.float)\n",
    "\n",
    "    gen_iterations = 0\n",
    "    for e in range(args.epochs):\n",
    "        # for now, treat the input as adj matrices\n",
    "        start_time = time.time()\n",
    "        e_errI, e_errD, e_errG, count_batch = 0, 0, 0, 0\n",
    "        for i, data in tqdm(enumerate(train_loader), desc=f\"Training epoch#{e+1}\", total=len(train_loader)):\n",
    "            X = data['x']\n",
    "            Y = data['y']\n",
    "            adj_mat = data['adj_mat']\n",
    "            label = data['label']\n",
    "            Y_len = data['len']\n",
    "\n",
    "            # zero grad\n",
    "            optimizerI.zero_grad()\n",
    "            optimizerD.zero_grad()\n",
    "            G_optimizer_rnn.zero_grad()\n",
    "            G_optimizer_output.zero_grad()\n",
    "\n",
    "            # skip uneven batch\n",
    "            if adj_mat.size(0) != args.batch_size:\n",
    "                continue\n",
    "\n",
    "            ######################\n",
    "            # Discriminator Update\n",
    "            ######################\n",
    "            # number of iteration to train the discriminator\n",
    "            # if gen_iterations < 25 or gen_iterations % 500 == 0:\n",
    "            #     Diters = 20\n",
    "            # else:\n",
    "            #     Diters = 5\n",
    "            Diters = 1\n",
    "            j = 0 # counter for 1, 2, ... Diters\n",
    "\n",
    "            # enable training\n",
    "            netD.train(True)\n",
    "            netG.train(False)\n",
    "            b_errD = 0\n",
    "            while j < Diters:\n",
    "                j += 1\n",
    "                # TODO: commenting this part out for testing\n",
    "                # weight clipping: clamp parameters to a cube\n",
    "                # for p in netD.parameters():\n",
    "                #     p.data.clamp_(clamp_lower, clamp_upper)\n",
    "                netD.zero_grad()\n",
    "\n",
    "                # train with real\n",
    "                inputs = torch.empty_like(adj_mat).copy_(adj_mat)\n",
    "                D_pred = netD(inputs)\n",
    "                errD_real = D_pred\n",
    "                errD_real.backward(one) # discriminator should assign 1's to true samples\n",
    "                print(j, 'errD_real:', errD_real.item(), end='; ')\n",
    "\n",
    "                # train with fake\n",
    "                input = noise.normal_(0,1) # (batch_size, hidden_size)\n",
    "                # insert data processing\n",
    "                fake = netG(input)\n",
    "                fake_tensor = netD(fake)\n",
    "                errD_fake = fake_tensor\n",
    "                errD_fake.backward(mone) # discriminator should assign -1's to fake samples??\n",
    "\n",
    "                # # # compute Wasserstein distance and update parameters\n",
    "                errD = errD_real - errD_fake\n",
    "\n",
    "                # print(f\"Check if the model is training: iterative value at #{j}.\")\n",
    "                # for p in netD.parameters():\n",
    "                #     print(\"Parameters gradients? :\", p.requires_grad, end='')\n",
    "                #     print(\"Parameters grad: \", p.grad)\n",
    "\n",
    "                optimizerD.step()\n",
    "                print(j, 'errD_fake:', errD_fake.item())\n",
    "                # print(f\"errD_real {errD_real.item()} \")\n",
    "                # print(f\"Iterative errD {errD.item()}, errD_real {errD_real.item()}, errD_fake {errD_fake.item()}: \")\n",
    "                # b_errD += errD\n",
    "            \n",
    "            # ========== Train Generator ==================\n",
    "            netD.train(False)\n",
    "            netG.train(True)\n",
    "            # netG.clear_gradient_models()\n",
    "            G_optimizer_rnn.zero_grad()\n",
    "            G_optimizer_output.zero_grad()\n",
    "            # in case our last batch was the tail batch of the dataloader,\n",
    "            # make sure we feed a full batch of noise\n",
    "            noisev = Variable(noise.normal_(0,1))\n",
    "            fake = netG(noisev)\n",
    "            fake_tensor = netD(fake)\n",
    "            errG = fake_tensor\n",
    "            errG.backward(one)\n",
    "            G_optimizer_rnn.step()\n",
    "            G_optimizer_output.step()\n",
    "            for p in netG.parameters():\n",
    "                print(p[0,0], p.grad)\n",
    "                break\n",
    "            # for p in netG.parameters()[0]:\n",
    "            # netG.all_steps()\n",
    "            gen_iterations += 1\n",
    "\n",
    "            print(f\"errG for generator: {errG}\")\n"
   ]
  },
  {
   "cell_type": "code",
   "execution_count": 5,
   "metadata": {},
   "outputs": [],
   "source": [
    "args = Args()"
   ]
  },
  {
   "cell_type": "code",
   "execution_count": 6,
   "metadata": {},
   "outputs": [
    {
     "data": {
      "text/plain": [
       "tensor([[ 9.,  8.,  7.,  6.,  5.,  4.,  3.,  2.,  1.,  0.],\n",
       "        [19., 18., 17., 16., 15., 14., 13., 12., 11., 10.],\n",
       "        [ 0.,  0.,  0.,  0.,  0.,  0.,  0.,  0.,  0.,  0.],\n",
       "        [ 0.,  0.,  0.,  0.,  0.,  0.,  0.,  0.,  0.,  0.],\n",
       "        [ 0.,  0.,  0.,  0.,  0.,  0.,  0.,  0.,  0.,  0.]])"
      ]
     },
     "execution_count": 6,
     "metadata": {},
     "output_type": "execute_result"
    }
   ],
   "source": [
    "a = torch.zeros((5,10))\n",
    "a[0, :] = torch.Tensor(np.array([i for i in range(10)]))\n",
    "a[1, :] = torch.Tensor(np.array([i for i in range(10, 20)]))\n",
    "torch.flip(a, dims=(1,))"
   ]
  },
  {
   "cell_type": "code",
   "execution_count": 7,
   "metadata": {},
   "outputs": [],
   "source": [
    "# train, labels = get_dataset_with_label(args.graph_type) # entire dataset as train\n",
    "# train_dataset = Graph_sequence_sampler_pytorch(train, labels, args)\n",
    "# train_loader = get_dataloader_labels(train_dataset, args)\n",
    "# e = 0\n",
    "# for i, data in tqdm(enumerate(train_loader), desc=f\"Training epoch#{e+1}\", total=len(train_loader)):\n",
    "#     X = data['x']\n",
    "#     Y = data['y']\n",
    "\n",
    "#     print(X.size(), Y.size())\n",
    "#     # print(X)\n",
    "#     print('-'*50)\n",
    "#     # print(Y)\n",
    "#     break"
   ]
  },
  {
   "cell_type": "code",
   "execution_count": 10,
   "metadata": {},
   "outputs": [
    {
     "name": "stdout",
     "output_type": "stream",
     "text": [
      "calculating max previous node, total iteration: 12000\n",
      "iter 0 times\n",
      "iter 2400 times\n",
      "iter 4800 times\n",
      "iter 7200 times\n",
      "iter 9600 times\n",
      "max previous node: 10\n",
      "noise dimension is:  128\n",
      "======Generating Embedding======\n",
      "======Embedding Created (used 0.9407444000244141 sec)======\n"
     ]
    },
    {
     "name": "stderr",
     "output_type": "stream",
     "text": [
      "Training epoch#1:   0%|          | 0/35 [00:00<?, ?it/s]"
     ]
    },
    {
     "name": "stdout",
     "output_type": "stream",
     "text": [
      "1 errD_real: 0.32276108860969543; 1 errD_fake: 0.31682178378105164\n"
     ]
    },
    {
     "name": "stderr",
     "output_type": "stream",
     "text": [
      "Training epoch#1:   3%|▎         | 1/35 [00:12<06:53, 12.17s/it]"
     ]
    },
    {
     "name": "stdout",
     "output_type": "stream",
     "text": [
      "tensor(-0.1987, device='cuda:0', grad_fn=<SelectBackward0>) None\n",
      "errG for generator: 0.31955981254577637\n",
      "1 errD_real: 0.3242500126361847; 1 errD_fake: 0.31955981254577637\n"
     ]
    },
    {
     "name": "stderr",
     "output_type": "stream",
     "text": [
      "Training epoch#1:   6%|▌         | 2/35 [00:24<06:42, 12.21s/it]"
     ]
    },
    {
     "name": "stdout",
     "output_type": "stream",
     "text": [
      "tensor(-0.1987, device='cuda:0', grad_fn=<SelectBackward0>) None\n",
      "errG for generator: 0.32219207286834717\n",
      "1 errD_real: 0.32572925090789795; 1 errD_fake: 0.32219207286834717\n"
     ]
    },
    {
     "name": "stderr",
     "output_type": "stream",
     "text": [
      "Training epoch#1:   9%|▊         | 3/35 [00:35<06:19, 11.86s/it]"
     ]
    },
    {
     "name": "stdout",
     "output_type": "stream",
     "text": [
      "tensor(-0.1987, device='cuda:0', grad_fn=<SelectBackward0>) None\n",
      "errG for generator: 0.324783593416214\n"
     ]
    },
    {
     "name": "stderr",
     "output_type": "stream",
     "text": [
      "Training epoch#1:   9%|▊         | 3/35 [00:36<06:25, 12.04s/it]\n"
     ]
    },
    {
     "ename": "KeyboardInterrupt",
     "evalue": "",
     "output_type": "error",
     "traceback": [
      "\u001b[0;31m---------------------------------------------------------------------------\u001b[0m",
      "\u001b[0;31mKeyboardInterrupt\u001b[0m                         Traceback (most recent call last)",
      "Cell \u001b[0;32mIn[10], line 1\u001b[0m\n\u001b[0;32m----> 1\u001b[0m train(args\u001b[39m=\u001b[39;49margs)\n",
      "Cell \u001b[0;32mIn[9], line 89\u001b[0m, in \u001b[0;36mtrain\u001b[0;34m(args, train_inverter, num_layers, clamp_lower, clamp_upper, lr, betas, lamb, loss_func, device)\u001b[0m\n\u001b[1;32m     87\u001b[0m \u001b[39m# train with real\u001b[39;00m\n\u001b[1;32m     88\u001b[0m inputs \u001b[39m=\u001b[39m torch\u001b[39m.\u001b[39mempty_like(adj_mat)\u001b[39m.\u001b[39mcopy_(adj_mat)\n\u001b[0;32m---> 89\u001b[0m D_pred \u001b[39m=\u001b[39m netD(inputs)\n\u001b[1;32m     90\u001b[0m errD_real \u001b[39m=\u001b[39m D_pred\n\u001b[1;32m     91\u001b[0m errD_real\u001b[39m.\u001b[39mbackward(one) \u001b[39m# discriminator should assign 1's to true samples\u001b[39;00m\n",
      "File \u001b[0;32m~/.conda/envs/dev180/lib/python3.9/site-packages/torch/nn/modules/module.py:1130\u001b[0m, in \u001b[0;36mModule._call_impl\u001b[0;34m(self, *input, **kwargs)\u001b[0m\n\u001b[1;32m   1126\u001b[0m \u001b[39m# If we don't have any hooks, we want to skip the rest of the logic in\u001b[39;00m\n\u001b[1;32m   1127\u001b[0m \u001b[39m# this function, and just call forward.\u001b[39;00m\n\u001b[1;32m   1128\u001b[0m \u001b[39mif\u001b[39;00m \u001b[39mnot\u001b[39;00m (\u001b[39mself\u001b[39m\u001b[39m.\u001b[39m_backward_hooks \u001b[39mor\u001b[39;00m \u001b[39mself\u001b[39m\u001b[39m.\u001b[39m_forward_hooks \u001b[39mor\u001b[39;00m \u001b[39mself\u001b[39m\u001b[39m.\u001b[39m_forward_pre_hooks \u001b[39mor\u001b[39;00m _global_backward_hooks\n\u001b[1;32m   1129\u001b[0m         \u001b[39mor\u001b[39;00m _global_forward_hooks \u001b[39mor\u001b[39;00m _global_forward_pre_hooks):\n\u001b[0;32m-> 1130\u001b[0m     \u001b[39mreturn\u001b[39;00m forward_call(\u001b[39m*\u001b[39;49m\u001b[39minput\u001b[39;49m, \u001b[39m*\u001b[39;49m\u001b[39m*\u001b[39;49mkwargs)\n\u001b[1;32m   1131\u001b[0m \u001b[39m# Do not call functions when jit is used\u001b[39;00m\n\u001b[1;32m   1132\u001b[0m full_backward_hooks, non_full_backward_hooks \u001b[39m=\u001b[39m [], []\n",
      "File \u001b[0;32m~/DSC180B-PlayGround/graph-neural-net-benchmark/src/models/discriminator.py:61\u001b[0m, in \u001b[0;36mNetD.forward\u001b[0;34m(self, G)\u001b[0m\n\u001b[1;32m     51\u001b[0m \u001b[39m\u001b[39m\u001b[39m\"\"\"\u001b[39;00m\n\u001b[1;32m     52\u001b[0m \u001b[39mparam G: the input graph\u001b[39;00m\n\u001b[1;32m     53\u001b[0m \u001b[39m\"\"\"\u001b[39;00m\n\u001b[1;32m     54\u001b[0m \u001b[39m# when computing univariate statistics for x, pass each through an individual NN with\u001b[39;00m\n\u001b[1;32m     55\u001b[0m \u001b[39m# tanh as final activation\u001b[39;00m\n\u001b[1;32m     56\u001b[0m \u001b[39m# use a NN with tanh as final activation to combine scores\u001b[39;00m\n\u001b[1;32m     57\u001b[0m \u001b[39m# possible modifications:\u001b[39;00m\n\u001b[1;32m     58\u001b[0m \u001b[39m# 1) use torch.histogram instead of np.histogram?\u001b[39;00m\n\u001b[1;32m     59\u001b[0m \u001b[39m# 2) add lots more statistics, these probably aren't enough to characterize a graph\u001b[39;00m\n\u001b[0;32m---> 61\u001b[0m graph \u001b[39m=\u001b[39m [nx\u001b[39m.\u001b[39mfrom_numpy_matrix(g\u001b[39m.\u001b[39mnumpy()) \u001b[39mfor\u001b[39;00m g \u001b[39min\u001b[39;00m G]\n\u001b[1;32m     62\u001b[0m degree_hist \u001b[39m=\u001b[39m np\u001b[39m.\u001b[39marray([np\u001b[39m.\u001b[39mhistogram(\n\u001b[1;32m     63\u001b[0m     np\u001b[39m.\u001b[39marray(nx\u001b[39m.\u001b[39mdegree_histogram(g)),\n\u001b[1;32m     64\u001b[0m     bins\u001b[39m=\u001b[39m\u001b[39mself\u001b[39m\u001b[39m.\u001b[39mstat_input_dim, \u001b[39mrange\u001b[39m\u001b[39m=\u001b[39m(\u001b[39m0.0\u001b[39m, \u001b[39m1.0\u001b[39m), density\u001b[39m=\u001b[39m\u001b[39mFalse\u001b[39;00m)[\u001b[39m0\u001b[39m] \u001b[39mfor\u001b[39;00m g \u001b[39min\u001b[39;00m graph])\n\u001b[1;32m     65\u001b[0m degree_hist \u001b[39m=\u001b[39m torch\u001b[39m.\u001b[39mfrom_numpy(degree_hist)\u001b[39m.\u001b[39mtype(torch\u001b[39m.\u001b[39mFloatTensor)\n",
      "File \u001b[0;32m~/DSC180B-PlayGround/graph-neural-net-benchmark/src/models/discriminator.py:61\u001b[0m, in \u001b[0;36m<listcomp>\u001b[0;34m(.0)\u001b[0m\n\u001b[1;32m     51\u001b[0m \u001b[39m\u001b[39m\u001b[39m\"\"\"\u001b[39;00m\n\u001b[1;32m     52\u001b[0m \u001b[39mparam G: the input graph\u001b[39;00m\n\u001b[1;32m     53\u001b[0m \u001b[39m\"\"\"\u001b[39;00m\n\u001b[1;32m     54\u001b[0m \u001b[39m# when computing univariate statistics for x, pass each through an individual NN with\u001b[39;00m\n\u001b[1;32m     55\u001b[0m \u001b[39m# tanh as final activation\u001b[39;00m\n\u001b[1;32m     56\u001b[0m \u001b[39m# use a NN with tanh as final activation to combine scores\u001b[39;00m\n\u001b[1;32m     57\u001b[0m \u001b[39m# possible modifications:\u001b[39;00m\n\u001b[1;32m     58\u001b[0m \u001b[39m# 1) use torch.histogram instead of np.histogram?\u001b[39;00m\n\u001b[1;32m     59\u001b[0m \u001b[39m# 2) add lots more statistics, these probably aren't enough to characterize a graph\u001b[39;00m\n\u001b[0;32m---> 61\u001b[0m graph \u001b[39m=\u001b[39m [nx\u001b[39m.\u001b[39;49mfrom_numpy_matrix(g\u001b[39m.\u001b[39;49mnumpy()) \u001b[39mfor\u001b[39;00m g \u001b[39min\u001b[39;00m G]\n\u001b[1;32m     62\u001b[0m degree_hist \u001b[39m=\u001b[39m np\u001b[39m.\u001b[39marray([np\u001b[39m.\u001b[39mhistogram(\n\u001b[1;32m     63\u001b[0m     np\u001b[39m.\u001b[39marray(nx\u001b[39m.\u001b[39mdegree_histogram(g)),\n\u001b[1;32m     64\u001b[0m     bins\u001b[39m=\u001b[39m\u001b[39mself\u001b[39m\u001b[39m.\u001b[39mstat_input_dim, \u001b[39mrange\u001b[39m\u001b[39m=\u001b[39m(\u001b[39m0.0\u001b[39m, \u001b[39m1.0\u001b[39m), density\u001b[39m=\u001b[39m\u001b[39mFalse\u001b[39;00m)[\u001b[39m0\u001b[39m] \u001b[39mfor\u001b[39;00m g \u001b[39min\u001b[39;00m graph])\n\u001b[1;32m     65\u001b[0m degree_hist \u001b[39m=\u001b[39m torch\u001b[39m.\u001b[39mfrom_numpy(degree_hist)\u001b[39m.\u001b[39mtype(torch\u001b[39m.\u001b[39mFloatTensor)\n",
      "File \u001b[0;32m~/.conda/envs/dev180/lib/python3.9/site-packages/networkx/convert_matrix.py:669\u001b[0m, in \u001b[0;36mfrom_numpy_matrix\u001b[0;34m(A, parallel_edges, create_using)\u001b[0m\n\u001b[1;32m    666\u001b[0m G\u001b[39m.\u001b[39madd_nodes_from(\u001b[39mrange\u001b[39m(n))\n\u001b[1;32m    667\u001b[0m \u001b[39m# Get a list of all the entries in the matrix with nonzero entries. These\u001b[39;00m\n\u001b[1;32m    668\u001b[0m \u001b[39m# coordinates become edges in the graph. (convert to int from np.int64)\u001b[39;00m\n\u001b[0;32m--> 669\u001b[0m edges \u001b[39m=\u001b[39m ((\u001b[39mint\u001b[39m(e[\u001b[39m0\u001b[39m]), \u001b[39mint\u001b[39m(e[\u001b[39m1\u001b[39m])) \u001b[39mfor\u001b[39;00m e \u001b[39min\u001b[39;00m \u001b[39mzip\u001b[39m(\u001b[39m*\u001b[39mnp\u001b[39m.\u001b[39;49masarray(A)\u001b[39m.\u001b[39;49mnonzero()))\n\u001b[1;32m    670\u001b[0m \u001b[39m# handle numpy constructed data type\u001b[39;00m\n\u001b[1;32m    671\u001b[0m \u001b[39mif\u001b[39;00m python_type \u001b[39m==\u001b[39m \u001b[39m\"\u001b[39m\u001b[39mvoid\u001b[39m\u001b[39m\"\u001b[39m:\n\u001b[1;32m    672\u001b[0m     \u001b[39m# Sort the fields by their offset, then by dtype, then by name.\u001b[39;00m\n",
      "\u001b[0;31mKeyboardInterrupt\u001b[0m: "
     ]
    }
   ],
   "source": [
    "train(args=args)"
   ]
  }
 ],
 "metadata": {
  "kernelspec": {
   "display_name": "dev180",
   "language": "python",
   "name": "python3"
  },
  "language_info": {
   "codemirror_mode": {
    "name": "ipython",
    "version": 3
   },
   "file_extension": ".py",
   "mimetype": "text/x-python",
   "name": "python",
   "nbconvert_exporter": "python",
   "pygments_lexer": "ipython3",
   "version": "3.9.16"
  },
  "orig_nbformat": 4,
  "vscode": {
   "interpreter": {
    "hash": "4a3a2ecaabf27beca2883a9dba2b6875b07db1b2c8ad2f920ab70c4c2e7a16bf"
   }
  }
 },
 "nbformat": 4,
 "nbformat_minor": 2
}
