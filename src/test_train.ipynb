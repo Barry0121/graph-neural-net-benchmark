{
 "cells": [
  {
   "cell_type": "code",
   "execution_count": 8,
   "metadata": {},
   "outputs": [],
   "source": [
    "import torch\n",
    "import torch.optim as optim\n",
    "import torch.nn.functional as F\n",
    "\n",
    "from models.args import *\n",
    "from models.dataset import *\n",
    "from models.discriminator import *\n",
    "from models.generator import *\n",
    "from models.inverter import *"
   ]
  },
  {
   "cell_type": "code",
   "execution_count": 9,
   "metadata": {},
   "outputs": [],
   "source": [
    "def choose_device():\n",
    "    if torch.cuda.is_available():\n",
    "        return 'cuda'\n",
    "    elif torch.backends.mps.is_available():\n",
    "        return 'mps'\n",
    "    else:\n",
    "        return 'cpu'"
   ]
  },
  {
   "cell_type": "code",
   "execution_count": 10,
   "metadata": {},
   "outputs": [],
   "source": [
    "def train(args, num_layers=4, clamp_lower=-0.01, clamp_upper=0.01, epochs=10, lr=1e-3, betas=1e-5, batch_size=1, lamb=0.1, loss_func='MSE', device=choose_device()):\n",
    "    # get the dataset\n",
    "    train, labels = get_dataset_with_label(args.graph_type) # entire dataset as train\n",
    "    train_dataset = Graph_sequence_sampler_pytorch(train, labels, args)\n",
    "    train_loader = get_dataloader_labels(train_dataset, args)\n",
    "    noise_dim = args.max_prev_node\n",
    "    print('noise dimension is: ', noise_dim)\n",
    "\n",
    "    # initialize noise, optimizer and loss\n",
    "    I = Inverter(input_dim=512, output_dim=noise_dim, hidden_dim=256)\n",
    "    G = GraphRNN(args=args)\n",
    "    D = NetD(stat_input_dim=128, stat_hidden_dim=64, num_stat=2)\n",
    "\n",
    "    graph2vec = get_graph2vec(args.graph_type) # use infer() to generate new graph embedding\n",
    "    optimizerI = optim.Adam(I.parameters(), lr=lr)\n",
    "    optimizerD = optim.Adam(D.parameters(), lr=lr, betas=[betas for _ in range(2)])\n",
    "    lossI = WGAN_ReconLoss(lamb, loss_func).to(device)\n",
    "    G.init_optimizer() # initialize optimizers\n",
    "\n",
    "\n",
    "    noise = torch.randn(batch_size, noise_dim).to(device)\n",
    "    one = torch.FloatTensor([1])\n",
    "    mone = one * -1\n",
    "\n",
    "    start_time = time.time()\n",
    "    for e in range(epochs):\n",
    "        # for now, treat the input as adj matrices\n",
    "\n",
    "        for i, data in enumerate(train_loader):\n",
    "            X = data['x']\n",
    "            Y = data['y']\n",
    "            adj_mat = data['adj_mat']\n",
    "            label = data['label']\n",
    "            Y_len = data['len']\n",
    "\n",
    "            start=time.time()\n",
    "\n",
    "            print(\"====Start Discriminator \", end='')\n",
    "\n",
    "            # enable training\n",
    "            for p in D.parameters(): # reset requires_grad\n",
    "                p.requires_grad = True # they are set to False below in netG update\n",
    "\n",
    "            Diters = 1 # number of iterations to train discriminator TODO: change to 10\n",
    "            j = 0 # counter for 1, 2, ... Diters\n",
    "            while j < Diters and i < len(train_loader):\n",
    "                j += 1\n",
    "                # weight clipping: clamp parameters to a cube\n",
    "                for p in D.parameters():\n",
    "                    p.data.clamp_(clamp_lower, clamp_upper)\n",
    "                D.zero_grad()\n",
    "\n",
    "                # train with real\n",
    "                inputs = torch.torch.empty_like(adj_mat).copy_(adj_mat)\n",
    "                # print(inputs.shape)\n",
    "                input_graphs = [nx.from_numpy_matrix(i) for i in inputs.detach().numpy()] # TODO: Error raise NetworkXError(f\"Edge tuple {e} must be a 2-tuple or 3-tuple.\")\n",
    "                D_pred = torch.Tensor([D(graph) for graph in input_graphs])\n",
    "                errD_real = torch.mean(D_pred)\n",
    "                # print(errD_real)\n",
    "                # errD_real.backward(one) # discriminator should assign 1's to true samples\n",
    "                # errD_real.backward()\n",
    "\n",
    "                # train with fake\n",
    "                input = noise.resize_(args.num_layers, args.batch_size, args.hidden_size_rnn).normal_(0, 1)\n",
    "                # insert data processing\n",
    "                fake = G.generate(input, args, test_batch_size=args.batch_size)\n",
    "                fake_tensor = torch.Tensor([D(nx.from_numpy_matrix(f)) for f in fake])\n",
    "                errD_fake = torch.mean(fake_tensor)\n",
    "\n",
    "                # print(f\"errD_fake is {errD_fake} for {j}\")\n",
    "                # errD_fake.backward(mone) # discriminator should assign -1's to fake samples??\n",
    "                # errD_fake.backward()\n",
    "\n",
    "                # compute Wasserstein distance and update parameters\n",
    "                errD = errD_real - errD_fake\n",
    "                errD = Variable(errD, requires_grad = True)\n",
    "\n",
    "                # print(f\"errD is {errD} for {j}\")\n",
    "\n",
    "                errD.backward()\n",
    "                optimizerD.step()\n",
    "\n",
    "            print(f\"{(time.time()-start)%60}s Finished====\")\n",
    "\n",
    "\n",
    "            print(\"====Start Inverter and Generator \", end='')\n",
    "            G.train()\n",
    "            G.clear_gradient_opts()\n",
    "            G.clear_gradient_models()\n",
    "            I.zero_grad()\n",
    "            istart = time.time()\n",
    "            # graphs\n",
    "            original_graphs = adj_mat # shape: (batch_size, padded_size, padded_size); in the case for MUTAG, padded_size is 29\n",
    "            print(f\"size of original_graphs: {original_graphs.size()}\")\n",
    "            graphs2train = torch.reshape(original_graphs, (original_graphs.shape[0], -1))\n",
    "\n",
    "            I_output = I(torch.reshape(original_graphs, (original_graphs.shape[0], -1))) # TODO: expected shape: (batch_size, 1, max_prev_node)\n",
    "            G_pred_graphs = G(X=I_output[:, 0, :], Y=Y, length=Y_len)\n",
    "            reconst_graphs = G_pred_graphs[0]  # 0 for prediction, 1 for sorted output\n",
    "            # noise\n",
    "            G_pred_noise = G.generate(X=noise, test_batch_size=args.batch_size) # shape: (batch_size, padded_size, padded_size)\n",
    "            reconst_noise = I(G_pred_noise)\n",
    "            # compute loss and update inverter loss\n",
    "            loss = lossI(original_graphs, reconst_graphs, noise, reconst_noise)\n",
    "            optimizerI.zero_grad()\n",
    "            loss.backward()\n",
    "            optimizerI.step()\n",
    "            # compute loss and update generator loss\n",
    "            errG = torch.mean(G(reconst_graphs))\n",
    "            errG.backward()\n",
    "            G.all_steps()\n",
    "            print(f\"{(time.time()-istart)%60}s Finished====\")\n",
    "\n",
    "        # Print out training information.\n",
    "        if (e+1) % 1 == 0:\n",
    "            elapsed_time = time.time() - start_time\n",
    "            print('Elapsed time [{:.4f}], Iteration [{}/{}], I Loss: {:.4f}, D Loss: {:.4f}, G Loss {:.4f}'.format(\n",
    "                elapsed_time, e+1, epochs, lossI.item(), errD, errG))\n",
    "\n",
    "        # save training loss across\n",
    "    print(\"====End of Training====\")"
   ]
  },
  {
   "cell_type": "code",
   "execution_count": 11,
   "metadata": {},
   "outputs": [],
   "source": [
    "args = Args()"
   ]
  },
  {
   "cell_type": "code",
   "execution_count": 12,
   "metadata": {},
   "outputs": [],
   "source": [
    "import warnings\n",
    "warnings.filterwarnings('ignore') # optional"
   ]
  },
  {
   "cell_type": "code",
   "execution_count": 13,
   "metadata": {},
   "outputs": [
    {
     "name": "stdout",
     "output_type": "stream",
     "text": [
      "calculating max previous node, total iteration: 12000\n",
      "iter 0 times\n",
      "iter 2400 times\n",
      "iter 4800 times\n",
      "iter 7200 times\n",
      "iter 9600 times\n",
      "max previous node: 10\n",
      "noise dimension is:  10\n",
      "======Generating Embedding======\n",
      "======Embedding Created (used 0.3647909164428711 sec)======\n",
      "====Start Discriminator "
     ]
    },
    {
     "ename": "TypeError",
     "evalue": "histogram() received an invalid combination of arguments - got (numpy.ndarray, density=bool, range=tuple, bins=int), but expected one of:\n * (Tensor input, Tensor bins, *, Tensor weight, bool density, tuple of Tensors out)\n * (Tensor input, int bins, *, tuple of floats range, Tensor weight, bool density, tuple of Tensors out)\n",
     "output_type": "error",
     "traceback": [
      "\u001b[0;31m---------------------------------------------------------------------------\u001b[0m",
      "\u001b[0;31mTypeError\u001b[0m                                 Traceback (most recent call last)",
      "Cell \u001b[0;32mIn[13], line 1\u001b[0m\n\u001b[0;32m----> 1\u001b[0m train(args\u001b[39m=\u001b[39;49margs)\n",
      "Cell \u001b[0;32mIn[10], line 57\u001b[0m, in \u001b[0;36mtrain\u001b[0;34m(args, num_layers, clamp_lower, clamp_upper, epochs, lr, betas, batch_size, lamb, loss_func, device)\u001b[0m\n\u001b[1;32m     55\u001b[0m \u001b[39m# print(inputs.shape)\u001b[39;00m\n\u001b[1;32m     56\u001b[0m input_graphs \u001b[39m=\u001b[39m [nx\u001b[39m.\u001b[39mfrom_numpy_matrix(i) \u001b[39mfor\u001b[39;00m i \u001b[39min\u001b[39;00m inputs\u001b[39m.\u001b[39mdetach()\u001b[39m.\u001b[39mnumpy()] \u001b[39m# TODO: Error raise NetworkXError(f\"Edge tuple {e} must be a 2-tuple or 3-tuple.\")\u001b[39;00m\n\u001b[0;32m---> 57\u001b[0m D_pred \u001b[39m=\u001b[39m torch\u001b[39m.\u001b[39mTensor([D(graph) \u001b[39mfor\u001b[39;00m graph \u001b[39min\u001b[39;00m input_graphs])\n\u001b[1;32m     58\u001b[0m errD_real \u001b[39m=\u001b[39m torch\u001b[39m.\u001b[39mmean(D_pred)\n\u001b[1;32m     59\u001b[0m \u001b[39m# print(errD_real)\u001b[39;00m\n\u001b[1;32m     60\u001b[0m \u001b[39m# errD_real.backward(one) # discriminator should assign 1's to true samples\u001b[39;00m\n\u001b[1;32m     61\u001b[0m \u001b[39m# errD_real.backward()\u001b[39;00m\n\u001b[1;32m     62\u001b[0m \n\u001b[1;32m     63\u001b[0m \u001b[39m# train with fake\u001b[39;00m\n",
      "Cell \u001b[0;32mIn[10], line 57\u001b[0m, in \u001b[0;36m<listcomp>\u001b[0;34m(.0)\u001b[0m\n\u001b[1;32m     55\u001b[0m \u001b[39m# print(inputs.shape)\u001b[39;00m\n\u001b[1;32m     56\u001b[0m input_graphs \u001b[39m=\u001b[39m [nx\u001b[39m.\u001b[39mfrom_numpy_matrix(i) \u001b[39mfor\u001b[39;00m i \u001b[39min\u001b[39;00m inputs\u001b[39m.\u001b[39mdetach()\u001b[39m.\u001b[39mnumpy()] \u001b[39m# TODO: Error raise NetworkXError(f\"Edge tuple {e} must be a 2-tuple or 3-tuple.\")\u001b[39;00m\n\u001b[0;32m---> 57\u001b[0m D_pred \u001b[39m=\u001b[39m torch\u001b[39m.\u001b[39mTensor([D(graph) \u001b[39mfor\u001b[39;00m graph \u001b[39min\u001b[39;00m input_graphs])\n\u001b[1;32m     58\u001b[0m errD_real \u001b[39m=\u001b[39m torch\u001b[39m.\u001b[39mmean(D_pred)\n\u001b[1;32m     59\u001b[0m \u001b[39m# print(errD_real)\u001b[39;00m\n\u001b[1;32m     60\u001b[0m \u001b[39m# errD_real.backward(one) # discriminator should assign 1's to true samples\u001b[39;00m\n\u001b[1;32m     61\u001b[0m \u001b[39m# errD_real.backward()\u001b[39;00m\n\u001b[1;32m     62\u001b[0m \n\u001b[1;32m     63\u001b[0m \u001b[39m# train with fake\u001b[39;00m\n",
      "File \u001b[0;32m~/miniforge3/envs/pyg/lib/python3.10/site-packages/torch/nn/modules/module.py:1194\u001b[0m, in \u001b[0;36mModule._call_impl\u001b[0;34m(self, *input, **kwargs)\u001b[0m\n\u001b[1;32m   1190\u001b[0m \u001b[39m# If we don't have any hooks, we want to skip the rest of the logic in\u001b[39;00m\n\u001b[1;32m   1191\u001b[0m \u001b[39m# this function, and just call forward.\u001b[39;00m\n\u001b[1;32m   1192\u001b[0m \u001b[39mif\u001b[39;00m \u001b[39mnot\u001b[39;00m (\u001b[39mself\u001b[39m\u001b[39m.\u001b[39m_backward_hooks \u001b[39mor\u001b[39;00m \u001b[39mself\u001b[39m\u001b[39m.\u001b[39m_forward_hooks \u001b[39mor\u001b[39;00m \u001b[39mself\u001b[39m\u001b[39m.\u001b[39m_forward_pre_hooks \u001b[39mor\u001b[39;00m _global_backward_hooks\n\u001b[1;32m   1193\u001b[0m         \u001b[39mor\u001b[39;00m _global_forward_hooks \u001b[39mor\u001b[39;00m _global_forward_pre_hooks):\n\u001b[0;32m-> 1194\u001b[0m     \u001b[39mreturn\u001b[39;00m forward_call(\u001b[39m*\u001b[39;49m\u001b[39minput\u001b[39;49m, \u001b[39m*\u001b[39;49m\u001b[39m*\u001b[39;49mkwargs)\n\u001b[1;32m   1195\u001b[0m \u001b[39m# Do not call functions when jit is used\u001b[39;00m\n\u001b[1;32m   1196\u001b[0m full_backward_hooks, non_full_backward_hooks \u001b[39m=\u001b[39m [], []\n",
      "File \u001b[0;32m~/Desktop/dsc180-graph-neural-net/src/models/discriminator.py:61\u001b[0m, in \u001b[0;36mNetD.forward\u001b[0;34m(self, G)\u001b[0m\n\u001b[1;32m     51\u001b[0m \u001b[39m\u001b[39m\u001b[39m\"\"\"\u001b[39;00m\n\u001b[1;32m     52\u001b[0m \u001b[39mparam G: the input graph\u001b[39;00m\n\u001b[1;32m     53\u001b[0m \u001b[39m\"\"\"\u001b[39;00m\n\u001b[1;32m     54\u001b[0m \u001b[39m# when computing univariate statistics for x, pass each through an individual NN with\u001b[39;00m\n\u001b[1;32m     55\u001b[0m \u001b[39m# tanh as final activation\u001b[39;00m\n\u001b[1;32m     56\u001b[0m \u001b[39m# use a NN with tanh as final activation to combine scores\u001b[39;00m\n\u001b[1;32m     57\u001b[0m \u001b[39m# possible modifications:\u001b[39;00m\n\u001b[1;32m     58\u001b[0m \u001b[39m# 1) use torch.histogram instead of np.histogram?\u001b[39;00m\n\u001b[1;32m     59\u001b[0m \u001b[39m# 2) add lots more statistics, these probably aren't enough to characterize a graph\u001b[39;00m\n\u001b[0;32m---> 61\u001b[0m degree_hist, _ \u001b[39m=\u001b[39m torch\u001b[39m.\u001b[39;49mhistogram(\n\u001b[1;32m     62\u001b[0m     np\u001b[39m.\u001b[39;49marray(nx\u001b[39m.\u001b[39;49mdegree_histogram(G)),\n\u001b[1;32m     63\u001b[0m     bins\u001b[39m=\u001b[39;49m\u001b[39mself\u001b[39;49m\u001b[39m.\u001b[39;49mstat_input_dim, \u001b[39mrange\u001b[39;49m\u001b[39m=\u001b[39;49m(\u001b[39m0.0\u001b[39;49m, \u001b[39m1.0\u001b[39;49m), density\u001b[39m=\u001b[39;49m\u001b[39mFalse\u001b[39;49;00m)\n\u001b[1;32m     64\u001b[0m degree_hist \u001b[39m=\u001b[39m torch\u001b[39m.\u001b[39mfrom_numpy(degree_hist)\u001b[39m.\u001b[39mtype(torch\u001b[39m.\u001b[39mFloatTensor)\n\u001b[1;32m     65\u001b[0m degree_hist \u001b[39m=\u001b[39m \u001b[39mself\u001b[39m\u001b[39m.\u001b[39mstat_NNs[\u001b[39m0\u001b[39m](degree_hist)\n",
      "\u001b[0;31mTypeError\u001b[0m: histogram() received an invalid combination of arguments - got (numpy.ndarray, density=bool, range=tuple, bins=int), but expected one of:\n * (Tensor input, Tensor bins, *, Tensor weight, bool density, tuple of Tensors out)\n * (Tensor input, int bins, *, tuple of floats range, Tensor weight, bool density, tuple of Tensors out)\n"
     ]
    }
   ],
   "source": [
    "train(args=args)"
   ]
  },
  {
   "cell_type": "code",
   "execution_count": null,
   "metadata": {},
   "outputs": [],
   "source": []
  }
 ],
 "metadata": {
  "kernelspec": {
   "display_name": "pyg",
   "language": "python",
   "name": "python3"
  },
  "language_info": {
   "codemirror_mode": {
    "name": "ipython",
    "version": 3
   },
   "file_extension": ".py",
   "mimetype": "text/x-python",
   "name": "python",
   "nbconvert_exporter": "python",
   "pygments_lexer": "ipython3",
   "version": "3.10.8"
  },
  "orig_nbformat": 4,
  "vscode": {
   "interpreter": {
    "hash": "f085ef0a02df897ac3423bdc21af5baf9757459c19017fc5fd2d83aad04365f7"
   }
  }
 },
 "nbformat": 4,
 "nbformat_minor": 2
}
